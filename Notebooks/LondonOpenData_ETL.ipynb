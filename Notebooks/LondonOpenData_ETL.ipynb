{
 "cells": [
  {
   "cell_type": "code",
   "execution_count": 11,
   "metadata": {},
   "outputs": [],
   "source": [
    "import os\n",
    "import tqdm\n",
    "from tqdm import trange, tqdm_notebook\n",
    "import pandas as pd\n",
    "import csv\n",
    "import urllib3\n",
    "import requests\n",
    "import urllib.request\n",
    "import numpy as np\n",
    "import time\n",
    "from bs4 import BeautifulSoup\n",
    "import re\n",
    "from IPython.display import Markdown, display\n",
    "import urllib3\n",
    "import boto3\n",
    "import s3fs\n",
    "from urllib3 import PoolManager\n",
    "from tqdm import tqdm_notebook as tqdm\n",
    "import ipywidgets as widgets\n",
    "from ipywidgets import TwoByTwoLayout\n",
    "from ipywidgets import interact, interactive, fixed, interact_manual\n",
    "from ipywidgets import VBox, HBox, Label, Box\n",
    "from ipywidgets import Button, Layout\n",
    "import shutil\n",
    "from os import path\n",
    "\n",
    "urllib3.disable_warnings()\n",
    "manager = PoolManager(10)\n",
    "def printmd(string):\n",
    "    display(Markdown(string))\n",
    "\n",
    "#Set the display max output\n",
    "pd.options.display.max_colwidth = 100\n",
    "\n",
    "#Create connection to AWS S3\n",
    "s3_client = boto3.client('s3')\n",
    "\n",
    "#Set the base url\n",
    "url_base = \"https://data.london.gov.uk/dataset\"\n",
    "\n",
    "#Beautiful soup part\n",
    "response = requests.get(url_base)\n",
    "soup_main = BeautifulSoup(response.text, \"html.parser\")\n",
    "dataframe_website_topic = pd.DataFrame(columns=['Topic', 'Topic_Count', 'Topic_href'])\n",
    "dataframe_website_format = pd.DataFrame(columns=['Format', 'Format_Count', 'Format_href'])"
   ]
  },
  {
   "cell_type": "markdown",
   "metadata": {},
   "source": [
    "# Method to get the available values and frequencies for the requested parameter.\n",
    "\n",
    "Method parses the given URL page and stores all the values together with their count."
   ]
  },
  {
   "cell_type": "code",
   "execution_count": 24,
   "metadata": {},
   "outputs": [],
   "source": [
    "def get_subject_count(req_subject_url):\n",
    "    count_array = []\n",
    "    subjects_array = []\n",
    "    href_array = []\n",
    "    for subject in req_subject_url:\n",
    "        string = (str(subject.find(\"span\", {\"class\":\"dp-facet__count\"}).text))\n",
    "        value = re.findall(r'\\((.*?)\\)', string)[0]\n",
    "        count_array.append(int(value))\n",
    "        subject_string = subject.find(text=True)\n",
    "        subject_string_start = re.search(r'\\w', subject_string)\n",
    "        subject_string_end = subject_string.rfind('\\n')\n",
    "        subject_string = subject_string[int(str(subject_string_start.start(0))): int(str(subject_string_end))]\n",
    "        subjects_array.append(subject_string)\n",
    "        href_array.append(subject['href'][subject['href'].find('=') + 1:])\n",
    "    return subjects_array, count_array, href_array"
   ]
  },
  {
   "cell_type": "markdown",
   "metadata": {},
   "source": [
    "# Get all available topics with their count from the website"
   ]
  },
  {
   "cell_type": "markdown",
   "metadata": {},
   "source": [
    "Find all the tags that correspond to a topic available on the website using BeatufiulSoup methods \"find\" and \"find_all\".  "
   ]
  },
  {
   "cell_type": "code",
   "execution_count": 25,
   "metadata": {},
   "outputs": [],
   "source": [
    "url_topics = soup_main.find(\"div\", {\"class\":\"dp-facet dp-facet--topics\"})\n",
    "url_topics = url_topics.find_all(\"a\", {\"class\": [\"dp-facet__link--hasimg dp-facet__link dp-facet__link--facet-transition\", \"dp-facet__link--hasimg dp-facet__link dp-facet__link--facet-before-transition dp-facet__link--facet-transition\"]},recursive=False)"
   ]
  },
  {
   "cell_type": "markdown",
   "metadata": {},
   "source": [
    "## Store the topics with their count\n",
    "\n",
    "Create a DataFrame to store the topics and their count."
   ]
  },
  {
   "cell_type": "code",
   "execution_count": 26,
   "metadata": {},
   "outputs": [
    {
     "data": {
      "text/markdown": [
       "## Available topics on the website data.london.gov.uk:\n"
      ],
      "text/plain": [
       "<IPython.core.display.Markdown object>"
      ]
     },
     "metadata": {},
     "output_type": "display_data"
    },
    {
     "data": {
      "text/html": [
       "<div>\n",
       "<style scoped>\n",
       "    .dataframe tbody tr th:only-of-type {\n",
       "        vertical-align: middle;\n",
       "    }\n",
       "\n",
       "    .dataframe tbody tr th {\n",
       "        vertical-align: top;\n",
       "    }\n",
       "\n",
       "    .dataframe thead th {\n",
       "        text-align: right;\n",
       "    }\n",
       "</style>\n",
       "<table border=\"1\" class=\"dataframe\">\n",
       "  <thead>\n",
       "    <tr style=\"text-align: right;\">\n",
       "      <th></th>\n",
       "      <th>Topic</th>\n",
       "      <th>Topic_Count</th>\n",
       "      <th>Topic_href</th>\n",
       "    </tr>\n",
       "  </thead>\n",
       "  <tbody>\n",
       "    <tr>\n",
       "      <td>0</td>\n",
       "      <td>Demographics</td>\n",
       "      <td>164</td>\n",
       "      <td>248ec7c0-025e-4b5a-925d-0fccdd1f9e96</td>\n",
       "    </tr>\n",
       "    <tr>\n",
       "      <td>1</td>\n",
       "      <td>Transparency</td>\n",
       "      <td>146</td>\n",
       "      <td>1d5852ed-0315-4472-927a-3d1bdaa4f630</td>\n",
       "    </tr>\n",
       "    <tr>\n",
       "      <td>2</td>\n",
       "      <td>Environment</td>\n",
       "      <td>137</td>\n",
       "      <td>fb70a4e6-311c-41c1-8429-3fe27ebc928a</td>\n",
       "    </tr>\n",
       "    <tr>\n",
       "      <td>3</td>\n",
       "      <td>Employment and Skills</td>\n",
       "      <td>136</td>\n",
       "      <td>50f66ade-4ef9-4814-b2cb-94e5b316d7f6</td>\n",
       "    </tr>\n",
       "    <tr>\n",
       "      <td>4</td>\n",
       "      <td>Business and Economy</td>\n",
       "      <td>108</td>\n",
       "      <td>737cc837-707b-42a9-8f58-c70f35a8eb28</td>\n",
       "    </tr>\n",
       "    <tr>\n",
       "      <td>5</td>\n",
       "      <td>Housing</td>\n",
       "      <td>106</td>\n",
       "      <td>67b1cea4-806d-4b63-90d7-155cf3ac3c03</td>\n",
       "    </tr>\n",
       "    <tr>\n",
       "      <td>6</td>\n",
       "      <td>Planning</td>\n",
       "      <td>103</td>\n",
       "      <td>b781eefa-ff44-44b8-be63-fc3acd37547c</td>\n",
       "    </tr>\n",
       "    <tr>\n",
       "      <td>7</td>\n",
       "      <td>Health</td>\n",
       "      <td>93</td>\n",
       "      <td>4199df0d-d454-4373-b710-aeed29098a59</td>\n",
       "    </tr>\n",
       "    <tr>\n",
       "      <td>8</td>\n",
       "      <td>Transport</td>\n",
       "      <td>89</td>\n",
       "      <td>b35ef9b1-8875-4f7b-8aca-8373cff77d17</td>\n",
       "    </tr>\n",
       "    <tr>\n",
       "      <td>9</td>\n",
       "      <td>Education</td>\n",
       "      <td>69</td>\n",
       "      <td>2c4d2275-67a6-401b-89ca-4ed62556b901</td>\n",
       "    </tr>\n",
       "    <tr>\n",
       "      <td>10</td>\n",
       "      <td>Crime and Community Safety</td>\n",
       "      <td>65</td>\n",
       "      <td>45f26a78-96f6-44e0-846f-701c623f0efd</td>\n",
       "    </tr>\n",
       "    <tr>\n",
       "      <td>11</td>\n",
       "      <td>Young People</td>\n",
       "      <td>56</td>\n",
       "      <td>c16c3149-16d2-435f-a326-8eb3a613dadf</td>\n",
       "    </tr>\n",
       "    <tr>\n",
       "      <td>12</td>\n",
       "      <td>Art and Culture</td>\n",
       "      <td>27</td>\n",
       "      <td>66a92e74-4325-4b62-a0eb-5d851d43a90b</td>\n",
       "    </tr>\n",
       "    <tr>\n",
       "      <td>13</td>\n",
       "      <td>Sport</td>\n",
       "      <td>26</td>\n",
       "      <td>6bfb7207-24fd-492f-b0e5-99a566d716bd</td>\n",
       "    </tr>\n",
       "    <tr>\n",
       "      <td>14</td>\n",
       "      <td>Income, Poverty and Welfare</td>\n",
       "      <td>24</td>\n",
       "      <td>2b08e7dd-8abe-4e10-96e0-899d344639fd</td>\n",
       "    </tr>\n",
       "    <tr>\n",
       "      <td>15</td>\n",
       "      <td>Championing London</td>\n",
       "      <td>16</td>\n",
       "      <td>ade11456-53d3-4524-86f1-9d35b14b9318</td>\n",
       "    </tr>\n",
       "    <tr>\n",
       "      <td>16</td>\n",
       "      <td>London 2012</td>\n",
       "      <td>5</td>\n",
       "      <td>710079a7-7852-46a4-a5d3-d17586a6512f</td>\n",
       "    </tr>\n",
       "  </tbody>\n",
       "</table>\n",
       "</div>"
      ],
      "text/plain": [
       "                          Topic  Topic_Count  \\\n",
       "0                  Demographics          164   \n",
       "1                  Transparency          146   \n",
       "2                   Environment          137   \n",
       "3         Employment and Skills          136   \n",
       "4          Business and Economy          108   \n",
       "5                       Housing          106   \n",
       "6                      Planning          103   \n",
       "7                        Health           93   \n",
       "8                     Transport           89   \n",
       "9                     Education           69   \n",
       "10   Crime and Community Safety           65   \n",
       "11                 Young People           56   \n",
       "12              Art and Culture           27   \n",
       "13                        Sport           26   \n",
       "14  Income, Poverty and Welfare           24   \n",
       "15           Championing London           16   \n",
       "16                  London 2012            5   \n",
       "\n",
       "                              Topic_href  \n",
       "0   248ec7c0-025e-4b5a-925d-0fccdd1f9e96  \n",
       "1   1d5852ed-0315-4472-927a-3d1bdaa4f630  \n",
       "2   fb70a4e6-311c-41c1-8429-3fe27ebc928a  \n",
       "3   50f66ade-4ef9-4814-b2cb-94e5b316d7f6  \n",
       "4   737cc837-707b-42a9-8f58-c70f35a8eb28  \n",
       "5   67b1cea4-806d-4b63-90d7-155cf3ac3c03  \n",
       "6   b781eefa-ff44-44b8-be63-fc3acd37547c  \n",
       "7   4199df0d-d454-4373-b710-aeed29098a59  \n",
       "8   b35ef9b1-8875-4f7b-8aca-8373cff77d17  \n",
       "9   2c4d2275-67a6-401b-89ca-4ed62556b901  \n",
       "10  45f26a78-96f6-44e0-846f-701c623f0efd  \n",
       "11  c16c3149-16d2-435f-a326-8eb3a613dadf  \n",
       "12  66a92e74-4325-4b62-a0eb-5d851d43a90b  \n",
       "13  6bfb7207-24fd-492f-b0e5-99a566d716bd  \n",
       "14  2b08e7dd-8abe-4e10-96e0-899d344639fd  \n",
       "15  ade11456-53d3-4524-86f1-9d35b14b9318  \n",
       "16  710079a7-7852-46a4-a5d3-d17586a6512f  "
      ]
     },
     "execution_count": 26,
     "metadata": {},
     "output_type": "execute_result"
    }
   ],
   "source": [
    "dataframe_website_topic['Topic'], dataframe_website_topic['Topic_Count'], dataframe_website_topic['Topic_href'] = get_subject_count(url_topics)                   \n",
    "printmd(\"## Available topics on the website data.london.gov.uk:\\n\")\n",
    "dataframe_website_topic"
   ]
  },
  {
   "cell_type": "markdown",
   "metadata": {},
   "source": [
    "# Get all available format on the website"
   ]
  },
  {
   "cell_type": "markdown",
   "metadata": {},
   "source": [
    "Find all the tags that correspond to a topic available on the website using BeatufiulSoup methods \"find\" and \"find_all\".  "
   ]
  },
  {
   "cell_type": "code",
   "execution_count": 29,
   "metadata": {},
   "outputs": [],
   "source": [
    "url_format = soup_main.find(\"div\", {\"class\":\"dp-facet dp-facet--format\"})\n",
    "url_format = url_format.find_all(\"a\", {\"class\": [\"dp-facet__link--hasimg dp-facet__link dp-facet__link--facet-transition\", \"dp-facet__link--hasimg dp-facet__link dp-facet__link--facet-before-transition dp-facet__link--facet-transition\"]},recursive=False)"
   ]
  },
  {
   "cell_type": "markdown",
   "metadata": {},
   "source": [
    "## Store the formats with their count"
   ]
  },
  {
   "cell_type": "code",
   "execution_count": 30,
   "metadata": {},
   "outputs": [
    {
     "data": {
      "text/markdown": [
       "## Available formats on the website data.london.gov.uk:\n"
      ],
      "text/plain": [
       "<IPython.core.display.Markdown object>"
      ]
     },
     "metadata": {},
     "output_type": "display_data"
    },
    {
     "data": {
      "text/html": [
       "<div>\n",
       "<style scoped>\n",
       "    .dataframe tbody tr th:only-of-type {\n",
       "        vertical-align: middle;\n",
       "    }\n",
       "\n",
       "    .dataframe tbody tr th {\n",
       "        vertical-align: top;\n",
       "    }\n",
       "\n",
       "    .dataframe thead th {\n",
       "        text-align: right;\n",
       "    }\n",
       "</style>\n",
       "<table border=\"1\" class=\"dataframe\">\n",
       "  <thead>\n",
       "    <tr style=\"text-align: right;\">\n",
       "      <th></th>\n",
       "      <th>Format</th>\n",
       "      <th>Format_Count</th>\n",
       "      <th>Format_href</th>\n",
       "    </tr>\n",
       "  </thead>\n",
       "  <tbody>\n",
       "    <tr>\n",
       "      <td>0</td>\n",
       "      <td>Spreadsheet</td>\n",
       "      <td>564</td>\n",
       "      <td>spreadsheet</td>\n",
       "    </tr>\n",
       "    <tr>\n",
       "      <td>1</td>\n",
       "      <td>CSV File</td>\n",
       "      <td>205</td>\n",
       "      <td>csv</td>\n",
       "    </tr>\n",
       "    <tr>\n",
       "      <td>2</td>\n",
       "      <td>PDF File</td>\n",
       "      <td>193</td>\n",
       "      <td>pdf</td>\n",
       "    </tr>\n",
       "    <tr>\n",
       "      <td>3</td>\n",
       "      <td>Website</td>\n",
       "      <td>120</td>\n",
       "      <td>html</td>\n",
       "    </tr>\n",
       "    <tr>\n",
       "      <td>4</td>\n",
       "      <td>ZIP File</td>\n",
       "      <td>77</td>\n",
       "      <td>zip</td>\n",
       "    </tr>\n",
       "    <tr>\n",
       "      <td>5</td>\n",
       "      <td>API Endpoint</td>\n",
       "      <td>24</td>\n",
       "      <td>api</td>\n",
       "    </tr>\n",
       "    <tr>\n",
       "      <td>6</td>\n",
       "      <td>GeoPackage</td>\n",
       "      <td>24</td>\n",
       "      <td>geopackage</td>\n",
       "    </tr>\n",
       "    <tr>\n",
       "      <td>7</td>\n",
       "      <td>Shapefile</td>\n",
       "      <td>24</td>\n",
       "      <td>shp</td>\n",
       "    </tr>\n",
       "    <tr>\n",
       "      <td>8</td>\n",
       "      <td>XML File</td>\n",
       "      <td>24</td>\n",
       "      <td>xml</td>\n",
       "    </tr>\n",
       "    <tr>\n",
       "      <td>9</td>\n",
       "      <td>Image</td>\n",
       "      <td>11</td>\n",
       "      <td>image</td>\n",
       "    </tr>\n",
       "    <tr>\n",
       "      <td>10</td>\n",
       "      <td>Document</td>\n",
       "      <td>9</td>\n",
       "      <td>document</td>\n",
       "    </tr>\n",
       "    <tr>\n",
       "      <td>11</td>\n",
       "      <td>JSON File</td>\n",
       "      <td>2</td>\n",
       "      <td>json</td>\n",
       "    </tr>\n",
       "    <tr>\n",
       "      <td>12</td>\n",
       "      <td>bin</td>\n",
       "      <td>1</td>\n",
       "      <td>bin</td>\n",
       "    </tr>\n",
       "    <tr>\n",
       "      <td>13</td>\n",
       "      <td>db</td>\n",
       "      <td>1</td>\n",
       "      <td>db</td>\n",
       "    </tr>\n",
       "    <tr>\n",
       "      <td>14</td>\n",
       "      <td>kml</td>\n",
       "      <td>1</td>\n",
       "      <td>kml</td>\n",
       "    </tr>\n",
       "    <tr>\n",
       "      <td>15</td>\n",
       "      <td>msg</td>\n",
       "      <td>1</td>\n",
       "      <td>msg</td>\n",
       "    </tr>\n",
       "    <tr>\n",
       "      <td>16</td>\n",
       "      <td>Slideshow</td>\n",
       "      <td>1</td>\n",
       "      <td>slideshow</td>\n",
       "    </tr>\n",
       "    <tr>\n",
       "      <td>17</td>\n",
       "      <td>tab</td>\n",
       "      <td>1</td>\n",
       "      <td>tab</td>\n",
       "    </tr>\n",
       "    <tr>\n",
       "      <td>18</td>\n",
       "      <td>tar</td>\n",
       "      <td>1</td>\n",
       "      <td>tar</td>\n",
       "    </tr>\n",
       "    <tr>\n",
       "      <td>19</td>\n",
       "      <td>wav</td>\n",
       "      <td>1</td>\n",
       "      <td>wav</td>\n",
       "    </tr>\n",
       "    <tr>\n",
       "      <td>20</td>\n",
       "      <td>Web Map</td>\n",
       "      <td>1</td>\n",
       "      <td>wms</td>\n",
       "    </tr>\n",
       "    <tr>\n",
       "      <td>21</td>\n",
       "      <td>xlsm</td>\n",
       "      <td>1</td>\n",
       "      <td>xlsm</td>\n",
       "    </tr>\n",
       "  </tbody>\n",
       "</table>\n",
       "</div>"
      ],
      "text/plain": [
       "          Format  Format_Count  Format_href\n",
       "0    Spreadsheet           564  spreadsheet\n",
       "1       CSV File           205          csv\n",
       "2       PDF File           193          pdf\n",
       "3        Website           120         html\n",
       "4       ZIP File            77          zip\n",
       "5   API Endpoint            24          api\n",
       "6     GeoPackage            24   geopackage\n",
       "7      Shapefile            24          shp\n",
       "8       XML File            24          xml\n",
       "9          Image            11        image\n",
       "10      Document             9     document\n",
       "11     JSON File             2         json\n",
       "12           bin             1          bin\n",
       "13            db             1           db\n",
       "14           kml             1          kml\n",
       "15           msg             1          msg\n",
       "16     Slideshow             1    slideshow\n",
       "17           tab             1          tab\n",
       "18           tar             1          tar\n",
       "19           wav             1          wav\n",
       "20       Web Map             1          wms\n",
       "21          xlsm             1         xlsm"
      ]
     },
     "execution_count": 30,
     "metadata": {},
     "output_type": "execute_result"
    }
   ],
   "source": [
    "dataframe_website_format['Format'], dataframe_website_format['Format_Count'], dataframe_website_format['Format_href'] = get_subject_count(url_format)\n",
    "printmd(\"## Available formats on the website data.london.gov.uk:\\n\")\n",
    "dataframe_website_format"
   ]
  },
  {
   "cell_type": "markdown",
   "metadata": {},
   "source": [
    "# Example request URL creation using input from the DataFrame\n",
    "\n",
    "Creating a URL request to retrieve all resources that a using the DataFrames created previously."
   ]
  },
  {
   "cell_type": "code",
   "execution_count": 36,
   "metadata": {},
   "outputs": [],
   "source": [
    "# Get files from multiple topics/formats\n",
    "url_file = url_base + \"?topics=\" + dataframe_website_topic[dataframe_website_topic['Topic']=='Demographics']['Topic_href']"
   ]
  },
  {
   "cell_type": "markdown",
   "metadata": {},
   "source": [
    "## Print the created request URL"
   ]
  },
  {
   "cell_type": "code",
   "execution_count": 52,
   "metadata": {},
   "outputs": [
    {
     "name": "stdout",
     "output_type": "stream",
     "text": [
      "0    https://data.london.gov.uk/dataset?topics=248ec7c0-025e-4b5a-925d-0fccdd1f9e96\n",
      "Name: Topic_href, dtype: object\n"
     ]
    }
   ],
   "source": [
    "print(url_file)"
   ]
  },
  {
   "cell_type": "markdown",
   "metadata": {},
   "source": [
    "# Create URL request using the provided method and widgets\n",
    "\n",
    "Method to create a request url with the given topics/formats/search query. Select the parameters for your search query."
   ]
  },
  {
   "cell_type": "code",
   "execution_count": 38,
   "metadata": {},
   "outputs": [],
   "source": [
    "def create_url_request(req_topics, req_formats, req_search_query):\n",
    "    url_request = url_base + \"?\"\n",
    "    if req_topics != ():\n",
    "        for topic in req_topics:\n",
    "            index_topic = dataframe_website_topic.index[dataframe_website_topic['Topic'] == topic].tolist()[0]\n",
    "            url_request = url_request + \"topics=\" + dataframe_website_topic.iloc[index_topic]['Topic_href'] + \"&\"\n",
    "    if req_formats != ():\n",
    "        for format in req_formats:\n",
    "            try:\n",
    "                index_format = dataframe_website_format.index[dataframe_website_format['Format'] == format].tolist()[0]\n",
    "                url_request = url_request + \"format=\" + dataframe_website_format.iloc[index_format]['Format_href'] + \"&\"\n",
    "            except IndexError:\n",
    "                print(\"Please enter a valid format!\")\n",
    "                return 0\n",
    "    if req_search_query != ():\n",
    "        url_request = url_request + \"q=\"\n",
    "        for query_term in req_search_query:\n",
    "            url_request = url_request + query_term + \"%20\"\n",
    "    else:\n",
    "        url_request = url_request[:-1]\n",
    "    return url_request"
   ]
  },
  {
   "cell_type": "code",
   "execution_count": 201,
   "metadata": {
    "scrolled": true
   },
   "outputs": [
    {
     "data": {
      "text/markdown": [
       "## Create a search query:"
      ],
      "text/plain": [
       "<IPython.core.display.Markdown object>"
      ]
     },
     "metadata": {},
     "output_type": "display_data"
    },
    {
     "data": {
      "application/vnd.jupyter.widget-view+json": {
       "model_id": "c579851016cb4ac1bcc2492d078b214b",
       "version_major": 2,
       "version_minor": 0
      },
      "text/plain": [
       "HBox(children=(interactive(children=(SelectMultiple(description='Topics', options=('Demographics', 'Transparen…"
      ]
     },
     "metadata": {},
     "output_type": "display_data"
    }
   ],
   "source": [
    "widget_topic = widgets.SelectMultiple(\n",
    "    options=dataframe_website_topic['Topic'],\n",
    "    rows=10,\n",
    "    description='Topics',\n",
    "    disabled=False\n",
    ")\n",
    "\n",
    "widget_format = widgets.SelectMultiple(\n",
    "    options= dataframe_website_format['Format'],\n",
    "    rows=10,\n",
    "    description='Formats',\n",
    "    disabled=False\n",
    ")\n",
    "\n",
    "widget_search_query = widgets.Textarea(\n",
    "    value= '',\n",
    "    placeholder='Input your search query',\n",
    "    description='Search:',\n",
    "    disabled=False\n",
    ")\n",
    "\n",
    "topics_arr = list()\n",
    "format_arr = list()\n",
    "search_q = list()\n",
    "def topics(x):\n",
    "    topics_arr.append(x)\n",
    "def formats(x):\n",
    "    format_arr.append(x)\n",
    "def search_query(x):\n",
    "    search_q.append(x)\n",
    "\n",
    "    \n",
    "w1 = interactive(topics,  x=widget_topic)\n",
    "w2 = interactive(formats, x=widget_format)\n",
    "w3 = interactive(search_query, x=widget_search_query)\n",
    "printmd(\"## Create a search query:\")\n",
    "HBox([w1, w2, w3])\n"
   ]
  },
  {
   "cell_type": "markdown",
   "metadata": {},
   "source": [
    "## Generate the search query link"
   ]
  },
  {
   "cell_type": "code",
   "execution_count": 207,
   "metadata": {},
   "outputs": [],
   "source": [
    "# Test the method\n",
    "try:\n",
    "    topics_elements = topics_arr[len(topics_arr) - 1] \n",
    "    format_elements= format_arr[len(format_arr) - 1] \n",
    "    search_elements = search_q[len(search_q) - 1]\n",
    "except IndexError:\n",
    "    pass\n",
    "url_request = create_url_request(req_topics = topics_elements, req_formats= format_elements, req_search_query = search_elements.split())"
   ]
  },
  {
   "cell_type": "markdown",
   "metadata": {},
   "source": [
    "## Print the request URL"
   ]
  },
  {
   "cell_type": "code",
   "execution_count": 206,
   "metadata": {},
   "outputs": [
    {
     "data": {
      "text/markdown": [
       "### The request URL: https://data.london.gov.uk/dataset?topics=50f66ade-4ef9-4814-b2cb-94e5b316d7f6&q="
      ],
      "text/plain": [
       "<IPython.core.display.Markdown object>"
      ]
     },
     "metadata": {},
     "output_type": "display_data"
    }
   ],
   "source": [
    "printmd(\"### The request URL: \" + url_request)"
   ]
  },
  {
   "cell_type": "markdown",
   "metadata": {},
   "source": [
    "# Retrieve the number of pages for the generated search query"
   ]
  },
  {
   "cell_type": "markdown",
   "metadata": {},
   "source": [
    "## Method to get the number of pages"
   ]
  },
  {
   "cell_type": "code",
   "execution_count": 57,
   "metadata": {},
   "outputs": [],
   "source": [
    "def get_number_pages_result(req_url):\n",
    "    response = requests.get(req_url)\n",
    "    req_soup_main = BeautifulSoup(response.text, \"html.parser\")\n",
    "    pages_links = req_soup_main.find_all(\"li\", {\"class\": \"dp-search__pagelink\"})\n",
    "    has_results = req_soup_main.find(\"div\", {\"class\" : \"dp-search__no-datasets\"})\n",
    "    if has_results != None:\n",
    "        return 0\n",
    "    else:\n",
    "        pages = [val.string for val in pages_links]\n",
    "        number_pages = pages[len(pages) - 2]\n",
    "        if number_pages == 0:\n",
    "            return number_pages + 1\n",
    "        else:\n",
    "            return number_pages"
   ]
  },
  {
   "cell_type": "markdown",
   "metadata": {},
   "source": [
    "## Test the method"
   ]
  },
  {
   "cell_type": "code",
   "execution_count": 60,
   "metadata": {},
   "outputs": [
    {
     "data": {
      "text/markdown": [
       "### The request url is: https://data.london.gov.uk/dataset?topics=248ec7c0-025e-4b5a-925d-0fccdd1f9e96&format=zip&q="
      ],
      "text/plain": [
       "<IPython.core.display.Markdown object>"
      ]
     },
     "metadata": {},
     "output_type": "display_data"
    },
    {
     "data": {
      "text/markdown": [
       "### The number of pages for the request is: 2"
      ],
      "text/plain": [
       "<IPython.core.display.Markdown object>"
      ]
     },
     "metadata": {},
     "output_type": "display_data"
    }
   ],
   "source": [
    "#Test the method\n",
    "printmd(\"### The request url is: \" + url_request)\n",
    "number_pages = int(get_number_pages_result(url_request))\n",
    "if number_pages == 0:\n",
    "    printmd(\"### No results found.\")\n",
    "else:\n",
    "    printmd(\"### The number of pages for the request is: \" + str(number_pages))"
   ]
  },
  {
   "cell_type": "markdown",
   "metadata": {},
   "source": [
    "## Get all available file formats for a resource \n",
    "\n",
    "The input for this method can be a resource URL(e.g. https://data.london.gov.uk/dataset/approved-food-establishments-)"
   ]
  },
  {
   "cell_type": "code",
   "execution_count": 61,
   "metadata": {},
   "outputs": [
    {
     "data": {
      "application/vnd.jupyter.widget-view+json": {
       "model_id": "98e091170a894c999bb16b05069dcd20",
       "version_major": 2,
       "version_minor": 0
      },
      "text/plain": [
       "HBox(children=(interactive(children=(Textarea(value='', description='Get formats:', layout=Layout(height='90%'…"
      ]
     },
     "metadata": {},
     "output_type": "display_data"
    }
   ],
   "source": [
    "def get_all_available_file_formats(req_url_resource):\n",
    "    response = requests.get(req_url_resource)\n",
    "    current_soup_main = BeautifulSoup(response.text, \"html.parser\")\n",
    "    files_available = []\n",
    "    resource_link = current_soup_main.find_all(\"a\",{\"class\":\"dp-resource__format\"})\n",
    "    for val in resource_link:\n",
    "        try:\n",
    "            files_available.append(val['href'][val['href'].rfind('.') + 1:])\n",
    "        except:\n",
    "            pass\n",
    "    if(files_available == []):\n",
    "        return \"No data available\"\n",
    "    files_available = pd.Series(files_available)\n",
    "    return files_available.value_counts()\n",
    "\n",
    "widget_format_desc = widgets.Textarea(\n",
    "    value= '',\n",
    "    placeholder='Input your resource link',\n",
    "    description='Get formats:',\n",
    "    disabled=False,\n",
    "    layout=Layout(width='500px', height='90%')\n",
    ")\n",
    "formats_link = list()\n",
    "def formats_desc(x):\n",
    "    formats_link.append(x)\n",
    "\n",
    "w5 = interactive(formats_desc, x=widget_format_desc)\n",
    "HBox([w5])"
   ]
  },
  {
   "cell_type": "markdown",
   "metadata": {},
   "source": [
    "## Test the method"
   ]
  },
  {
   "cell_type": "code",
   "execution_count": 64,
   "metadata": {},
   "outputs": [
    {
     "data": {
      "text/markdown": [
       "### Please insert a valid link."
      ],
      "text/plain": [
       "<IPython.core.display.Markdown object>"
      ]
     },
     "metadata": {},
     "output_type": "display_data"
    }
   ],
   "source": [
    "link = formats_link[len(formats_link) - 1]\n",
    "if link != \"\":\n",
    "    printmd(\"### Available file format for the resource:\")\n",
    "    print(get_all_available_file_formats(link))\n",
    "else:\n",
    "    printmd(\"### Please insert a valid link.\")"
   ]
  },
  {
   "cell_type": "markdown",
   "metadata": {},
   "source": [
    "## Get resource description\n",
    "\n",
    "The input for this method can be a resource URL(e.g. https://data.london.gov.uk/dataset/approved-food-establishments-)"
   ]
  },
  {
   "cell_type": "code",
   "execution_count": 63,
   "metadata": {},
   "outputs": [
    {
     "data": {
      "application/vnd.jupyter.widget-view+json": {
       "model_id": "ed46984f481f4caba1fa616bd916a6c3",
       "version_major": 2,
       "version_minor": 0
      },
      "text/plain": [
       "HBox(children=(interactive(children=(Textarea(value='', description='Get desc.:', layout=Layout(height='90%', …"
      ]
     },
     "metadata": {},
     "output_type": "display_data"
    }
   ],
   "source": [
    "def get_resource_description(req_url_resource):\n",
    "    response = requests.get(req_url_resource)\n",
    "    current_soup_main = BeautifulSoup(response.text, \"html.parser\")\n",
    "    description = current_soup_main.find(\"div\",{\"class\":\"dp-dataset__description content\"}).text\n",
    "    return description\n",
    "\n",
    "widget_resource_desc = widgets.Textarea(\n",
    "    value= '',\n",
    "    placeholder='Input your resource link',\n",
    "    description='Get desc.:',\n",
    "    disabled=False,\n",
    "    layout=Layout(width='500px', height='90%')\n",
    ")\n",
    "resource_link = list()\n",
    "def resource_desc(x):\n",
    "    resource_link.append(x)\n",
    "\n",
    "w4 = interactive(resource_desc, x=widget_resource_desc)\n",
    "HBox([w4])\n",
    "#\"https://data.london.gov.uk/dataset/annual-london-survey-2014\""
   ]
  },
  {
   "cell_type": "markdown",
   "metadata": {},
   "source": [
    "## Test the method"
   ]
  },
  {
   "cell_type": "code",
   "execution_count": 66,
   "metadata": {
    "scrolled": true
   },
   "outputs": [
    {
     "data": {
      "text/markdown": [
       "### Please enter a valid link."
      ],
      "text/plain": [
       "<IPython.core.display.Markdown object>"
      ]
     },
     "metadata": {},
     "output_type": "display_data"
    }
   ],
   "source": [
    "try:\n",
    "    if resource_link[len(resource_link) - 1] != \"\":\n",
    "        printmd(\"### Description of the resource:\")\n",
    "    print(get_resource_description(resource_link[len(resource_link) - 1]))\n",
    "except:\n",
    "    printmd(\"### Please enter a valid link.\")"
   ]
  },
  {
   "cell_type": "markdown",
   "metadata": {},
   "source": [
    "# Get all resources for a search"
   ]
  },
  {
   "cell_type": "code",
   "execution_count": 68,
   "metadata": {
    "scrolled": false
   },
   "outputs": [
    {
     "data": {
      "text/markdown": [
       "## Number of pages for the query: 2"
      ],
      "text/plain": [
       "<IPython.core.display.Markdown object>"
      ]
     },
     "metadata": {},
     "output_type": "display_data"
    },
    {
     "data": {
      "application/vnd.jupyter.widget-view+json": {
       "model_id": "9c20f851acbb458bb1e965a51e84c4e3",
       "version_major": 2,
       "version_minor": 0
      },
      "text/plain": [
       "HBox(children=(IntProgress(value=0, description='Pages', max=2, style=ProgressStyle(description_width='initial…"
      ]
     },
     "metadata": {},
     "output_type": "display_data"
    },
    {
     "name": "stdout",
     "output_type": "stream",
     "text": [
      "\n"
     ]
    }
   ],
   "source": [
    "def get_request_results(req_url_request):\n",
    "    request_response = requests.get(req_url_request)\n",
    "    request_soup_main = BeautifulSoup(request_response.text, \"html.parser\")\n",
    "    #Get topics/count from the website\n",
    "    request_url_result = request_soup_main.find(\"ul\", {\"class\":\"dp-search__results\"})\n",
    "    request_url_result = request_url_result.find_all(\"div\", {\"class\":\"dp-searchresult__content\"});\n",
    "    if request_url_result == []:\n",
    "        printmd(\"**No results for your seach query.**\")\n",
    "        return pd.DataFrame(columns=['Title', 'Last_Modified', 'Description', 'Formats_Available', 'Href']), req_url_request\n",
    "    else:\n",
    "        dataframe_request_result = pd.DataFrame(columns=['Title', 'Last_Modified', 'Description', 'Formats_Available', 'Href'])\n",
    "        number_pages = get_number_pages_result(req_url_request)\n",
    "        if number_pages == 0:\n",
    "            number_pages = 1\n",
    "        printmd(\"## Number of pages for the query: \" +str(number_pages))\n",
    "        if(int(number_pages) >= 1):\n",
    "            req_url_request = req_url_request + \"&page=\" \n",
    "            for index_page in tqdm(range(1, int(number_pages) + 1), desc = \"Pages\"):\n",
    "                time.sleep(1)\n",
    "                req_url_request = req_url_request[:req_url_request.rfind('=') + 1] + str(index_page)\n",
    "                request_response = requests.get(req_url_request)\n",
    "                request_soup_main = BeautifulSoup(request_response.text, \"html.parser\")\n",
    "                request_url_result = request_soup_main.find(\"ul\", {\"class\":\"dp-search__results\"})\n",
    "                for result in request_url_result:\n",
    "                    #Href\n",
    "                    href = result.find(\"a\", {\"class\":\"dp-searchresult__heading-link\"})['href']\n",
    "                    #Title\n",
    "                    title = result.find(\"a\", {\"class\":\"dp-searchresult__heading-link\"}).text\n",
    "                    #Last modified\n",
    "                    last_modified = result.find(\"div\", {\"class\":\"dp-searchresult__modified\"}).text\n",
    "                    #Description\n",
    "                    description = get_resource_description(\"https://data.london.gov.uk\" + href)\n",
    "                    #Published by\n",
    "                    published_by = result.find(\"div\", {\"class\":\"dp-searchresult__publishedby\"}).text\n",
    "                    publishedby_start = re.search(r'\\w', published_by)\n",
    "                    publishedby_end = published_by.rfind('\\n')\n",
    "                    published_by = published_by[int(str(publishedby_start.start(0))): int(str(publishedby_end))]\n",
    "                    #Available formats\n",
    "                    url_files = \"https://data.london.gov.uk\" + href\n",
    "                    formats_available = get_all_available_file_formats(url_files)\n",
    "                    #Add to dataframe\n",
    "                    dataframe_request_result = dataframe_request_result.append({'Title' : title, 'Last_Modified': last_modified, 'Description' : description, 'Published_By' : published_by, \"Href\" : href, \"Formats_Available\" : formats_available}, ignore_index = True)        \n",
    "            #url_request = url_request[:url_request.rfind('=') + 1]\n",
    "            req_url_request = req_url_request[:req_url_request.rfind(\"&\")]\n",
    "            return dataframe_request_result, req_url_request\n",
    "\n",
    "\n",
    "# Store the results in a DataFrame\n",
    "df_result, url_request = get_request_results(url_request)"
   ]
  },
  {
   "cell_type": "markdown",
   "metadata": {},
   "source": [
    "## Print the resource results for the query"
   ]
  },
  {
   "cell_type": "code",
   "execution_count": 71,
   "metadata": {
    "scrolled": false
   },
   "outputs": [
    {
     "data": {
      "text/markdown": [
       "## The resources available matching your query:"
      ],
      "text/plain": [
       "<IPython.core.display.Markdown object>"
      ]
     },
     "metadata": {},
     "output_type": "display_data"
    },
    {
     "data": {
      "text/html": [
       "<div>\n",
       "<style scoped>\n",
       "    .dataframe tbody tr th:only-of-type {\n",
       "        vertical-align: middle;\n",
       "    }\n",
       "\n",
       "    .dataframe tbody tr th {\n",
       "        vertical-align: top;\n",
       "    }\n",
       "\n",
       "    .dataframe thead th {\n",
       "        text-align: right;\n",
       "    }\n",
       "</style>\n",
       "<table border=\"1\" class=\"dataframe\">\n",
       "  <thead>\n",
       "    <tr style=\"text-align: right;\">\n",
       "      <th></th>\n",
       "      <th>Title</th>\n",
       "      <th>Last_Modified</th>\n",
       "      <th>Description</th>\n",
       "      <th>Formats_Available</th>\n",
       "      <th>Href</th>\n",
       "      <th>Published_By</th>\n",
       "    </tr>\n",
       "  </thead>\n",
       "  <tbody>\n",
       "    <tr>\n",
       "      <td>0</td>\n",
       "      <td>Housing-led population projections</td>\n",
       "      <td>Updated 13 days ago</td>\n",
       "      <td>The housing-led population projections for London which are produced by GLA Demography estimate ...</td>\n",
       "      <td>xlsx    3\n",
       "pdf     3\n",
       "zip     1\n",
       "dtype: int64</td>\n",
       "      <td>/dataset/housing-led-population-projections</td>\n",
       "      <td>Greater London Authority (GLA)</td>\n",
       "    </tr>\n",
       "    <tr>\n",
       "      <td>1</td>\n",
       "      <td>Trend-based population projections</td>\n",
       "      <td>Updated a month ago</td>\n",
       "      <td>The trend-based population projections for London which are produced by GLA Demography estimate ...</td>\n",
       "      <td>xlsx    9\n",
       "zip     3\n",
       "pdf     3\n",
       "dtype: int64</td>\n",
       "      <td>/dataset/trend-based-population-projections</td>\n",
       "      <td>Greater London Authority (GLA)</td>\n",
       "    </tr>\n",
       "    <tr>\n",
       "      <td>2</td>\n",
       "      <td>London Ward Well-Being Scores</td>\n",
       "      <td>Updated 4 months ago</td>\n",
       "      <td>These ward level well being scores present a combined measure of well-being indicators of the re...</td>\n",
       "      <td>zip                                  1\n",
       "xls                                  1\n",
       "uk/london-ward-wel...</td>\n",
       "      <td>/dataset/london-ward-well-being-scores</td>\n",
       "      <td>Greater London Authority (GLA)</td>\n",
       "    </tr>\n",
       "    <tr>\n",
       "      <td>3</td>\n",
       "      <td>London Borough Profiles and Atlas</td>\n",
       "      <td>Updated 5 months ago</td>\n",
       "      <td>The London Borough Profiles help paint a general picture of an area by presenting a range of hea...</td>\n",
       "      <td>xlsx    2\n",
       "zip     1\n",
       "csv     1\n",
       "dtype: int64</td>\n",
       "      <td>/dataset/london-borough-profiles</td>\n",
       "      <td>Greater London Authority (GLA)</td>\n",
       "    </tr>\n",
       "    <tr>\n",
       "      <td>4</td>\n",
       "      <td>Indices of Deprivation</td>\n",
       "      <td>Updated 5 months ago</td>\n",
       "      <td>\\n This page contains all the English Indices of Deprivation (ID) data for London at LSOA and bo...</td>\n",
       "      <td>xls     2\n",
       "xlsx    1\n",
       "pdf     1\n",
       "csv     1\n",
       "zip     1\n",
       "dtype: int64</td>\n",
       "      <td>/dataset/indices-of-deprivation</td>\n",
       "      <td>Ministry of Housing, Communities &amp; Local Government (MHCLG)</td>\n",
       "    </tr>\n",
       "    <tr>\n",
       "      <td>5</td>\n",
       "      <td>Equality, Diversity and Inclusion Evidence Base for London</td>\n",
       "      <td>Updated 6 months ago</td>\n",
       "      <td>The Mayor has a role to play in leading, shaping and responding to changes in London through the...</td>\n",
       "      <td>xlsx    2\n",
       "pdf     2\n",
       "zip     1\n",
       "dtype: int64</td>\n",
       "      <td>/dataset/equality--diversity-and-inclusion-evidence-base</td>\n",
       "      <td>Greater London Authority (GLA)</td>\n",
       "    </tr>\n",
       "    <tr>\n",
       "      <td>6</td>\n",
       "      <td>Population by Country of Birth</td>\n",
       "      <td>Updated 9 months ago</td>\n",
       "      <td>This dataset shows different breakdowns of London's resident population by their country of birt...</td>\n",
       "      <td>xls                                           2\n",
       "xlsx                                          1\n",
       "...</td>\n",
       "      <td>/dataset/country-of-birth</td>\n",
       "      <td>Office for National Statistics (ONS)</td>\n",
       "    </tr>\n",
       "    <tr>\n",
       "      <td>7</td>\n",
       "      <td>IMA Private Data Download</td>\n",
       "      <td>Updated 9 months ago</td>\n",
       "      <td>Private data from the IMA is available to download through this page, for IMA partners who have ...</td>\n",
       "      <td>No data available</td>\n",
       "      <td>/dataset/ima-private-data-download</td>\n",
       "      <td>Greater London Authority (GLA)</td>\n",
       "    </tr>\n",
       "    <tr>\n",
       "      <td>8</td>\n",
       "      <td>Projected Demand for School Places</td>\n",
       "      <td>Updated 2 years ago</td>\n",
       "      <td>The pan-London demand for school places project is an attempt to provide a consistent view of th...</td>\n",
       "      <td>xlsx    3\n",
       "pdf     2\n",
       "zip     1\n",
       "dtype: int64</td>\n",
       "      <td>/dataset/pan-london-school-place-demand</td>\n",
       "      <td>Greater London Authority (GLA)</td>\n",
       "    </tr>\n",
       "    <tr>\n",
       "      <td>9</td>\n",
       "      <td>London Workplace Zone Classification</td>\n",
       "      <td>Updated 2 years ago</td>\n",
       "      <td>The London Workplace Zone Classification (LWZC) uses data from 2011 census and other sources to ...</td>\n",
       "      <td>pdf                                   2\n",
       "xlsx                                  1\n",
       "xls             ...</td>\n",
       "      <td>/dataset/london-workplace-zone-classification</td>\n",
       "      <td>Census Information Scheme</td>\n",
       "    </tr>\n",
       "    <tr>\n",
       "      <td>10</td>\n",
       "      <td>Mortality Risk from High Temperatures in London (Triple Jeopardy Mapping)</td>\n",
       "      <td>Updated 2 years ago</td>\n",
       "      <td>A heatwave refers to a prolonged period of unusually hot weather. While there is no standard def...</td>\n",
       "      <td>zip    2\n",
       "pdf    2\n",
       "dtype: int64</td>\n",
       "      <td>/dataset/mortality-risk-from-high-temperatures-in-london--triple-jeopardy-mapping-</td>\n",
       "      <td>Greater London Authority (GLA)</td>\n",
       "    </tr>\n",
       "    <tr>\n",
       "      <td>11</td>\n",
       "      <td>London Commissioned Tables System Files</td>\n",
       "      <td>Updated 4 years ago</td>\n",
       "      <td>System files for all 2011 Census commissioned tables currenlty available at OA, LSOA, MSOA and w...</td>\n",
       "      <td>zip    1\n",
       "dtype: int64</td>\n",
       "      <td>/dataset/2011-ct-system-files</td>\n",
       "      <td>Census Information Scheme</td>\n",
       "    </tr>\n",
       "    <tr>\n",
       "      <td>12</td>\n",
       "      <td>Detailed Ethnicity by Age &amp; Sex Ward Tools  (2011 Census)</td>\n",
       "      <td>Updated 4 years ago</td>\n",
       "      <td>A set of tools created by the Census Information Scheme that allows users to explore data from 2...</td>\n",
       "      <td>zip                                              1\n",
       "uk/census/tools/detailed-ethnicity-ward-tool/...</td>\n",
       "      <td>/dataset/detailed-ethnicity-by-age---sex-ward-tools---2011-census--</td>\n",
       "      <td>Census Information Scheme</td>\n",
       "    </tr>\n",
       "    <tr>\n",
       "      <td>13</td>\n",
       "      <td>LSOA Atlas</td>\n",
       "      <td>Updated 5 years ago</td>\n",
       "      <td>The LSOA atlas provides a summary of demographic and related data for each Lower Super Output Ar...</td>\n",
       "      <td>xls    2\n",
       "csv    2\n",
       "zip    1\n",
       "dtype: int64</td>\n",
       "      <td>/dataset/lsoa-atlas</td>\n",
       "      <td>Greater London Authority (GLA)</td>\n",
       "    </tr>\n",
       "  </tbody>\n",
       "</table>\n",
       "</div>"
      ],
      "text/plain": [
       "                                                                        Title  \\\n",
       "0                                          Housing-led population projections   \n",
       "1                                          Trend-based population projections   \n",
       "2                                               London Ward Well-Being Scores   \n",
       "3                                           London Borough Profiles and Atlas   \n",
       "4                                                      Indices of Deprivation   \n",
       "5                  Equality, Diversity and Inclusion Evidence Base for London   \n",
       "6                                              Population by Country of Birth   \n",
       "7                                                   IMA Private Data Download   \n",
       "8                                          Projected Demand for School Places   \n",
       "9                                        London Workplace Zone Classification   \n",
       "10  Mortality Risk from High Temperatures in London (Triple Jeopardy Mapping)   \n",
       "11                                    London Commissioned Tables System Files   \n",
       "12                  Detailed Ethnicity by Age & Sex Ward Tools  (2011 Census)   \n",
       "13                                                                 LSOA Atlas   \n",
       "\n",
       "           Last_Modified  \\\n",
       "0    Updated 13 days ago   \n",
       "1    Updated a month ago   \n",
       "2   Updated 4 months ago   \n",
       "3   Updated 5 months ago   \n",
       "4   Updated 5 months ago   \n",
       "5   Updated 6 months ago   \n",
       "6   Updated 9 months ago   \n",
       "7   Updated 9 months ago   \n",
       "8    Updated 2 years ago   \n",
       "9    Updated 2 years ago   \n",
       "10   Updated 2 years ago   \n",
       "11   Updated 4 years ago   \n",
       "12   Updated 4 years ago   \n",
       "13   Updated 5 years ago   \n",
       "\n",
       "                                                                                            Description  \\\n",
       "0   The housing-led population projections for London which are produced by GLA Demography estimate ...   \n",
       "1   The trend-based population projections for London which are produced by GLA Demography estimate ...   \n",
       "2   These ward level well being scores present a combined measure of well-being indicators of the re...   \n",
       "3   The London Borough Profiles help paint a general picture of an area by presenting a range of hea...   \n",
       "4   \\n This page contains all the English Indices of Deprivation (ID) data for London at LSOA and bo...   \n",
       "5   The Mayor has a role to play in leading, shaping and responding to changes in London through the...   \n",
       "6   This dataset shows different breakdowns of London's resident population by their country of birt...   \n",
       "7   Private data from the IMA is available to download through this page, for IMA partners who have ...   \n",
       "8   The pan-London demand for school places project is an attempt to provide a consistent view of th...   \n",
       "9   The London Workplace Zone Classification (LWZC) uses data from 2011 census and other sources to ...   \n",
       "10  A heatwave refers to a prolonged period of unusually hot weather. While there is no standard def...   \n",
       "11  System files for all 2011 Census commissioned tables currenlty available at OA, LSOA, MSOA and w...   \n",
       "12  A set of tools created by the Census Information Scheme that allows users to explore data from 2...   \n",
       "13  The LSOA atlas provides a summary of demographic and related data for each Lower Super Output Ar...   \n",
       "\n",
       "                                                                                      Formats_Available  \\\n",
       "0                                                            xlsx    3\n",
       "pdf     3\n",
       "zip     1\n",
       "dtype: int64   \n",
       "1                                                            xlsx    9\n",
       "zip     3\n",
       "pdf     3\n",
       "dtype: int64   \n",
       "2   zip                                  1\n",
       "xls                                  1\n",
       "uk/london-ward-wel...   \n",
       "3                                                            xlsx    2\n",
       "zip     1\n",
       "csv     1\n",
       "dtype: int64   \n",
       "4                                        xls     2\n",
       "xlsx    1\n",
       "pdf     1\n",
       "csv     1\n",
       "zip     1\n",
       "dtype: int64   \n",
       "5                                                            xlsx    2\n",
       "pdf     2\n",
       "zip     1\n",
       "dtype: int64   \n",
       "6   xls                                           2\n",
       "xlsx                                          1\n",
       "...   \n",
       "7                                                                                     No data available   \n",
       "8                                                            xlsx    3\n",
       "pdf     2\n",
       "zip     1\n",
       "dtype: int64   \n",
       "9   pdf                                   2\n",
       "xlsx                                  1\n",
       "xls             ...   \n",
       "10                                                                       zip    2\n",
       "pdf    2\n",
       "dtype: int64   \n",
       "11                                                                                zip    1\n",
       "dtype: int64   \n",
       "12  zip                                              1\n",
       "uk/census/tools/detailed-ethnicity-ward-tool/...   \n",
       "13                                                              xls    2\n",
       "csv    2\n",
       "zip    1\n",
       "dtype: int64   \n",
       "\n",
       "                                                                                  Href  \\\n",
       "0                                          /dataset/housing-led-population-projections   \n",
       "1                                          /dataset/trend-based-population-projections   \n",
       "2                                               /dataset/london-ward-well-being-scores   \n",
       "3                                                     /dataset/london-borough-profiles   \n",
       "4                                                      /dataset/indices-of-deprivation   \n",
       "5                             /dataset/equality--diversity-and-inclusion-evidence-base   \n",
       "6                                                            /dataset/country-of-birth   \n",
       "7                                                   /dataset/ima-private-data-download   \n",
       "8                                              /dataset/pan-london-school-place-demand   \n",
       "9                                        /dataset/london-workplace-zone-classification   \n",
       "10  /dataset/mortality-risk-from-high-temperatures-in-london--triple-jeopardy-mapping-   \n",
       "11                                                       /dataset/2011-ct-system-files   \n",
       "12                 /dataset/detailed-ethnicity-by-age---sex-ward-tools---2011-census--   \n",
       "13                                                                 /dataset/lsoa-atlas   \n",
       "\n",
       "                                                   Published_By  \n",
       "0                                Greater London Authority (GLA)  \n",
       "1                                Greater London Authority (GLA)  \n",
       "2                                Greater London Authority (GLA)  \n",
       "3                                Greater London Authority (GLA)  \n",
       "4   Ministry of Housing, Communities & Local Government (MHCLG)  \n",
       "5                                Greater London Authority (GLA)  \n",
       "6                          Office for National Statistics (ONS)  \n",
       "7                                Greater London Authority (GLA)  \n",
       "8                                Greater London Authority (GLA)  \n",
       "9                                     Census Information Scheme  \n",
       "10                               Greater London Authority (GLA)  \n",
       "11                                    Census Information Scheme  \n",
       "12                                    Census Information Scheme  \n",
       "13                               Greater London Authority (GLA)  "
      ]
     },
     "metadata": {},
     "output_type": "display_data"
    }
   ],
   "source": [
    "if df_result.empty == True:\n",
    "    printmd(\"## No results.\")\n",
    "else:\n",
    "    printmd(\"## The resources available matching your query:\")\n",
    "    display(df_result)"
   ]
  },
  {
   "cell_type": "markdown",
   "metadata": {},
   "source": [
    "# Select which file/format to download. Select where to download the resource"
   ]
  },
  {
   "cell_type": "code",
   "execution_count": 189,
   "metadata": {},
   "outputs": [
    {
     "name": "stdout",
     "output_type": "stream",
     "text": [
      "{'xls', 'zip', 'uk/london-ward-well-being-scores/', 'pdf', 'csv', 'uk/london-country-of-birth-2004-2015-tool/', 'uk/census/lwzc/visualisation-tool/', 'uk/census/tools/detailed-ethnicity-ward-tool/', 'xlsx'}\n"
     ]
    }
   ],
   "source": [
    "def get_available_formats_result(req_series):\n",
    "    result = set()\n",
    "    for val in req_series:\n",
    "        try:\n",
    "            a = val.index.tolist()\n",
    "            for val2 in a:\n",
    "                result.add(val2)\n",
    "        except AttributeError:\n",
    "            pass\n",
    "    return result\n",
    "print(get_available_formats_result(df_result['Formats_Available']))"
   ]
  },
  {
   "cell_type": "code",
   "execution_count": 192,
   "metadata": {
    "scrolled": false
   },
   "outputs": [
    {
     "data": {
      "application/vnd.jupyter.widget-view+json": {
       "model_id": "0e3377b525014950bb3045f3ad0bab3d",
       "version_major": 2,
       "version_minor": 0
      },
      "text/plain": [
       "Box(children=(interactive(children=(SelectMultiple(description='Topics', layout=Layout(height='90%', width='90…"
      ]
     },
     "metadata": {},
     "output_type": "display_data"
    }
   ],
   "source": [
    "def get_available_formats_result(req_series):\n",
    "    result = set()\n",
    "    for value_1 in req_series:\n",
    "        try:\n",
    "            val_format = value_1.index.tolist()\n",
    "            for value_2 in val_format:\n",
    "                result.add(value_2)\n",
    "        except AttributeError:\n",
    "            pass\n",
    "    return result\n",
    "\n",
    "widget_file = widgets.SelectMultiple(\n",
    "    options = df_result['Title'],\n",
    "    rows = 10,\n",
    "    description = 'Topics',\n",
    "    disabled = False,\n",
    "    layout=Layout(width='90%', height='90%')\n",
    ")\n",
    "\n",
    "widget_file_format = widgets.SelectMultiple(\n",
    "    options = get_available_formats_result(df_result['Formats_Available']),\n",
    "    rows = 10,\n",
    "    description = 'Formats',\n",
    "    disabled = False,\n",
    "    layout=Layout(width='90%', height='100%')\n",
    ")\n",
    "\n",
    "widget_local = widgets.Checkbox(\n",
    "    value=False,\n",
    "    description='Local storage',\n",
    "    disabled=False,\n",
    "    indent=False\n",
    ")\n",
    "\n",
    "widget_s3 = widgets.Checkbox(\n",
    "    value=False,\n",
    "    description='S3 Storage',\n",
    "    disabled=False,\n",
    "    indent=False\n",
    ")\n",
    "\n",
    "\n",
    "file_arr = list()\n",
    "file_format_arr = list()\n",
    "def files(x):\n",
    "    file_arr.append(x)\n",
    "def files_formats(x):\n",
    "    file_format_arr.append(x)\n",
    "def store_local(x):\n",
    "    pass\n",
    "def store_s3(x):\n",
    "    pass\n",
    "\n",
    "    \n",
    "w2_1= interactive(files,  x=widget_file)\n",
    "w2_2 = interactive(files_formats, x=widget_file_format)\n",
    "w2_3 = interactive(store_local, x=widget_local)\n",
    "w2_4 = interactive(store_s3, x=widget_s3)\n",
    "form_item_layout = Layout(\n",
    "    display='inline-flex',\n",
    "    flex_flow='row',\n",
    "    justify_content='space-between'\n",
    ")\n",
    "\n",
    "form_items = [w2_1, w2_2, w2_3,w2_4]\n",
    "if df_result.empty == False:\n",
    "    form = Box(form_items, layout=Layout(\n",
    "        display='flex',\n",
    "        flex_flow='column',\n",
    "        align_items='stretch',\n",
    "        width='90%'\n",
    "    ))\n",
    "    display(form)\n",
    "else:\n",
    "    printmd(\"**No results for the search query.**\")"
   ]
  },
  {
   "cell_type": "markdown",
   "metadata": {},
   "source": [
    "## Get the selected files/formats"
   ]
  },
  {
   "cell_type": "code",
   "execution_count": 193,
   "metadata": {},
   "outputs": [],
   "source": [
    "try:\n",
    "    files_download = file_arr[len(file_arr) - 1] \n",
    "    files_format_download= file_format_arr[len(file_format_arr) - 1] \n",
    "except IndexError:\n",
    "    pass\n",
    "except NameError:\n",
    "    pass"
   ]
  },
  {
   "cell_type": "code",
   "execution_count": 194,
   "metadata": {
    "scrolled": false
   },
   "outputs": [],
   "source": [
    "#Parameters = req_request_page -> url with the searchj/ req_files -> files to be downloaded\n",
    "def download_items(req_request_page_url, req_files = (), req_format = ()):\n",
    "    number_pages = int(get_number_pages_result(req_request_page_url))\n",
    "    if number_pages == 0:\n",
    "        number_pages = 1\n",
    "    try:\n",
    "        if path.exists(\"../Data/London_DataStore\") != True:\n",
    "            os.mkdir(\"../Data/London_DataStore\")\n",
    "        else:\n",
    "            pass\n",
    "    except OSError:\n",
    "        print(\"Cannot create folder.\")\n",
    "        time.sleep(1)\n",
    "        return 0\n",
    "    for index_page in tqdm(range(1, number_pages + 1), desc = \"Pages\", leave = False):\n",
    "        current_url = req_request_page_url + \"&page=\" + str(index_page)\n",
    "        response = requests.get(current_url)\n",
    "        current_soup_main = BeautifulSoup(response.text, \"html.parser\")\n",
    "        search_results = current_soup_main.find_all(\"a\", {\"class\": \"dp-searchresult__heading-link\"})\n",
    "        search_results_headings = list(map(lambda x: x.text, search_results))\n",
    "        if req_files != None:\n",
    "            search_results_found = list(map(lambda x: True if x in req_files else False, search_results_headings))\n",
    "            indexes_documents = np.where(np.array(search_results_found) == True)[0]\n",
    "        else:\n",
    "            indexes_documents = np.arange(len(search_results_headings))\n",
    "        for current_file_found in tqdm_notebook(indexes_documents, desc = \"Resources\", leave = False):\n",
    "            url_file = \"https://data.london.gov.uk\" + search_results[current_file_found]['href']\n",
    "            response = requests.get(url_file)\n",
    "            title_format = search_results_headings[current_file_found].replace(\"/\", \"_\")\n",
    "            time.sleep(1)\n",
    "            current_soup_main = BeautifulSoup(response.text, \"html.parser\")\n",
    "            search_results_buttons = current_soup_main.find_all(\"a\", {\"class\": \"dp-resource__button\"})\n",
    "            if  req_format != ():\n",
    "                search_results_formats_found = list(map(lambda x: True if x['href'][x['href'].rfind(\".\") + 1:] in req_format else False, search_results_buttons))\n",
    "                index_files = np.where(np.array(search_results_formats_found) == True)[0]\n",
    "                if len(index_files) != 0:\n",
    "                    for current_index in tqdm_notebook(index_files, desc = \"Files\", leave = False):\n",
    "                        filedata = manager.urlopen('GET', url = \"https://data.london.gov.uk\" + search_results_buttons[current_index]['href'], preload_content=False)\n",
    "                        datatowrite = filedata.read()\n",
    "                        title_file = search_results_buttons[current_index]['href'][search_results_buttons[current_index]['href'].rfind(\"/\"):]\n",
    "                        #print(title_file)\n",
    "                        #print(\"https://data.london.gov.uk\" + search_results_buttons[current_index]['href'])\n",
    "                        try:\n",
    "                            os.mkdir(\"../Data/London_DataStore/\" + title_format)\n",
    "                        except OSError:\n",
    "                            time.sleep(1)\n",
    "                        try:\n",
    "                            with open(\"../Data/London_DataStore/\" + title_format + title_file, 'wb') as f:\n",
    "                                f.write(datatowrite)              \n",
    "                            if widget_s3.value == True:   \n",
    "                                s3_client.upload_file(\"../Data/London_DataStore/\" + title_format + title_file, \"uom.bioinformatics\", \"Demo/\" + title_format + title_file) \n",
    "                            if widget_local.value != True:\n",
    "                                shutil.rmtree(\"../Data/London_DataStore/\" + title_format + title_file)\n",
    "                            print(\"File downloaded: \" + title_file + \" from \" + title_format)\n",
    "                        except:\n",
    "                            pass\n",
    "            else:\n",
    "                for current_file in tqdm_notebook(search_results_buttons, desc = \"Files\", leave = False):\n",
    "                    try:\n",
    "                        filedata = manager.urlopen('GET', url = \"https://data.london.gov.uk\" + current_file['href'], preload_content=False)\n",
    "                        datatowrite = filedata.read()\n",
    "                        title_file = current_file['href'][current_file['href'].rfind(\"/\"):]\n",
    "                        try:\n",
    "                            os.mkdir(\"../Data/London_DataStore/\" + title_format)\n",
    "                        except OSError:\n",
    "                            time.sleep(1)\n",
    "                        try:\n",
    "                            with open(\"../Data/London_DataStore/\" + title_format + title_file, 'wb') as f:\n",
    "                                f.write(datatowrite)\n",
    "                            if widget_s3.value == True:   \n",
    "                                s3_client.upload_file(\"../Data/London_DataStore/\" + title_format + title_file, \"uom.bioinformatics\", \"Demo/\" + title_format + title_file)\n",
    "                            if widget_local.value != True:\n",
    "                                shutil.rmtree(\"../Data/London_DataStore/\" + title_format + title_file)\n",
    "                            print(\"File downloaded: \" + title_file + \" from \" + title_format)\n",
    "                        except:\n",
    "                            pass\n",
    "                    except:\n",
    "                        pass\n",
    "    if widget_local.value != True:           \n",
    "        shutil.rmtree(\"../Data/London_DataStore\")\n"
   ]
  },
  {
   "cell_type": "code",
   "execution_count": 195,
   "metadata": {
    "scrolled": false
   },
   "outputs": [
    {
     "data": {
      "text/markdown": [
       "**Please select a location to download the files.**"
      ],
      "text/plain": [
       "<IPython.core.display.Markdown object>"
      ]
     },
     "metadata": {},
     "output_type": "display_data"
    }
   ],
   "source": [
    "if widget_local.value == False and widget_s3.value == False:\n",
    "    printmd(\"**Please select a location to download the files.**\")\n",
    "else:\n",
    "    download_items(url_request, req_files = files_download, req_format = files_format_download)\n",
    "    printmd(\"**Finished downloading the files**\")"
   ]
  }
 ],
 "metadata": {
  "kernelspec": {
   "display_name": "Python 3",
   "language": "python",
   "name": "python3"
  },
  "language_info": {
   "codemirror_mode": {
    "name": "ipython",
    "version": 3
   },
   "file_extension": ".py",
   "mimetype": "text/x-python",
   "name": "python",
   "nbconvert_exporter": "python",
   "pygments_lexer": "ipython3",
   "version": "3.7.4"
  }
 },
 "nbformat": 4,
 "nbformat_minor": 2
}
