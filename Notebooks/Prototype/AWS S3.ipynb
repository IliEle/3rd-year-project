{
 "cells": [
  {
   "cell_type": "code",
   "execution_count": 1,
   "metadata": {},
   "outputs": [],
   "source": [
    "import boto3\n",
    "import s3fs\n",
    "import pandas as pd\n",
    "\n",
    "s3 = boto3.resource('s3')\n",
    "\n",
    "#Create a new session with a different profile\n",
    "alice = boto3.session.Session(profile_name='Alice')\n",
    "s3_alice = alice.resource('s3')"
   ]
  },
  {
   "cell_type": "markdown",
   "metadata": {},
   "source": [
    "# Reading a file from a bucket"
   ]
  },
  {
   "cell_type": "code",
   "execution_count": 3,
   "metadata": {},
   "outputs": [
    {
     "name": "stdout",
     "output_type": "stream",
     "text": [
      "   Unnamed: 0           clinic_name  year  total_spending  number_months  \\\n",
      "0           0  NHS SURREY HEATH CCG  2014    1.345093e+08              5   \n",
      "1           1  NHS SURREY HEATH CCG  2015    3.219660e+08             12   \n",
      "2           2  NHS SURREY HEATH CCG  2016    3.162473e+08             12   \n",
      "3           3  NHS SURREY HEATH CCG  2017    3.716197e+08             12   \n",
      "4           4  NHS SURREY HEATH CCG  2018    3.931158e+08             12   \n",
      "\n",
      "   total_units  mean_units_per_month     std  Q1_total_units  Q2_total_units  \\\n",
      "0        16187               3237.40  260.59             0.0             0.0   \n",
      "1        41153               3429.42  159.91         10030.0         10154.0   \n",
      "2        46515               3876.25  249.57         11176.0         11254.0   \n",
      "3        50409               4200.75  179.42         12371.0         12517.0   \n",
      "4        52643               4386.92  212.97         12641.0         13298.0   \n",
      "\n",
      "   Q3_total_units  Q4_total_units  \n",
      "0          6156.0         10031.0  \n",
      "1         10317.0         10652.0  \n",
      "2         11670.0         12415.0  \n",
      "3         12568.0         12953.0  \n",
      "4         12984.0         13720.0  \n"
     ]
    }
   ],
   "source": [
    "def read_file(req_bucket_name, req_file_path):\n",
    "    try:\n",
    "        file_path = \"s3://\" + req_bucket_name + req_file_path\n",
    "        data = pd.read_csv(file_path)\n",
    "        return data\n",
    "    except Exception as e:\n",
    "        print(\"Unexpected error: %s\" % e)\n",
    "\n",
    "\n",
    "df = read_file('gabrielroscabucket', '/Serotonin.csv')\n",
    "print(df.head())"
   ]
  },
  {
   "cell_type": "markdown",
   "metadata": {},
   "source": [
    "# List all buckets"
   ]
  },
  {
   "cell_type": "code",
   "execution_count": 6,
   "metadata": {},
   "outputs": [
    {
     "name": "stdout",
     "output_type": "stream",
     "text": [
      "['gabrielroscabucket', 'testbucketgabe', 'uom.bioinformatics']\n"
     ]
    }
   ],
   "source": [
    "def list_all_buckests():\n",
    "    try:\n",
    "        bucket_list = [bucket.name for bucket in s3.buckets.all()]\n",
    "        print(bucket_list)\n",
    "    except Exception as e:\n",
    "        print(\"Unexpected error: %s\" % e)\n",
    "        \n",
    "list_all_buckests()"
   ]
  },
  {
   "cell_type": "markdown",
   "metadata": {},
   "source": [
    "# List all files in a bucket"
   ]
  },
  {
   "cell_type": "code",
   "execution_count": 3,
   "metadata": {
    "scrolled": true
   },
   "outputs": [
    {
     "name": "stdout",
     "output_type": "stream",
     "text": [
      "LondonOpenData/\n",
      "LondonOpenData/Health/\n",
      "LondonOpenData/Health/Animal rescue incidents attended by LFB – London Datastore/\n",
      "LondonOpenData/Health/Animal rescue incidents attended by LFB – London Datastore/Animal rescue incidents attended by LFB - London Datastore.csv\n",
      "LondonOpenData/Health/Bariatric incidents attended by LFB – London Datastore/\n",
      "LondonOpenData/Health/Bariatric incidents attended by LFB – London Datastore/Bariatric incidents attended by LFB – London Datastore.csv\n",
      "LondonOpenData/Health/Breathe London AQMesh pods – London Datastore/\n",
      "LondonOpenData/Health/Breathe London AQMesh pods – London Datastore/Breathe London AQMesh pods – London Datastore.csv\n",
      "OpenPrescribing/\n",
      "Spam/\n",
      "Spam/spambase_csv.csv\n",
      "UrbanObservatory/\n",
      "data_meta.csv\n"
     ]
    }
   ],
   "source": [
    "def list_all_buckests(req_bucket_name = \"\", req_bucket = None):\n",
    "    try:\n",
    "        objects_list = list()\n",
    "        if req_bucket_name != \"\":\n",
    "            my_bucket = s3.Bucket(req_bucket_name)\n",
    "        elif req_bucket != None:\n",
    "            my_bucket = req_bucket\n",
    "        else:\n",
    "            print(\"Please provide an argument\")\n",
    "            return None\n",
    "        for object in my_bucket.objects.all():\n",
    "            objects_list.append(object)\n",
    "            print(object.key)\n",
    "        return objects_list\n",
    "    except Exception as e:\n",
    "        print(\"Unexpected error: %s\" % e)\n",
    "        \n",
    "\n",
    "my_bucket = s3.Bucket(\"uom.bioinformatics\")       \n",
    "files = list_all_buckests(req_bucket = my_bucket)"
   ]
  },
  {
   "cell_type": "markdown",
   "metadata": {},
   "source": [
    "# Download a file from a bucket"
   ]
  },
  {
   "cell_type": "code",
   "execution_count": 8,
   "metadata": {
    "scrolled": true
   },
   "outputs": [
    {
     "name": "stdout",
     "output_type": "stream",
     "text": [
      "Unexpected error: An error occurred (403) when calling the HeadObject operation: Forbidden\n"
     ]
    }
   ],
   "source": [
    "def download_file(req_bucket, req_file_name, req_file_save_name):\n",
    "    try:\n",
    "        req_bucket.download_file(req_file_name, req_file_save_name)\n",
    "    except Exception as e:\n",
    "        print(\"Unexpected error: %s\" %e)\n",
    "\n",
    "my_bucket = s3_alice.Bucket('gabrielroscabucket')\n",
    "download_file(my_bucket, 'Serotonin.csv', 'Data2.csv')"
   ]
  },
  {
   "cell_type": "markdown",
   "metadata": {},
   "source": [
    "# Uploading a file to a bucket"
   ]
  },
  {
   "cell_type": "code",
   "execution_count": 9,
   "metadata": {},
   "outputs": [],
   "source": [
    "my_bucket = s3_alice.Bucket('uom.bioinformatics')\n",
    "s3_client = boto3.client('s3')\n",
    "\n",
    "\n",
    "#Create a *folder*\n",
    "bucket_name = \"uom.bioinformatics\"\n",
    "directory_name = \"Transport\" \n",
    "s3_client.put_object(Bucket=bucket_name, Key=(directory_name+'/'))\n",
    "\n",
    "s3_client.upload_file(\"../data_meta.csv\", \"uom.bioinformatics\", \"LondonOpenData/Health/data_meta.csv\")"
   ]
  },
  {
   "cell_type": "code",
   "execution_count": 10,
   "metadata": {},
   "outputs": [
    {
     "data": {
      "text/plain": [
       "{'ResponseMetadata': {'RequestId': 'EA59084948CD4544',\n",
       "  'HostId': '4q9FjtGIZA9F3PgjLmaR3ZVkNcxnEjZK4Vb15JgN/rbq6QqnwiPpg2txtMheN6cBHzf9wgXQCiI=',\n",
       "  'HTTPStatusCode': 200,\n",
       "  'HTTPHeaders': {'x-amz-id-2': '4q9FjtGIZA9F3PgjLmaR3ZVkNcxnEjZK4Vb15JgN/rbq6QqnwiPpg2txtMheN6cBHzf9wgXQCiI=',\n",
       "   'x-amz-request-id': 'EA59084948CD4544',\n",
       "   'date': 'Thu, 13 Feb 2020 22:11:46 GMT',\n",
       "   'x-amz-version-id': 'Rcrb2pNGnwz7hZHvLw4eCVkFlHL3DuhA',\n",
       "   'etag': '\"d41d8cd98f00b204e9800998ecf8427e\"',\n",
       "   'content-length': '0',\n",
       "   'server': 'AmazonS3'},\n",
       "  'RetryAttempts': 0},\n",
       " 'ETag': '\"d41d8cd98f00b204e9800998ecf8427e\"',\n",
       " 'VersionId': 'Rcrb2pNGnwz7hZHvLw4eCVkFlHL3DuhA'}"
      ]
     },
     "execution_count": 10,
     "metadata": {},
     "output_type": "execute_result"
    }
   ],
   "source": [
    "#Create a *folder*\n",
    "bucket_name = \"uom.bioinformatics\"\n",
    "directory_name = \"Download_Test\" \n",
    "s3_client.put_object(Bucket=bucket_name, Key=(directory_name+'/'))"
   ]
  },
  {
   "cell_type": "code",
   "execution_count": null,
   "metadata": {},
   "outputs": [],
   "source": []
  }
 ],
 "metadata": {
  "kernelspec": {
   "display_name": "Python 3",
   "language": "python",
   "name": "python3"
  },
  "language_info": {
   "codemirror_mode": {
    "name": "ipython",
    "version": 3
   },
   "file_extension": ".py",
   "mimetype": "text/x-python",
   "name": "python",
   "nbconvert_exporter": "python",
   "pygments_lexer": "ipython3",
   "version": "3.7.4"
  }
 },
 "nbformat": 4,
 "nbformat_minor": 2
}
