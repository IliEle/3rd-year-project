{
 "cells": [
  {
   "cell_type": "markdown",
   "metadata": {},
   "source": [
    "## Connecting to Amazon S3 database"
   ]
  },
  {
   "cell_type": "code",
   "execution_count": 6,
   "metadata": {},
   "outputs": [],
   "source": [
    "import logging\n",
    "import boto3\n",
    "\n",
    "s3 = boto3.resource('s3')"
   ]
  },
  {
   "cell_type": "markdown",
   "metadata": {},
   "source": [
    "## Getting all buckets"
   ]
  },
  {
   "cell_type": "code",
   "execution_count": 2,
   "metadata": {},
   "outputs": [
    {
     "name": "stdout",
     "output_type": "stream",
     "text": [
      "Existing buckets:\n",
      "gabrielroscabucket\n",
      "testbucketgabe\n"
     ]
    }
   ],
   "source": [
    "print(\"Existing buckets:\")\n",
    "for bucket in s3.buckets.all():\n",
    "    print(bucket.name)"
   ]
  },
  {
   "cell_type": "markdown",
   "metadata": {},
   "source": [
    "## Adding a new file to a bucket"
   ]
  },
  {
   "cell_type": "code",
   "execution_count": 3,
   "metadata": {},
   "outputs": [
    {
     "data": {
      "text/plain": [
       "s3.Object(bucket_name='gabrielroscabucket', key='Serotonin.csv')"
      ]
     },
     "execution_count": 3,
     "metadata": {},
     "output_type": "execute_result"
    }
   ],
   "source": [
    "data = open('data.csv', 'rb')\n",
    "s3.Bucket('gabrielroscabucket').put_object(Key='Data.csv', Body=data)\n",
    "data = open('Serotonin.csv', 'rb')\n",
    "s3.Bucket('gabrielroscabucket').put_object(Key='Serotonin.csv', Body=data)"
   ]
  },
  {
   "cell_type": "markdown",
   "metadata": {},
   "source": [
    "## Downloading a file from a bucket"
   ]
  },
  {
   "cell_type": "code",
   "execution_count": 4,
   "metadata": {},
   "outputs": [],
   "source": [
    "#s3.download_file('gabrielroscabucket', 'OBJECT_NAME', 'FILE_NAME')"
   ]
  },
  {
   "cell_type": "code",
   "execution_count": 15,
   "metadata": {},
   "outputs": [],
   "source": [
    "import boto3\n",
    "s3_resource = boto3.resource('s3')\n",
    "bucket = s3_resource.Bucket(name='gabrielroscabucket')\n",
    "for file in bucket.objects.all():\n",
    "    # do what you want wi"
   ]
  },
  {
   "cell_type": "code",
   "execution_count": 19,
   "metadata": {},
   "outputs": [
    {
     "name": "stdout",
     "output_type": "stream",
     "text": [
      "2019-10-21 15:14:28     111646 Data.csv\r\n",
      "2019-10-21 15:14:28     116278 Serotonin.csv\r\n"
     ]
    }
   ],
   "source": [
    "!aws s3 ls gabrielroscabucket"
   ]
  },
  {
   "cell_type": "code",
   "execution_count": 4,
   "metadata": {},
   "outputs": [],
   "source": [
    "import s3fs\n",
    "import pandas as pd\n",
    "# csv file\n",
    "df = pd.read_csv('s3://gabrielroscabucket/Data.csv')\n",
    "\n"
   ]
  },
  {
   "cell_type": "code",
   "execution_count": 5,
   "metadata": {},
   "outputs": [
    {
     "data": {
      "text/html": [
       "<div>\n",
       "<style scoped>\n",
       "    .dataframe tbody tr th:only-of-type {\n",
       "        vertical-align: middle;\n",
       "    }\n",
       "\n",
       "    .dataframe tbody tr th {\n",
       "        vertical-align: top;\n",
       "    }\n",
       "\n",
       "    .dataframe thead th {\n",
       "        text-align: right;\n",
       "    }\n",
       "</style>\n",
       "<table border=\"1\" class=\"dataframe\">\n",
       "  <thead>\n",
       "    <tr style=\"text-align: right;\">\n",
       "      <th></th>\n",
       "      <th>Unnamed: 0</th>\n",
       "      <th>year</th>\n",
       "      <th>total_spending</th>\n",
       "      <th>number_months</th>\n",
       "      <th>total_units</th>\n",
       "      <th>mean_units_per_month</th>\n",
       "      <th>std</th>\n",
       "      <th>Q1_total_units</th>\n",
       "      <th>Q2_total_units</th>\n",
       "      <th>Q3_total_units</th>\n",
       "      <th>Q4_total_units</th>\n",
       "    </tr>\n",
       "  </thead>\n",
       "  <tbody>\n",
       "    <tr>\n",
       "      <th>0</th>\n",
       "      <td>NHS SURREY HEATH CCG</td>\n",
       "      <td>2014</td>\n",
       "      <td>1.345093e+08</td>\n",
       "      <td>5</td>\n",
       "      <td>16187</td>\n",
       "      <td>3237.40</td>\n",
       "      <td>260.59</td>\n",
       "      <td>0.0</td>\n",
       "      <td>0.0</td>\n",
       "      <td>6156.0</td>\n",
       "      <td>10031.0</td>\n",
       "    </tr>\n",
       "    <tr>\n",
       "      <th>1</th>\n",
       "      <td>NHS SURREY HEATH CCG</td>\n",
       "      <td>2015</td>\n",
       "      <td>3.219660e+08</td>\n",
       "      <td>12</td>\n",
       "      <td>41153</td>\n",
       "      <td>3429.42</td>\n",
       "      <td>159.91</td>\n",
       "      <td>10030.0</td>\n",
       "      <td>10154.0</td>\n",
       "      <td>10317.0</td>\n",
       "      <td>10652.0</td>\n",
       "    </tr>\n",
       "    <tr>\n",
       "      <th>2</th>\n",
       "      <td>NHS SURREY HEATH CCG</td>\n",
       "      <td>2016</td>\n",
       "      <td>3.162473e+08</td>\n",
       "      <td>12</td>\n",
       "      <td>46515</td>\n",
       "      <td>3876.25</td>\n",
       "      <td>249.57</td>\n",
       "      <td>11176.0</td>\n",
       "      <td>11254.0</td>\n",
       "      <td>11670.0</td>\n",
       "      <td>12415.0</td>\n",
       "    </tr>\n",
       "    <tr>\n",
       "      <th>3</th>\n",
       "      <td>NHS SURREY HEATH CCG</td>\n",
       "      <td>2017</td>\n",
       "      <td>3.716197e+08</td>\n",
       "      <td>12</td>\n",
       "      <td>50409</td>\n",
       "      <td>4200.75</td>\n",
       "      <td>179.42</td>\n",
       "      <td>12371.0</td>\n",
       "      <td>12517.0</td>\n",
       "      <td>12568.0</td>\n",
       "      <td>12953.0</td>\n",
       "    </tr>\n",
       "    <tr>\n",
       "      <th>4</th>\n",
       "      <td>NHS SURREY HEATH CCG</td>\n",
       "      <td>2018</td>\n",
       "      <td>3.931158e+08</td>\n",
       "      <td>12</td>\n",
       "      <td>52643</td>\n",
       "      <td>4386.92</td>\n",
       "      <td>212.97</td>\n",
       "      <td>12641.0</td>\n",
       "      <td>13298.0</td>\n",
       "      <td>12984.0</td>\n",
       "      <td>13720.0</td>\n",
       "    </tr>\n",
       "  </tbody>\n",
       "</table>\n",
       "</div>"
      ],
      "text/plain": [
       "             Unnamed: 0  year  total_spending  number_months  total_units  \\\n",
       "0  NHS SURREY HEATH CCG  2014    1.345093e+08              5        16187   \n",
       "1  NHS SURREY HEATH CCG  2015    3.219660e+08             12        41153   \n",
       "2  NHS SURREY HEATH CCG  2016    3.162473e+08             12        46515   \n",
       "3  NHS SURREY HEATH CCG  2017    3.716197e+08             12        50409   \n",
       "4  NHS SURREY HEATH CCG  2018    3.931158e+08             12        52643   \n",
       "\n",
       "   mean_units_per_month     std  Q1_total_units  Q2_total_units  \\\n",
       "0               3237.40  260.59             0.0             0.0   \n",
       "1               3429.42  159.91         10030.0         10154.0   \n",
       "2               3876.25  249.57         11176.0         11254.0   \n",
       "3               4200.75  179.42         12371.0         12517.0   \n",
       "4               4386.92  212.97         12641.0         13298.0   \n",
       "\n",
       "   Q3_total_units  Q4_total_units  \n",
       "0          6156.0         10031.0  \n",
       "1         10317.0         10652.0  \n",
       "2         11670.0         12415.0  \n",
       "3         12568.0         12953.0  \n",
       "4         12984.0         13720.0  "
      ]
     },
     "execution_count": 5,
     "metadata": {},
     "output_type": "execute_result"
    }
   ],
   "source": [
    "df.head()"
   ]
  },
  {
   "cell_type": "code",
   "execution_count": null,
   "metadata": {},
   "outputs": [],
   "source": []
  }
 ],
 "metadata": {
  "kernelspec": {
   "display_name": "Python 3",
   "language": "python",
   "name": "python3"
  },
  "language_info": {
   "codemirror_mode": {
    "name": "ipython",
    "version": 3
   },
   "file_extension": ".py",
   "mimetype": "text/x-python",
   "name": "python",
   "nbconvert_exporter": "python",
   "pygments_lexer": "ipython3",
   "version": "3.7.3"
  }
 },
 "nbformat": 4,
 "nbformat_minor": 2
}
