{
 "cells": [
  {
   "cell_type": "code",
   "execution_count": 3,
   "metadata": {},
   "outputs": [],
   "source": [
    "import os\n",
    "import pandas as pd\n",
    "import csv\n",
    "import urllib3\n",
    "import requests\n",
    "import urllib.request\n",
    "import time\n",
    "from bs4 import BeautifulSoup\n",
    "import re\n",
    "\n",
    "directory = \"../Data/London/\"\n",
    "index_file = 0\n",
    "data_files = pd.DataFrame(columns=[\"File_Name\", \"Description\"])"
   ]
  },
  {
   "cell_type": "markdown",
   "metadata": {},
   "source": [
    "# Get all files in the directory"
   ]
  },
  {
   "cell_type": "code",
   "execution_count": 4,
   "metadata": {
    "collapsed": true
   },
   "outputs": [
    {
     "name": "stdout",
     "output_type": "stream",
     "text": [
      "Directory: Census 2001 Key Statistics 21: Long Term Illness   London Datastore\n",
      "File :Census 2001 Key Statistics 21: Long Term Illness   London Datastore.csv\n",
      "\n",
      "Directory: Road Collisions by Severity   London Datastore\n",
      "File :Road Collisions by Severity   London Datastore.csv\n",
      "\n",
      "Directory: Life Expectancy at Birth and Age 65 by Ward   London Datastore\n",
      "File :Life Expectancy at Birth and Age 65 by Ward   London Datastore.csv\n",
      "\n",
      "Directory: Number of Registered Blind and Partially Sighted People with an Additional Disability by Category, Borough   London Datastore\n",
      "File :Number of Registered Blind and Partially Sighted People with an Additional Disability by Category, Borough   London Datastore.csv\n",
      "\n",
      "Directory: Drug Treatment Rates   London Datastore\n",
      "File :Drug Treatment Rates   London Datastore.csv\n",
      "\n",
      "Directory: Physically Active Children, Borough   London Datastore\n",
      "File :Physically Active Children, Borough   London Datastore.csv\n",
      "\n",
      "Directory: Estimation of Health Impacts of Particulate Pollution in London   London Datastore\n",
      "File :Estimation of Health Impacts of Particulate Pollution in London   London Datastore.csv\n",
      "\n",
      "Directory: myhealthlondon Indicators   London Datastore\n",
      "File :myhealthlondon Indicators   London Datastore.csv\n",
      "\n",
      "Directory: Financial Capability and Child Poverty   London Datastore\n",
      "File :Financial Capability and Child Poverty   London Datastore.csv\n",
      "\n",
      "Directory: Bariatric incidents attended by LFB   London Datastore\n",
      "File :Bariatric incidents attended by LFB   London Datastore.csv\n",
      "\n",
      "Directory: Natural Capital Account for London   London Datastore\n",
      "File :Natural Capital Account for London   London Datastore.csv\n",
      "\n",
      "Directory: Life Expectancy by Deprivation   London Datastore\n",
      "File :Life Expectancy by Deprivation   London Datastore.csv\n",
      "\n",
      "Directory: myhealthlondon Maternity Indicators   London Datastore\n",
      "File :myhealthlondon Maternity Indicators   London Datastore.csv\n",
      "\n",
      "Directory: Public Toilets   London Datastore\n",
      "File :Public Toilets   London Datastore.csv\n",
      "\n",
      "Directory: GLA Grants data   London Datastore\n",
      "File :GLA Grants data   London Datastore.csv\n",
      "\n",
      "Directory: Breathe London AQMesh pods   London Datastore\n",
      "File :Breathe London AQMesh pods   London Datastore.csv\n",
      "\n",
      "Directory: Animal rescue incidents attended by LFB   London Datastore\n",
      "File :Animal rescue incidents attended by LFB   London Datastore.csv\n",
      "\n",
      "Directory: Number of People Registered as Deaf or Hard of Hearing by Age Group, Borough   London Datastore\n",
      "File :Number of People Registered as Deaf or Hard of Hearing by Age Group, Borough   London Datastore.csv\n",
      "\n",
      "Directory: Number of Registered Blind and Partially Sighted People by Age Group, Borough   London Datastore\n",
      "File :Number of Registered Blind and Partially Sighted People by Age Group, Borough   London Datastore.csv\n",
      "\n",
      "Directory: Physically Active Children   London Datastore\n",
      "File :Physically Active Children   London Datastore.csv\n",
      "\n",
      "Directory: Road Casualties by Severity   London Datastore\n",
      "File :Road Casualties by Severity   London Datastore.csv\n",
      "\n",
      "Directory: Prevalence of Common Mental Health Problems, Borough   London Datastore\n",
      "File :Prevalence of Common Mental Health Problems, Borough   London Datastore.csv\n",
      "\n",
      "Directory: Census 2001 Key Statistics 08: Health   London Datastore\n",
      "File :Census 2001 Key Statistics 08: Health   London Datastore.csv\n",
      "\n"
     ]
    }
   ],
   "source": [
    "for subdir_1 in os.listdir(directory):\n",
    "    if not subdir_1.startswith(\".\"):\n",
    "        print(\"Directory: \" + subdir_1)\n",
    "        for subdir_2 in os.listdir(directory + subdir_1):\n",
    "            print(\"File :\" + subdir_2) \n",
    "        print()"
   ]
  },
  {
   "cell_type": "markdown",
   "metadata": {},
   "source": [
    "# Download files from the website\n",
    "\n",
    "Store the files in folders and create a .csv file with the file names and descriptions extracted from the website\n"
   ]
  },
  {
   "cell_type": "code",
   "execution_count": 7,
   "metadata": {},
   "outputs": [
    {
     "name": "stdout",
     "output_type": "stream",
     "text": [
      "Total number of pages: 3\n",
      "Current page:1\n"
     ]
    },
    {
     "name": "stderr",
     "output_type": "stream",
     "text": [
      "/Users/gabrielrosca98/opt/anaconda3/lib/python3.7/site-packages/IPython/core/interactiveshell.py:3249: DtypeWarning: Columns (10,11,15,18) have mixed types. Specify dtype option on import or set low_memory=False.\n",
      "  if (await self.run_code(code, result,  async_=asy)):\n",
      "/Users/gabrielrosca98/opt/anaconda3/lib/python3.7/site-packages/IPython/core/interactiveshell.py:3249: DtypeWarning: Columns (7) have mixed types. Specify dtype option on import or set low_memory=False.\n",
      "  if (await self.run_code(code, result,  async_=asy)):\n"
     ]
    },
    {
     "name": "stdout",
     "output_type": "stream",
     "text": [
      "Current page:2\n",
      "Current page:3\n"
     ]
    }
   ],
   "source": [
    "url = 'https://data.london.gov.uk/dataset?format=csv&topics=4199df0d-d454-4373-b710-aeed29098a59'\n",
    "response = requests.get(url)\n",
    "soup_main = BeautifulSoup(response.text, \"html.parser\")\n",
    "\n",
    "#Get the number of pages\n",
    "pages_links = soup_main.find_all(\"li\", {\"class\": \"dp-search__pagelink\"})\n",
    "pages = [val.string for val in pages_links]\n",
    "number_pages = pages[len(pages) - 2]\n",
    "print(\"Total number of pages: \" + str(number_pages))\n",
    "\n",
    "for index_page in range(1, int(number_pages) + 1):\n",
    "    current_url_page = \"https://data.london.gov.uk/dataset?format=csv&topics=4199df0d-d454-4373-b710-aeed29098a59\" + \"&page=\" + str(index_page)\n",
    "    response = requests.get(current_url_page)\n",
    "    soup_main = BeautifulSoup(response.text, \"html.parser\")\n",
    "    search_results = soup_main.find_all(\"a\", {\"class\": \"dp-searchresult__heading-link\"})\n",
    "    print(\"Current page:\" + str(index_page))\n",
    "    index_file = download_items(search_results, index_file)"
   ]
  },
  {
   "cell_type": "code",
   "execution_count": 6,
   "metadata": {
    "scrolled": true
   },
   "outputs": [],
   "source": [
    "def download_items(search_results, index_file):\n",
    "    cleaner = re.compile('<.*?>')\n",
    "    data = list()\n",
    "    index = 0\n",
    "    description_data = list()\n",
    "    for link in search_results:\n",
    "        url_specific = \"https://data.london.gov.uk\"\n",
    "        dataset_url = url_specific + link['href']\n",
    "        response = requests.get(dataset_url)\n",
    "        soup_file = BeautifulSoup(response.text, \"html.parser\")\n",
    "        buttons_page = soup_file.find_all(\"a\", {\"class\": \"dp-resource__button\"})\n",
    "        for link_2 in buttons_page:\n",
    "            url_download = url_specific + link_2['href']\n",
    "            if(link_2['href'].endswith(\".csv\")):\n",
    "                title_file = re.sub(cleaner, '', str(soup_file.title))\n",
    "                title_file = re.sub(r'[^\\x00-\\x7F]+',' ', title_file)\n",
    "                try:\n",
    "                    os.mkdir(\"../Data/London/\" + title_file)\n",
    "                except OSError:\n",
    "                    time.sleep(1)\n",
    "                data_download = pd.read_csv(url_download, sep=\",\", encoding='cp1252')  \n",
    "                data_download.to_csv('../Data/London/' + title_file + \"/\" + title_file + \".csv\" , index=True)\n",
    "                time.sleep(1)\n",
    "        description_file = soup_file.find(\"div\", {\"class\": \"dp-dataset__description content\"})\n",
    "        description = \"\"\n",
    "        for tag in description_file: \n",
    "            cleantext = re.sub(cleaner, '', str(tag))\n",
    "            description += cleantext\n",
    "        description_data.append(description)\n",
    "        data_files.loc[index_file] = [re.sub(cleaner, '', re.sub(r'[^\\x00-\\x7F]+',' ', str(soup_file.title))), description]\n",
    "        index_file = index_file + 1\n",
    "        time.sleep(1)\n",
    "    return index_file"
   ]
  },
  {
   "cell_type": "markdown",
   "metadata": {},
   "source": [
    "# Data files indexer"
   ]
  },
  {
   "cell_type": "code",
   "execution_count": 10,
   "metadata": {},
   "outputs": [
    {
     "data": {
      "text/html": [
       "<div>\n",
       "<style scoped>\n",
       "    .dataframe tbody tr th:only-of-type {\n",
       "        vertical-align: middle;\n",
       "    }\n",
       "\n",
       "    .dataframe tbody tr th {\n",
       "        vertical-align: top;\n",
       "    }\n",
       "\n",
       "    .dataframe thead th {\n",
       "        text-align: right;\n",
       "    }\n",
       "</style>\n",
       "<table border=\"1\" class=\"dataframe\">\n",
       "  <thead>\n",
       "    <tr style=\"text-align: right;\">\n",
       "      <th></th>\n",
       "      <th>File_Name</th>\n",
       "      <th>Description</th>\n",
       "    </tr>\n",
       "  </thead>\n",
       "  <tbody>\n",
       "    <tr>\n",
       "      <td>0</td>\n",
       "      <td>Bariatric incidents attended by LFB – London D...</td>\n",
       "      <td>The London Fire Brigade attends a range of non...</td>\n",
       "    </tr>\n",
       "    <tr>\n",
       "      <td>1</td>\n",
       "      <td>Animal rescue incidents attended by LFB – Lond...</td>\n",
       "      <td>The London Fire Brigade attends a range of non...</td>\n",
       "    </tr>\n",
       "    <tr>\n",
       "      <td>2</td>\n",
       "      <td>GLA Grants data – London Datastore</td>\n",
       "      <td>The GLA Grants Dataset contains data relating ...</td>\n",
       "    </tr>\n",
       "    <tr>\n",
       "      <td>3</td>\n",
       "      <td>Breathe London AQMesh pods – London Datastore</td>\n",
       "      <td>The Breathe London stationary network is made ...</td>\n",
       "    </tr>\n",
       "    <tr>\n",
       "      <td>4</td>\n",
       "      <td>Natural Capital Account for London – London Da...</td>\n",
       "      <td>This is the first natural capital account for ...</td>\n",
       "    </tr>\n",
       "  </tbody>\n",
       "</table>\n",
       "</div>"
      ],
      "text/plain": [
       "                                           File_Name  \\\n",
       "0  Bariatric incidents attended by LFB – London D...   \n",
       "1  Animal rescue incidents attended by LFB – Lond...   \n",
       "2                 GLA Grants data – London Datastore   \n",
       "3      Breathe London AQMesh pods – London Datastore   \n",
       "4  Natural Capital Account for London – London Da...   \n",
       "\n",
       "                                         Description  \n",
       "0  The London Fire Brigade attends a range of non...  \n",
       "1  The London Fire Brigade attends a range of non...  \n",
       "2  The GLA Grants Dataset contains data relating ...  \n",
       "3  The Breathe London stationary network is made ...  \n",
       "4  This is the first natural capital account for ...  "
      ]
     },
     "execution_count": 10,
     "metadata": {},
     "output_type": "execute_result"
    }
   ],
   "source": [
    "data_files.head()"
   ]
  },
  {
   "cell_type": "markdown",
   "metadata": {},
   "source": [
    "### Get the word count for each description"
   ]
  },
  {
   "cell_type": "code",
   "execution_count": 78,
   "metadata": {},
   "outputs": [
    {
     "data": {
      "text/html": [
       "<div>\n",
       "<style scoped>\n",
       "    .dataframe tbody tr th:only-of-type {\n",
       "        vertical-align: middle;\n",
       "    }\n",
       "\n",
       "    .dataframe tbody tr th {\n",
       "        vertical-align: top;\n",
       "    }\n",
       "\n",
       "    .dataframe thead th {\n",
       "        text-align: right;\n",
       "    }\n",
       "</style>\n",
       "<table border=\"1\" class=\"dataframe\">\n",
       "  <thead>\n",
       "    <tr style=\"text-align: right;\">\n",
       "      <th></th>\n",
       "      <th>Description</th>\n",
       "      <th>Word_Count</th>\n",
       "    </tr>\n",
       "  </thead>\n",
       "  <tbody>\n",
       "    <tr>\n",
       "      <td>0</td>\n",
       "      <td>The London Fire Brigade attends a range of non...</td>\n",
       "      <td>204</td>\n",
       "    </tr>\n",
       "    <tr>\n",
       "      <td>1</td>\n",
       "      <td>The London Fire Brigade attends a range of non...</td>\n",
       "      <td>164</td>\n",
       "    </tr>\n",
       "    <tr>\n",
       "      <td>2</td>\n",
       "      <td>The GLA Grants Dataset contains data relating ...</td>\n",
       "      <td>85</td>\n",
       "    </tr>\n",
       "    <tr>\n",
       "      <td>3</td>\n",
       "      <td>The Breathe London stationary network is made ...</td>\n",
       "      <td>132</td>\n",
       "    </tr>\n",
       "    <tr>\n",
       "      <td>4</td>\n",
       "      <td>This is the first natural capital account for ...</td>\n",
       "      <td>65</td>\n",
       "    </tr>\n",
       "  </tbody>\n",
       "</table>\n",
       "</div>"
      ],
      "text/plain": [
       "                                         Description  Word_Count\n",
       "0  The London Fire Brigade attends a range of non...         204\n",
       "1  The London Fire Brigade attends a range of non...         164\n",
       "2  The GLA Grants Dataset contains data relating ...          85\n",
       "3  The Breathe London stationary network is made ...         132\n",
       "4  This is the first natural capital account for ...          65"
      ]
     },
     "execution_count": 78,
     "metadata": {},
     "output_type": "execute_result"
    }
   ],
   "source": [
    "data_files['Word_Count'] = data_files['Description'].apply(lambda x: len(str(x).split(\" \")))\n",
    "data_files[[\"Description\",'Word_Count']].head()"
   ]
  },
  {
   "cell_type": "markdown",
   "metadata": {},
   "source": [
    "### Get the most common words"
   ]
  },
  {
   "cell_type": "code",
   "execution_count": 17,
   "metadata": {},
   "outputs": [
    {
     "name": "stdout",
     "output_type": "stream",
     "text": [
      "Most frequent words: \n",
      "the       108\n",
      "and        65\n",
      "of         57\n",
      "is         43\n",
      "to         42\n",
      "for        33\n",
      "The        30\n",
      "London     28\n",
      "data       26\n",
      "a          21\n",
      "dtype: int64\n"
     ]
    }
   ],
   "source": [
    "frequency_words = pd.Series(\" \".join(data_files['Description']).split()).value_counts()\n",
    "print(\"Most frequent words: \") \n",
    "print(frequency_words[:10])"
   ]
  },
  {
   "cell_type": "markdown",
   "metadata": {},
   "source": [
    "### Get the most uncommon words"
   ]
  },
  {
   "cell_type": "code",
   "execution_count": 36,
   "metadata": {},
   "outputs": [
    {
     "name": "stdout",
     "output_type": "stream",
     "text": [
      "decide               1\n",
      "subsequent           1\n",
      "Money                1\n",
      "Unit:                1\n",
      "(Killed/seriously    1\n",
      "Portraits            1\n",
      "points               1\n",
      "There                1\n",
      "prepared             1\n",
      "where                1\n",
      "dtype: int64\n"
     ]
    }
   ],
   "source": [
    "print(frequency_words[-10:])"
   ]
  },
  {
   "cell_type": "markdown",
   "metadata": {},
   "source": [
    "### Text pre processing"
   ]
  },
  {
   "cell_type": "code",
   "execution_count": 19,
   "metadata": {},
   "outputs": [],
   "source": [
    "import string\n",
    "\n",
    "words_test = data_files['Description']"
   ]
  },
  {
   "cell_type": "markdown",
   "metadata": {},
   "source": [
    "### Remove punctuation"
   ]
  },
  {
   "cell_type": "code",
   "execution_count": 21,
   "metadata": {},
   "outputs": [],
   "source": [
    "words_test = [sentence.translate(str.maketrans('', '', string.punctuation)) for sentence in words_test]"
   ]
  },
  {
   "cell_type": "markdown",
   "metadata": {},
   "source": [
    "#### Stemming"
   ]
  },
  {
   "cell_type": "code",
   "execution_count": 22,
   "metadata": {
    "scrolled": true
   },
   "outputs": [
    {
     "name": "stdout",
     "output_type": "stream",
     "text": [
      "['The GLA Grants Dataset contains data relating to grants which have been awarded by the GLA since 2013 The dataset uses the 360 Giving Standard to ensure the data is clear and accessible This dataset can also be accessed on the 360 giving navigation site GrantNav which allows grantmakers and others to explore how grants are used areas of commonality between grantmakers and gaps that are not reached by grantmakers Potential grantseekers can also see who and what the GLA has funded in the past\\xa0', 'The London Fire Brigade attends a range of nonfire incidents which we call special services These special services include assistance to animals that may be trapped or in distress \\nWe routinely get asked for information about the number of such incident attended by the London Fire Brigade and this data is published on the London Datastore to assist those who require it\\nThe data is provided from January 2009 and isupdated monthly A range of information is supplied for each incident including some location information postcode borough ward as well as the datatime of the incidents We do not routinely record data about animal deaths or injuries \\nPlease note that any cost included is a notional cost calculated based on the length of time rounded up to the nearest hour spent by Pump Aerial and FRU appliances at the incident and charged at the current Brigade hourly rate\\nThe London Fire Commissioner is the fire and rescue authority for London and runs the London Fire Brigade', 'The London Fire Brigade attends a range of nonfire incidents which we call special services These special services include assistance to other emergency services including sometimes help with moving\\xa0larger ie bariatric patientspeople Although the LFB does not explicitly capture and classify these types of incidents we are able to\\xa0identify them via the messages that are transmitted during incidents\\xa0\\xa0\\nWe routinely get asked for information about the number of such incident attended by the London Fire Brigade and this data is published on the London Datastore to assist those who require it\\nThe data is provided from January 2009\\xa0and is updated monthly A range of information is supplied for each incident including some location information postcode sector borough ward as well as the datatime of the incidents\\nThe\\xa0data we collect about these incidents does not routinely\\xa0include any information\\xa0about the patient or the nature of any illness or the reason for assistance\\nPlease note that any cost included is a notional cost calculated based on the length of time rounded up to the nearest hour spent by Pump Aerial and FRU appliances at the incident and charged at the current Brigade hourly rate\\nThe London Fire Commissioner is the fire and rescue authority for London and runs the London Fire Brigade', 'The GLA Grants Dataset contains data relating to grants which have been awarded by the GLA since 2013 The dataset uses the 360 Giving Standard to ensure the data is clear and accessible This dataset can also be accessed on the 360 giving navigation site GrantNav which allows grantmakers and others to explore how grants are used areas of commonality between grantmakers and gaps that are not reached by grantmakers Potential grantseekers can also see who and what the GLA has funded in the past\\xa0', 'The London Fire Brigade attends a range of nonfire incidents which we call special services These special services include assistance to animals that may be trapped or in distress \\nWe routinely get asked for information about the number of such incident attended by the London Fire Brigade and this data is published on the London Datastore to assist those who require it\\nThe data is provided from January 2009 and isupdated monthly A range of information is supplied for each incident including some location information postcode borough ward as well as the datatime of the incidents We do not routinely record data about animal deaths or injuries \\nPlease note that any cost included is a notional cost calculated based on the length of time rounded up to the nearest hour spent by Pump Aerial and FRU appliances at the incident and charged at the current Brigade hourly rate\\nThe London Fire Commissioner is the fire and rescue authority for London and runs the London Fire Brigade', 'The London Fire Brigade attends a range of nonfire incidents which we call special services These special services include assistance to other emergency services including sometimes help with moving\\xa0larger ie bariatric patientspeople Although the LFB does not explicitly capture and classify these types of incidents we are able to\\xa0identify them via the messages that are transmitted during incidents\\xa0\\xa0\\nWe routinely get asked for information about the number of such incident attended by the London Fire Brigade and this data is published on the London Datastore to assist those who require it\\nThe data is provided from January 2009\\xa0and is updated monthly A range of information is supplied for each incident including some location information postcode sector borough ward as well as the datatime of the incidents\\nThe\\xa0data we collect about these incidents does not routinely\\xa0include any information\\xa0about the patient or the nature of any illness or the reason for assistance\\nPlease note that any cost included is a notional cost calculated based on the length of time rounded up to the nearest hour spent by Pump Aerial and FRU appliances at the incident and charged at the current Brigade hourly rate\\nThe London Fire Commissioner is the fire and rescue authority for London and runs the London Fire Brigade', 'The Breathe London stationary network is made up of 100\\xa0AQMesh\\xa0pods each containing a collection of small sensorbased air quality monitors that offer near realtime localised air quality information They measure nitrogen dioxide NO₂ and nitric oxide NO using electrochemical sensors particulate matter PM in various size cuts PM₂₅ and PM10\\xa0are reported using a lightscattering optical particle counter and carbon dioxide CO₂ using a nondispersive infrared absorbance sensor In some locations the pods measure ozone O3 also using electrochemical sensors The pods measure temperature humidity and air pressure for the purposes of correction for environmental conditions Each sensor pod is set up to collect data continuously for 10second intervals and to create an average every 115 minutes synchronised to the top of each hour\\nMore information can be found on the Breathe London website', 'This is the first natural capital account for London and was supported by the Mayor of London the National Trust and the Heritage Lottery Fund\\nThe natural capital account assesses the economic value of different benefits that London and Londoners gain from the city’s public parks and other green spaces For more information on the methodology and results of this analysis please see the Londongovuk website\\n\\n\\n\\n\\n\\n\\n\\n', 'This series has been discontinued\\nLife expectancy at birth and age 65 by sex and ward London borough region 199903  201014\\nThe population data used is revised 20022010 ONS mid year estimates MYE  revised post 2011 Census Revised population estimates by single year of age for wards can also be found on the ONS website for 20022010 2011 2012 and 2013 These figures are consistent with the published revised mid2002 to mid2010 local authority estimates\\nRolling 5year combined life expectancies are used for wards to reduce the effects of the variability in number of deaths in each year The same method is applied to higher geographies to enable meaningful comparisons However 3year combined expectancies are published separately on the Datastore for geographical areas that are local authority and above\\nIf the GLA publish revised 20022010 population data for wards then these life expectancy figures will also be revised to reflect them\\nThe ONS vital statistics mortality data breaks deaths into 10 year age bands 5 year age band deaths were modelled using this data\\nVital Statistics Population and Health Reference Tables are available on the ONS website here\\nThe tool for calculating life expectancy is available from Public Health England  The highest age band in the calculator is currently 85 If the tool is updated with a higher upper age band ie 90 this data will be revised to reflect this change\\nHealthy life expectancy and disabilityfree life expectancy 19992003 at birth have been calculated for wards in England and Wales These can be found on the ONS website\\nThis data is also presented in the GLA ward profiles', 'This data shows the number of people registered with Councils with Adult Social Services Responsibilities CASSRs in England as being blind and partially sighted by age for years ending 31 March\\nAge groups are 04 517 1849 5064 6574 75 and over\\nA decision was made to bring the most recent collection forward by a year for collection in 2008 due to concerns regarding the fall in the number of people newly registered as blind and partially sighted between March 2003 and March 2006 This means there will be no collection in 2009 Tables contain information relating to the year ended 31 March 2008\\nThe register is voluntary however it is a precondition for the receipt of certain financial benefits This is a factor that gives more credibility to the register for blind than to the register of the partially sighted\\nThe reliability of this information is difficult to determine and so cannot be thought of as a definitive number of blind and partially sighted people\\nView data on NHS website\\nFurther sight loss data is available from Royal National Institute of Blind People RNIB', 'This Data shows the number of people registered with Councils with Adult Social Services Responsibilities CASSRs in England as being blind and partially sighted with an additional disability by category of disability for years ending 31 March \\nCategories include Mental illness only learning disabilities only physical disabilities only deaf without speech deaf with speech hard of hearing mental illness and other disabilities learning and other disabilities physical and other disabilities Where a client has multiple disabilities including deaf or hard of hearing councils were advised to count this under the category of deaf or hard of hearing\\nA decision was made to bring the most recent collection forward by a year for collection in 2008 due to concerns regarding the fall in the number of people newly registered as blind and partially sighted between March 2003 and March 2006 This means there will be no collection in 2009 Tables contain information relating to the year ended 31 March 2008\\nThe register is voluntary however it is a precondition for the receipt of certain financial benefits This is a factor that gives more credibility to the register for blind than to the register of the partially sighted\\nThe reliability of this information is difficult to determine and so cannot be thought of as a definitive number of blind and partially sighted people with an additional disability\\nFurther sight loss data is available from Royal National Institute of Blind People RNIB']\n"
     ]
    }
   ],
   "source": [
    "from nltk.stem import PorterStemmer\n",
    "porter_stemmer = PorterStemmer()\n",
    "print(words_test)"
   ]
  },
  {
   "cell_type": "code",
   "execution_count": 23,
   "metadata": {
    "scrolled": true
   },
   "outputs": [
    {
     "name": "stdout",
     "output_type": "stream",
     "text": [
      "the gla grant dataset contain data relat to grant which have been award by the gla sinc 2013 the dataset use the 360 give standard to ensur the data is clear and access thi dataset can also be access on the 360 give navig site grantnav which allow grantmak and other to explor how grant are use area of common between grantmak and gap that are not reach by grantmak potenti grantseek can also see who and what the gla ha fund in the past\n",
      "\n",
      "the london fire brigad attend a rang of nonfir incid which we call special servic these special servic includ assist to anim that may be trap or in distress We routin get ask for inform about the number of such incid attend by the london fire brigad and thi data is publish on the london datastor to assist those who requir it the data is provid from januari 2009 and isupd monthli A rang of inform is suppli for each incid includ some locat inform postcod borough ward as well as the datatim of the incid We do not routin record data about anim death or injuri pleas note that ani cost includ is a notion cost calcul base on the length of time round up to the nearest hour spent by pump aerial and fru applianc at the incid and charg at the current brigad hourli rate the london fire commission is the fire and rescu author for london and run the london fire brigad\n",
      "\n",
      "the london fire brigad attend a rang of nonfir incid which we call special servic these special servic includ assist to other emerg servic includ sometim help with move larger ie bariatr patientspeopl although the lfb doe not explicitli captur and classifi these type of incid we are abl to identifi them via the messag that are transmit dure incid We routin get ask for inform about the number of such incid attend by the london fire brigad and thi data is publish on the london datastor to assist those who requir it the data is provid from januari 2009 and is updat monthli A rang of inform is suppli for each incid includ some locat inform postcod sector borough ward as well as the datatim of the incid the data we collect about these incid doe not routin includ ani inform about the patient or the natur of ani ill or the reason for assist pleas note that ani cost includ is a notion cost calcul base on the length of time round up to the nearest hour spent by pump aerial and fru applianc at the incid and charg at the current brigad hourli rate the london fire commission is the fire and rescu author for london and run the london fire brigad\n",
      "\n",
      "the gla grant dataset contain data relat to grant which have been award by the gla sinc 2013 the dataset use the 360 give standard to ensur the data is clear and access thi dataset can also be access on the 360 give navig site grantnav which allow grantmak and other to explor how grant are use area of common between grantmak and gap that are not reach by grantmak potenti grantseek can also see who and what the gla ha fund in the past\n",
      "\n",
      "the london fire brigad attend a rang of nonfir incid which we call special servic these special servic includ assist to anim that may be trap or in distress We routin get ask for inform about the number of such incid attend by the london fire brigad and thi data is publish on the london datastor to assist those who requir it the data is provid from januari 2009 and isupd monthli A rang of inform is suppli for each incid includ some locat inform postcod borough ward as well as the datatim of the incid We do not routin record data about anim death or injuri pleas note that ani cost includ is a notion cost calcul base on the length of time round up to the nearest hour spent by pump aerial and fru applianc at the incid and charg at the current brigad hourli rate the london fire commission is the fire and rescu author for london and run the london fire brigad\n",
      "\n",
      "the london fire brigad attend a rang of nonfir incid which we call special servic these special servic includ assist to other emerg servic includ sometim help with move larger ie bariatr patientspeopl although the lfb doe not explicitli captur and classifi these type of incid we are abl to identifi them via the messag that are transmit dure incid We routin get ask for inform about the number of such incid attend by the london fire brigad and thi data is publish on the london datastor to assist those who requir it the data is provid from januari 2009 and is updat monthli A rang of inform is suppli for each incid includ some locat inform postcod sector borough ward as well as the datatim of the incid the data we collect about these incid doe not routin includ ani inform about the patient or the natur of ani ill or the reason for assist pleas note that ani cost includ is a notion cost calcul base on the length of time round up to the nearest hour spent by pump aerial and fru applianc at the incid and charg at the current brigad hourli rate the london fire commission is the fire and rescu author for london and run the london fire brigad\n",
      "\n",
      "the breath london stationari network is made up of 100 aqmesh pod each contain a collect of small sensorbas air qualiti monitor that offer near realtim localis air qualiti inform they measur nitrogen dioxid no₂ and nitric oxid NO use electrochem sensor particul matter PM in variou size cut pm₂₅ and pm10 are report use a lightscatt optic particl counter and carbon dioxid co₂ use a nondispers infrar absorb sensor In some locat the pod measur ozon O3 also use electrochem sensor the pod measur temperatur humid and air pressur for the purpos of correct for environment condit each sensor pod is set up to collect data continu for 10second interv and to creat an averag everi 115 minut synchronis to the top of each hour more inform can be found on the breath london websit\n",
      "\n",
      "thi is the first natur capit account for london and wa support by the mayor of london the nation trust and the heritag lotteri fund the natur capit account assess the econom valu of differ benefit that london and london gain from the city’ public park and other green space for more inform on the methodolog and result of thi analysi pleas see the londongovuk websit\n",
      "\n",
      "thi seri ha been discontinu life expect at birth and age 65 by sex and ward london borough region 199903 201014 the popul data use is revis 20022010 on mid year estim mye revis post 2011 censu revis popul estim by singl year of age for ward can also be found on the on websit for 20022010 2011 2012 and 2013 these figur are consist with the publish revis mid2002 to mid2010 local author estim roll 5year combin life expect are use for ward to reduc the effect of the variabl in number of death in each year the same method is appli to higher geographi to enabl meaning comparison howev 3year combin expect are publish separ on the datastor for geograph area that are local author and abov If the gla publish revis 20022010 popul data for ward then these life expect figur will also be revis to reflect them the on vital statist mortal data break death into 10 year age band 5 year age band death were model use thi data vital statist popul and health refer tabl are avail on the on websit here the tool for calcul life expect is avail from public health england the highest age band in the calcul is current 85 If the tool is updat with a higher upper age band ie 90 thi data will be revis to reflect thi chang healthi life expect and disabilityfre life expect 19992003 at birth have been calcul for ward in england and wale these can be found on the on websit thi data is also present in the gla ward profil\n",
      "\n",
      "thi data show the number of peopl regist with council with adult social servic respons cassr in england as be blind and partial sight by age for year end 31 march age group are 04 517 1849 5064 6574 75 and over A decis wa made to bring the most recent collect forward by a year for collect in 2008 due to concern regard the fall in the number of peopl newli regist as blind and partial sight between march 2003 and march 2006 thi mean there will be no collect in 2009 tabl contain inform relat to the year end 31 march 2008 the regist is voluntari howev it is a precondit for the receipt of certain financi benefit thi is a factor that give more credibl to the regist for blind than to the regist of the partial sight the reliabl of thi inform is difficult to determin and so cannot be thought of as a definit number of blind and partial sight peopl view data on nh websit further sight loss data is avail from royal nation institut of blind peopl rnib\n",
      "\n",
      "thi data show the number of peopl regist with council with adult social servic respons cassr in england as be blind and partial sight with an addit disabl by categori of disabl for year end 31 march categori includ mental ill onli learn disabl onli physic disabl onli deaf without speech deaf with speech hard of hear mental ill and other disabl learn and other disabl physic and other disabl where a client ha multipl disabl includ deaf or hard of hear council were advis to count thi under the categori of deaf or hard of hear A decis wa made to bring the most recent collect forward by a year for collect in 2008 due to concern regard the fall in the number of peopl newli regist as blind and partial sight between march 2003 and march 2006 thi mean there will be no collect in 2009 tabl contain inform relat to the year end 31 march 2008 the regist is voluntari howev it is a precondit for the receipt of certain financi benefit thi is a factor that give more credibl to the regist for blind than to the regist of the partial sight the reliabl of thi inform is difficult to determin and so cannot be thought of as a definit number of blind and partial sight peopl with an addit disabl further sight loss data is avail from royal nation institut of blind peopl rnib\n",
      "\n"
     ]
    }
   ],
   "source": [
    "stemmed_words = [\" \".join(list(map(lambda x: porter_stemmer.stem(x), words.split()))) for words in words_test]\n",
    "for sentence in stemmed_words:\n",
    "    print(sentence)\n",
    "    print()"
   ]
  },
  {
   "cell_type": "code",
   "execution_count": 108,
   "metadata": {},
   "outputs": [],
   "source": [
    "#stemmed_words = list(map(lambda x: porter_stemmer.stem(x), words_test.split()))\n",
    "#stemmed_words = \" \".join(stemmed_words)"
   ]
  },
  {
   "cell_type": "code",
   "execution_count": null,
   "metadata": {},
   "outputs": [],
   "source": [
    "data_files.to_csv('./data_file_web.csv', index=True)"
   ]
  }
 ],
 "metadata": {
  "kernelspec": {
   "display_name": "Python 3",
   "language": "python",
   "name": "python3"
  },
  "language_info": {
   "codemirror_mode": {
    "name": "ipython",
    "version": 3
   },
   "file_extension": ".py",
   "mimetype": "text/x-python",
   "name": "python",
   "nbconvert_exporter": "python",
   "pygments_lexer": "ipython3",
   "version": "3.7.4"
  }
 },
 "nbformat": 4,
 "nbformat_minor": 2
}
