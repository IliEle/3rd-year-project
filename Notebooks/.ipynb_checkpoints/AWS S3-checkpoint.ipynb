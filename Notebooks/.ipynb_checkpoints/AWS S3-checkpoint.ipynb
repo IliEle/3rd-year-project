{
 "cells": [
  {
   "cell_type": "code",
   "execution_count": null,
   "metadata": {},
   "outputs": [],
   "source": [
    "import boto3\n",
    "import s3fs\n",
    "import pandas as pd\n",
    "\n",
    "s3 = boto3.resource('s3')\n",
    "\n",
    "#Create a new session with a different profile\n",
    "alice = boto3.session.Session(profile_name='Alice')\n",
    "s3_alice = alice.resource('s3')"
   ]
  },
  {
   "cell_type": "markdown",
   "metadata": {},
   "source": [
    "# Reading a file from a bucket"
   ]
  },
  {
   "cell_type": "code",
   "execution_count": 18,
   "metadata": {},
   "outputs": [],
   "source": [
    "def read_file(req_bucket_name, req_file_path):\n",
    "    try:\n",
    "        file_path = \"s3://\" + req_bucket_name + req_file_path\n",
    "        data = pd.read_csv(file_path)\n",
    "        return data\n",
    "    except Exception as e:\n",
    "        print(\"Unexpected error: %s\" % e)\n",
    "\n",
    "\n",
    "df = read_file('gabrielroscabucket', '/Serotonin.csv')"
   ]
  },
  {
   "cell_type": "markdown",
   "metadata": {},
   "source": [
    "# List all buckets"
   ]
  },
  {
   "cell_type": "code",
   "execution_count": 17,
   "metadata": {},
   "outputs": [
    {
     "name": "stdout",
     "output_type": "stream",
     "text": [
      "['gabrielroscabucket', 'testbucketgabe']\n"
     ]
    }
   ],
   "source": [
    "def list_all_buckests():\n",
    "    try:\n",
    "        bucket_list = [bucket.name for bucket in s3.buckets.all()]\n",
    "        print(bucket_list)\n",
    "    except Exception as e:\n",
    "        print(\"Unexpected error: %s\" % e)\n",
    "        \n",
    "list_all_buckests()"
   ]
  },
  {
   "cell_type": "markdown",
   "metadata": {},
   "source": [
    "# List all files in a bucket"
   ]
  },
  {
   "cell_type": "code",
   "execution_count": 16,
   "metadata": {
    "scrolled": true
   },
   "outputs": [
    {
     "name": "stdout",
     "output_type": "stream",
     "text": [
      "Data.csv\n",
      "OpenPrescribing/\n",
      "Serotonin.csv\n"
     ]
    }
   ],
   "source": [
    "def list_all_buckests(req_bucket_name = \"\", req_bucket = None):\n",
    "    try:\n",
    "        objects_list = list()\n",
    "        if req_bucket_name != \"\":\n",
    "            my_bucket = s3.Bucket(req_bucket_name)\n",
    "        elif req_bucket != None:\n",
    "            my_bucket = req_bucket\n",
    "        else:\n",
    "            print(\"Please provide an argument\")\n",
    "            return None\n",
    "        for object in my_bucket.objects.all():\n",
    "            objects_list.append(object)\n",
    "            print(object.key)\n",
    "        return objects_list\n",
    "    except Exception as e:\n",
    "        print(\"Unexpected error: %s\" % e)\n",
    "        \n",
    "\n",
    "my_bucket = s3.Bucket(\"gabrielroscabucket\")       \n",
    "files = list_all_buckests(req_bucket = my_bucket)"
   ]
  },
  {
   "cell_type": "markdown",
   "metadata": {},
   "source": [
    "# Download a file from a bucket"
   ]
  },
  {
   "cell_type": "code",
   "execution_count": 15,
   "metadata": {},
   "outputs": [
    {
     "name": "stdout",
     "output_type": "stream",
     "text": [
      "Unexpected error: An error occurred (403) when calling the HeadObject operation: Forbidden\n"
     ]
    }
   ],
   "source": [
    "def download_file(req_bucket, req_file_name, req_file_save_name):\n",
    "    try:\n",
    "        req_bucket.download_file(req_file_name, req_file_save_name)\n",
    "    except Exception as e:\n",
    "        print(\"Unexpected error: %s\" %e)\n",
    "\n",
    "my_bucket = s3_alice.Bucket('gabrielroscabucket')\n",
    "download_file(my_bucket, 'Serotonin.csv', 'Data2.csv')"
   ]
  },
  {
   "cell_type": "code",
   "execution_count": null,
   "metadata": {},
   "outputs": [],
   "source": []
  }
 ],
 "metadata": {
  "kernelspec": {
   "display_name": "Python 3",
   "language": "python",
   "name": "python3"
  },
  "language_info": {
   "codemirror_mode": {
    "name": "ipython",
    "version": 3
   },
   "file_extension": ".py",
   "mimetype": "text/x-python",
   "name": "python",
   "nbconvert_exporter": "python",
   "pygments_lexer": "ipython3",
   "version": "3.7.3"
  }
 },
 "nbformat": 4,
 "nbformat_minor": 2
}
