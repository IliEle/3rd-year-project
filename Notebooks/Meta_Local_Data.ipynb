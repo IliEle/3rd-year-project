{
 "cells": [
  {
   "cell_type": "code",
   "execution_count": 1,
   "metadata": {},
   "outputs": [],
   "source": [
    "import os\n",
    "import pandas as pd\n",
    "import numpy as np\n",
    "import time \n",
    "import pwd\n",
    "import re\n",
    "import io\n",
    "import nltk\n",
    "from nltk.corpus import stopwords\n",
    "from nltk.corpus import wordnet\n",
    "from scipy import stats\n",
    "from scipy.stats import shapiro\n",
    "from sklearn.feature_extraction.text import CountVectorizer\n",
    "from sklearn.feature_extraction.text import TfidfVectorizer\n",
    "import sys\n",
    "import string\n",
    "import plotly.graph_objects as go\n",
    "import plotly.express as px\n",
    "import seaborn as sns\n",
    "import math\n",
    "import plotly.graph_objects as go\n",
    "import plotly.express as px\n",
    "import warnings\n",
    "import boto3\n",
    "import s3fs\n",
    "from tqdm import tqdm_notebook as tqdm\n",
    "from IPython.display import Markdown, display\n",
    "import ipywidgets as widgets\n",
    "from ipywidgets import FileUpload\n",
    "from ipywidgets import TwoByTwoLayout\n",
    "from ipywidgets import interact, interactive, fixed, interact_manual\n",
    "from ipywidgets import VBox, HBox, Label, Box\n",
    "from ipywidgets import Button, Layout\n",
    "\n",
    "#Print function\n",
    "def printmd(string):\n",
    "    display(Markdown(string))\n",
    "np.set_printoptions(threshold=100000)\n",
    "warnings.filterwarnings('ignore')\n",
    "\n",
    "#Set the stop words\n",
    "stop_words = set(stopwords.words(\"english\"))\n",
    "\n",
    "#Initialise the words corpus\n",
    "words_corpora = set(nltk.corpus.words.words())\n",
    "np.set_printoptions(threshold=sys.maxsize)\n",
    "\n",
    "#Initialise the date words\n",
    "stop_words_time = ['date', 'time', 'year', 'hour', 'o\\'clock']"
   ]
  },
  {
   "cell_type": "markdown",
   "metadata": {},
   "source": [
    "# Administrative metadata\n",
    "\n",
    "##### Administrative metadata is information to help manage a resource, like resource type, permissions, and when and how it was created."
   ]
  },
  {
   "cell_type": "code",
   "execution_count": 2,
   "metadata": {},
   "outputs": [],
   "source": [
    "def administrative_metadata(req_file_path, file_name):\n",
    "    #Check for access\n",
    "    read_access = os.access(file_path, os.R_OK)\n",
    "    write_access = os.access(file_path, os.W_OK)\n",
    "    execution_access = os.access(file_path, os.X_OK)\n",
    "    existance_file = os.access(file_path, os.F_OK)    \n",
    "    \n",
    "    #Create dataframe\n",
    "    administrative_data = pd.DataFrame(columns = ['file_name', 'file_read_access', 'file_write_access', 'file_execution_access', 'file_existance', 'file_creation_date'])\n",
    "\n",
    "    #Set values\n",
    "    administrative_data.loc[0, 'file_name'] = file_name\n",
    "    administrative_data.loc[0, 'file_read_access'] = read_access\n",
    "    administrative_data.loc[0, 'file_write_access'] = write_access\n",
    "    administrative_data.loc[0, 'file_execution_access'] = execution_access\n",
    "    administrative_data.loc[0, 'file_existance'] = existance_file\n",
    "    administrative_data.loc[0, 'file_creation_date'] = time.ctime(st.st_ctime)\n",
    "    \n",
    "    return administrative_data\n",
    "    "
   ]
  },
  {
   "cell_type": "markdown",
   "metadata": {},
   "source": [
    "# Descriptive metadata\n",
    "\n",
    "##### Descriptive metadata is descriptive information about a resource. It is used for discovery and identification. It includes elements such as title, abstract, author, and keywords."
   ]
  },
  {
   "cell_type": "code",
   "execution_count": 3,
   "metadata": {},
   "outputs": [],
   "source": [
    "#Filter function to filter out time columns and columns that provide little information\n",
    "def filter_columns(req_string): \n",
    "    pattern  = re.compile(r'' + \"|\".join(stop_words_time), re.IGNORECASE)\n",
    "    is_string_column = lambda x : data[x].dtypes == 'O' or data[x].dtypes == 'S'\n",
    "    return not bool(pattern.search(req_string)) and is_string_column(req_string)\n",
    "\n",
    "#Check if a column is about time/dates\n",
    "def is_time_column(req_string):\n",
    "    pattern  = re.compile(r'' + \"|\".join(stop_words_time), re.IGNORECASE)\n",
    "    return bool(pattern.search(req_string))\n",
    "\n",
    "#Check if the words in the columns appear in the English corpus \n",
    "def is_meaningful_word(req_string):\n",
    "    is_meaningful = pd.Series(list(map(lambda x: \"True\" if ((x != 'nan' and pd.isnull(x) != True) and str(x).lower().translate(str.maketrans('', '', string.punctuation)) in words_corpora) else \"False\", \" \".join(map(str,req_string)).split()))).value_counts()\n",
    "    return 'True' in is_meaningful.index.values and is_meaningful['True'] > 0\n",
    "\n",
    "def data_keywords(req_data):\n",
    "    column_names = req_data.columns\n",
    "    df_nlp = pd.DataFrame()\n",
    "    keywords = list()\n",
    "    for column in filter(filter_columns, column_names):\n",
    "        #Tokenize and lower case\n",
    "        df_nlp[column] = req_data[column].apply(lambda x : str(x).lower().split(\" \"))\n",
    "        vectorizer = TfidfVectorizer(stop_words=\"english\", lowercase = False, ngram_range = (1,2))\n",
    "        try:\n",
    "            #Create the tfidf matrix \n",
    "            tfidf_matrix = vectorizer.fit_transform(df_nlp[column].astype(str).tolist())\n",
    "            \n",
    "            #Get the tokens\n",
    "            feature_names = vectorizer.get_feature_names()\n",
    "            \n",
    "            #Get the words that appear\n",
    "            feature_indexes = tfidf_matrix[:,:].nonzero()[1]\n",
    "            \n",
    "            #Create a DataFrame to store the tokens with their tfidf\n",
    "            data_tfidf = pd.DataFrame(tfidf_matrix.toarray(), columns = vectorizer.get_feature_names())\n",
    "            \n",
    "            #Sort the values in descending order\n",
    "            data_tfidf = data_tfidf.apply(lambda x : x.mean()).sort_values(ascending=False)            \n",
    "            if len(data_tfidf) >= 3:\n",
    "                #Test the \n",
    "                stat, p = shapiro(data_tfidf)\n",
    "                alpha = 0.05\n",
    "                if p <= alpha and is_meaningful_word(req_data[column]):\n",
    "                    keywords.append((data_tfidf[data_tfidf > data_tfidf.describe()['max'] - data_tfidf.describe()['std']].index.tolist()))\n",
    "        except ValueError:\n",
    "            pass\n",
    "    for column in column_names:\n",
    "        if is_time_column(column):\n",
    "            keywords.append([\"time analysis\"])\n",
    "            break;\n",
    "    return keywords"
   ]
  },
  {
   "cell_type": "code",
   "execution_count": 4,
   "metadata": {},
   "outputs": [],
   "source": [
    "def descriptive_metadata(req_file_path, req_data, req_file_name):\n",
    "    st = os.stat(req_file_path)\n",
    "    descriptive_data = pd.DataFrame(columns = ['file_name', 'file_author'])\n",
    "    author_name = pwd.getpwuid(st.st_uid).pw_gecos\n",
    "    descriptive_data.loc[0, 'file_name'] = req_file_name\n",
    "    descriptive_data.loc[0, 'file_author'] = author_name\n",
    "    keywords = data_keywords(req_data)\n",
    "    descriptive_data.loc[0, 'keywords'] = \"\\n\".join(map(str, keywords))  \n",
    "    return descriptive_data"
   ]
  },
  {
   "cell_type": "markdown",
   "metadata": {},
   "source": [
    "# Structural\n",
    "\n",
    "###### Structural metadata is metadata about containers of data and indicates how compound objects are put together, for example, how pages are ordered to form chapters. It describes the types, versions, relationships and other characteristics of digital materials."
   ]
  },
  {
   "cell_type": "code",
   "execution_count": 8,
   "metadata": {},
   "outputs": [],
   "source": [
    "def structural_metadata(req_file_name, req_data):\n",
    "    #Create a DataFrame to store the structural metadata\n",
    "    structural_data = pd.DataFrame(columns = ['column_types'])\n",
    "    col_type = list()\n",
    "    for column in req_data.columns:\n",
    "        col_type.append(type(req_data[column][0]))\n",
    "    col_type = set(col_type)\n",
    "    \n",
    "    #Get the information\n",
    "    structural_data.loc[0, 'file_name'] = req_file_name\n",
    "    structural_data.loc[0, 'column_types'] = \",\".join(map(str,col_type))\n",
    "    structural_data.loc[0, 'column_numbers'] = len(data.columns)\n",
    "    structural_data.loc[0, 'entries'] = data.shape[0]\n",
    "    return structural_data"
   ]
  },
  {
   "cell_type": "markdown",
   "metadata": {},
   "source": [
    "# Choose the file to get the metadata"
   ]
  },
  {
   "cell_type": "markdown",
   "metadata": {},
   "source": [
    "# Local metadata file\n",
    "\n",
    "Try to get a metadata file. "
   ]
  },
  {
   "cell_type": "code",
   "execution_count": 5,
   "metadata": {},
   "outputs": [],
   "source": [
    "try:\n",
    "    meta_data = pd.read_csv('../data_meta.csv')\n",
    "    index_file = meta_data.shape[0] - 1\n",
    "except OSError:\n",
    "    meta_data = pd.DataFrame(columns=['file_name', 'file_read_access', 'file_write_access',\n",
    "       'file_execution_access', 'file_existance', 'file_creation_date',\n",
    "       'file_author', 'keywords', 'column_types', 'column_numbers', 'entries'])"
   ]
  },
  {
   "cell_type": "markdown",
   "metadata": {},
   "source": [
    "# Single file - local "
   ]
  },
  {
   "cell_type": "markdown",
   "metadata": {},
   "source": [
    "## Input the file location "
   ]
  },
  {
   "cell_type": "code",
   "execution_count": null,
   "metadata": {},
   "outputs": [],
   "source": [
    "file_name = \"Animal rescue incidents attended by LFB   London Datastore.csv\"\n",
    "file_path =  \"../Data/London/Animal rescue incidents attended by LFB   London Datastore/\" + file_name\n",
    "st = os.stat(file_path)\n",
    "data = pd.read_csv(file_path)"
   ]
  },
  {
   "cell_type": "markdown",
   "metadata": {},
   "source": [
    "## Select the file using File explorer"
   ]
  },
  {
   "cell_type": "code",
   "execution_count": 6,
   "metadata": {},
   "outputs": [
    {
     "data": {
      "application/vnd.jupyter.widget-view+json": {
       "model_id": "574051bb3b314547afe651d3574dcbc6",
       "version_major": 2,
       "version_minor": 0
      },
      "text/plain": [
       "FileUpload(value={}, accept='.csv', description='Upload')"
      ]
     },
     "metadata": {},
     "output_type": "display_data"
    }
   ],
   "source": [
    "upload = FileUpload(accept='.csv')\n",
    "upload"
   ]
  },
  {
   "cell_type": "code",
   "execution_count": null,
   "metadata": {
    "scrolled": true
   },
   "outputs": [],
   "source": [
    "file_name = next(iter(upload.value))\n",
    "content = upload.value[file_name]['content']\n",
    "file_path = \"../Data/London/\" + file_name[:file_name.rfind(\".\")] + \"/\" + file_name\n",
    "data = pd.read_csv(io.BytesIO(content), header=0, escapechar='\\\\', encoding= 'unicode_escape')\n",
    "st = os.stat(file_path)"
   ]
  },
  {
   "cell_type": "markdown",
   "metadata": {},
   "source": [
    "# Get the metadata for the selected file"
   ]
  },
  {
   "cell_type": "code",
   "execution_count": null,
   "metadata": {},
   "outputs": [],
   "source": [
    "administrative_data = administrative_metadata(file_path, file_name)\n",
    "descriptive_data = descriptive_metadata(file_path, data, file_name)\n",
    "structural_data = structural_metadata(file_name ,data)\n",
    "mt_data = pd.DataFrame()\n",
    "mt_data = pd.merge(administrative_data, descriptive_data)\n",
    "mt_data = pd.merge(mt_data, structural_data)\n",
    "meta_data = meta_data.append(mt_data)"
   ]
  },
  {
   "cell_type": "markdown",
   "metadata": {},
   "source": [
    "# Multiple files - one single local metadata file\n",
    "\n",
    "\n",
    "For multiple files to get the metadata file"
   ]
  },
  {
   "cell_type": "code",
   "execution_count": 9,
   "metadata": {
    "scrolled": false
   },
   "outputs": [
    {
     "data": {
      "application/vnd.jupyter.widget-view+json": {
       "model_id": "01e87e9e33cc4589a31cefde20f13cd8",
       "version_major": 2,
       "version_minor": 0
      },
      "text/plain": [
       "HBox(children=(IntProgress(value=0, description='Folders', max=22, style=ProgressStyle(description_width='init…"
      ]
     },
     "metadata": {},
     "output_type": "display_data"
    },
    {
     "name": "stdout",
     "output_type": "stream",
     "text": [
      "\n",
      "\n"
     ]
    },
    {
     "data": {
      "text/markdown": [
       "**Finished generating metadata.**"
      ],
      "text/plain": [
       "<IPython.core.display.Markdown object>"
      ]
     },
     "metadata": {},
     "output_type": "display_data"
    }
   ],
   "source": [
    "path_data = \"../Data_Proto/London\"\n",
    "folders = os.listdir(\"../Data_Proto/London\")\n",
    "if \".DS_Store\" in folders:\n",
    "    folders.remove(\".DS_Store\")\n",
    "\n",
    "for current_folder in tqdm(folders, desc = \"Folders\", leave = True):\n",
    "    current_files = os.listdir(path_data + \"/\" + current_folder)\n",
    "    for current_file_read in current_files:\n",
    "        if current_file_read.endswith('.csv'):\n",
    "            file_path = path_data + \"/\" + current_folder + \"/\" + current_file_read\n",
    "            st = os.stat(file_path)\n",
    "            try:\n",
    "                data = pd.read_csv(file_path)          \n",
    "            except UnicodeDecodeError:\n",
    "                data = pd.read_csv(file_path, encoding ='latin-1')\n",
    "            data = data.dropna(axis = 0, thresh = data.shape[1] / 2)\n",
    "            data = data.reset_index(drop=True)\n",
    "            administrative_data = administrative_metadata(file_path, current_file_read)\n",
    "            if data.shape[0] > 0:\n",
    "                descriptive_data = descriptive_metadata(file_path, data, current_file_read)\n",
    "                structural_data = structural_metadata(current_file_read ,data)\n",
    "            else:\n",
    "                pass\n",
    "            mt_data = pd.DataFrame()\n",
    "            mt_data = pd.merge(descriptive_data, structural_data)\n",
    "            mt_data = pd.merge(mt_data, administrative_data)\n",
    "            meta_data = meta_data.append(mt_data)\n",
    "            \n",
    "printmd(\"**Finished generating metadata.**\")"
   ]
  },
  {
   "cell_type": "markdown",
   "metadata": {},
   "source": [
    "# Write the metadata to the local file"
   ]
  },
  {
   "cell_type": "code",
   "execution_count": 10,
   "metadata": {},
   "outputs": [],
   "source": [
    "meta_data = meta_data.reset_index()\n",
    "meta_data = meta_data.drop([\"index\"],axis=1)\n",
    "meta_data.to_csv('../data_meta.csv', index=True)"
   ]
  },
  {
   "cell_type": "markdown",
   "metadata": {},
   "source": [
    "# Write the metadata file to S3"
   ]
  },
  {
   "cell_type": "code",
   "execution_count": 11,
   "metadata": {},
   "outputs": [],
   "source": [
    "s3 = boto3.resource('s3')\n",
    "s3_client = boto3.client('s3')"
   ]
  },
  {
   "cell_type": "markdown",
   "metadata": {},
   "source": [
    "## List all buckets available"
   ]
  },
  {
   "cell_type": "code",
   "execution_count": 12,
   "metadata": {},
   "outputs": [
    {
     "name": "stdout",
     "output_type": "stream",
     "text": [
      "Available buckets: ['gabrielroscabucket', 'testbucketgabe', 'uom.bioinformatics']\n"
     ]
    }
   ],
   "source": [
    "def list_all_buckets():\n",
    "    try:\n",
    "        bucket_list = [bucket.name for bucket in s3.buckets.all()]\n",
    "        return bucket_list\n",
    "    except Exception as e:\n",
    "        print(\"Unexpected error: %s\", e)\n",
    "\n",
    "print('Available buckets: ' + str(list_all_buckets()))"
   ]
  },
  {
   "cell_type": "markdown",
   "metadata": {},
   "source": [
    "## List all files in a bucket"
   ]
  },
  {
   "cell_type": "code",
   "execution_count": 13,
   "metadata": {
    "scrolled": false
   },
   "outputs": [
    {
     "data": {
      "text/markdown": [
       "**Files in bucket uom.bioinformatics:** \n"
      ],
      "text/plain": [
       "<IPython.core.display.Markdown object>"
      ]
     },
     "metadata": {},
     "output_type": "display_data"
    },
    {
     "name": "stdout",
     "output_type": "stream",
     "text": [
      "OA2_PM25_2013.csv\n",
      "\n",
      "PM2.5%20summary%20FINAL_v2.pdf\n",
      "\n",
      "Food_Establishment_London.csv\n",
      "\n",
      "Archives.csv\n",
      "\n",
      "Artists_workspaces.csv\n",
      "\n",
      "Arts_centres.csv\n",
      "\n",
      "Cinemas.csv\n",
      "\n",
      "Commercial_galleries.csv\n",
      "\n",
      "Community_centres.csv\n",
      "\n",
      "Creative_Enterprise_Zones.gpkg\n",
      "\n",
      "Creative_coworking_desk_space.csv\n",
      "\n",
      "Creative_workspaces.csv\n",
      "\n",
      "CulturalInfrastructureMap.gpkg\n",
      "\n",
      "Dance_performance_venues.csv\n",
      "\n",
      "Dance_rehearsal_studios.csv\n",
      "\n",
      "Fashion_and_design.csv\n",
      "\n",
      "Jewellery_design.csv\n",
      "\n",
      "LGBT_night_time_venues.csv\n",
      "\n",
      "Large_media_production_studios.csv\n",
      "\n",
      "Legal_street_art_walls.csv\n",
      "\n",
      "Libraries.csv\n",
      "\n",
      "Live_in_artists_workspace.csv\n",
      "\n",
      "Makerspaces.csv\n",
      "\n",
      "Making_and_manufacturing.csv\n",
      "\n",
      "Museums_and_public_galleries.csv\n",
      "\n",
      "Music_office_based_businesses.csv\n",
      "\n",
      "Music_recording_studios.csv\n",
      "\n",
      "Music_rehearsal_studios.csv\n",
      "\n",
      "Music_venues_all.csv\n",
      "\n",
      "Music_venues_grassroots.csv\n",
      "\n",
      "Outdoor_spaces_for_cultural_use.csv\n",
      "\n",
      "Prop_and_costume_making.csv\n",
      "\n",
      "Pubs.csv\n",
      "\n",
      "Set_and_exhibition_building.csv\n",
      "\n",
      "Skate_Parks.csv\n",
      "\n",
      "Textile_design.csv\n",
      "\n",
      "Theatre_rehearsal_studio.csv\n",
      "\n",
      "Theatres.csv\n",
      "\n",
      "site_by_borough.zip\n",
      "\n",
      "site_by_cez.zip\n",
      "\n",
      "Employment-led%20population%20projections%20%282016-based%29.xlsx\n",
      "\n",
      "Employment-led%20population%20projections.pdf\n",
      "\n",
      "EDI%20measures%2024%20May%202018.xlsx\n",
      "\n",
      "GLA%20EDI%20measures%20June%202019.xlsx\n",
      "\n",
      "EDI%20evidence%20base%20for%20London%20%28June%202019%20update%29.pdf\n",
      "\n",
      "EDI%20evidence%20base%20for%20London%20background%20tables.zip\n",
      "\n",
      "EDI%20evidence%20base%20for%20London%20chart%20data%20June%202019%20update.xlsx\n",
      "\n",
      "EDI%20evidence%20base%20for%20London%20chart%20data.xlsx\n",
      "\n",
      "EDI%20evidence%20base%20for%20London.pdf\n",
      "\n",
      "360Giving%20-%20Feb%202020.csv\n",
      "\n",
      "360Giving%20-%20Feb%202020.xlsx\n",
      "\n",
      "Greater%20London%20Concentration%20Maps%20LAEI%202013%20Update.zip\n",
      "\n",
      "Updated%20LAEI%202016%20Concentration%20Maps%20and%20Associated%20Data%20-%20July%202019.pdf\n",
      "\n",
      "LAEI%202013%20methodology_.pdf\n",
      "\n",
      "london-ward-well-being-probability-scores.xls\n",
      "\n",
      "london-ward-well-being-probability-scores.zip\n",
      "\n",
      "international-visitors-london-raw.csv\n",
      "\n",
      "international-visitors-london.xlsx\n",
      "\n",
      "OA2_PM25_2013.csv\n",
      "\n",
      "PM2.5%20summary%20FINAL_v2.pdf\n",
      "\n",
      "SoL%20Technical%20Report_FINAL.pdf\n",
      "\n",
      "Survey%20of%20Londoners%20data%20tables.xlsx\n",
      "\n",
      "Survey%20of%20Londoners%20equality%20groups%20tables_v2.xlsx\n",
      "\n",
      "Survey-of-Londoners-Factsheet-v1_0.pdf\n",
      "\n",
      "survey-of-londoners-headline-findings-final.pdf\n",
      "\n",
      "tourism-trips-borough.csv\n",
      "\n",
      "tourism-trips-borough.xls\n",
      "\n",
      "Animal rescue incidents attended by LFB - London Datastore.csv\n",
      "\n",
      "Bariatric incidents attended by LFB – London Datastore.csv\n",
      "\n",
      "Breathe London AQMesh pods – London Datastore.csv\n",
      "\n",
      "data_meta.csv\n",
      "\n",
      "data_meta.csv\n",
      "\n"
     ]
    }
   ],
   "source": [
    "def list_all_buckets(req_bucket_name = \"\", req_bucket = None): \n",
    "    try:\n",
    "        folders_bucket = list()\n",
    "        objects_list = list()\n",
    "        if req_bucket_name != \"\":\n",
    "            my_bucket = s3.Bucket(req_bucket_name)\n",
    "        elif req_bucket != None:\n",
    "            my_bucket = req_bucket\n",
    "        else:\n",
    "            print(\"Please provide an argument\")\n",
    "            return None\n",
    "        for object in my_bucket.objects.all():\n",
    "            if(re.match(r\".*\\..*\", object.key)):    \n",
    "                object_name = object.key[object.key.rfind(\"/\") + 1:]\n",
    "                objects_list.append(object_name)\n",
    "            else: \n",
    "                folders_bucket.append(object.key)\n",
    "        return objects_list, folders_bucket\n",
    "    except Exception as e:\n",
    "        print(\"Unexpected error: %s\" % e)\n",
    "        \n",
    "mybucket = s3.Bucket(\"uom.bioinformatics\") \n",
    "bucket_files, bucket_folders = list_all_buckets(req_bucket = mybucket)\n",
    "\n",
    "printmd(\"**Files in bucket \" + mybucket.name + \":** \\n\")\n",
    "for value in bucket_files:\n",
    "    print(value)\n",
    "    print()"
   ]
  },
  {
   "cell_type": "markdown",
   "metadata": {},
   "source": [
    "## List all folders in a bucket"
   ]
  },
  {
   "cell_type": "code",
   "execution_count": 14,
   "metadata": {
    "collapsed": true
   },
   "outputs": [
    {
     "data": {
      "text/markdown": [
       "**Folders in bucket uom.bioinformatics:**\n"
      ],
      "text/plain": [
       "<IPython.core.display.Markdown object>"
      ]
     },
     "metadata": {},
     "output_type": "display_data"
    },
    {
     "name": "stdout",
     "output_type": "stream",
     "text": [
      "Demo/\n",
      "\n",
      "Download_Test/\n",
      "\n",
      "LondonOpenData/\n",
      "\n",
      "LondonOpenData/Health/\n",
      "\n",
      "LondonOpenData/Health/Animal rescue incidents attended by LFB – London Datastore/\n",
      "\n",
      "LondonOpenData/Health/Bariatric incidents attended by LFB – London Datastore/\n",
      "\n",
      "LondonOpenData/Health/Breathe London AQMesh pods – London Datastore/\n",
      "\n",
      "OpenPrescribing/\n",
      "\n",
      "Transport/\n",
      "\n",
      "UrbanObservatory/\n",
      "\n"
     ]
    }
   ],
   "source": [
    "printmd(\"**Folders in bucket \" + mybucket.name + \":**\\n\")\n",
    "for value in bucket_folders:\n",
    "    print(value)\n",
    "    print()"
   ]
  },
  {
   "cell_type": "markdown",
   "metadata": {},
   "source": [
    "## Write single metadata file to a bucket folder"
   ]
  },
  {
   "cell_type": "code",
   "execution_count": null,
   "metadata": {},
   "outputs": [],
   "source": [
    "s3_client.upload_file(\"../data_meta.csv\", \"uom.bioinformatics\", \"data_meta.csv\")"
   ]
  }
 ],
 "metadata": {
  "kernelspec": {
   "display_name": "Python 3",
   "language": "python",
   "name": "python3"
  },
  "language_info": {
   "codemirror_mode": {
    "name": "ipython",
    "version": 3
   },
   "file_extension": ".py",
   "mimetype": "text/x-python",
   "name": "python",
   "nbconvert_exporter": "python",
   "pygments_lexer": "ipython3",
   "version": "3.7.4"
  }
 },
 "nbformat": 4,
 "nbformat_minor": 2
}
