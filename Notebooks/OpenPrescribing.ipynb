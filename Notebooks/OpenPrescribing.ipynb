{
 "cells": [
  {
   "cell_type": "code",
   "execution_count": 1,
   "metadata": {},
   "outputs": [],
   "source": [
    "import numpy as np\n",
    "import pandas as pd\n",
    "import plotly.graph_objects as go\n",
    "import plotly.express as px\n",
    "import re\n",
    "import seaborn as sns\n",
    "import random\n",
    "import time\n",
    "import io\n",
    "import ipywidgets as widgets\n",
    "from ipywidgets import FileUpload\n",
    "from IPython.display import Markdown, display\n",
    "import ipywidgets as widgets\n",
    "from ipywidgets import TwoByTwoLayout\n",
    "from ipywidgets import interact, interactive, fixed, interact_manual\n",
    "from ipywidgets import VBox, HBox, Label, Box\n",
    "from ipywidgets import Button, Layout\n",
    "def printmd(string):\n",
    "    display(Markdown(string))\n",
    "\n",
    "months_string = {'January' : 1, 'February' : 2, 'March' : 3, 'April' : 4, 'May' : 5, 'June' : 6, 'July' : 7, 'August' : 8, 'September' : 9, 'October' : 10, 'November' : 11, 'December': 12}\n"
   ]
  },
  {
   "cell_type": "markdown",
   "metadata": {},
   "source": [
    "# Data upload"
   ]
  },
  {
   "cell_type": "code",
   "execution_count": 2,
   "metadata": {},
   "outputs": [
    {
     "data": {
      "application/vnd.jupyter.widget-view+json": {
       "model_id": "5baba10b040f4e2da9f2d9f715be9df9",
       "version_major": 2,
       "version_minor": 0
      },
      "text/plain": [
       "FileUpload(value={}, accept='.csv', description='Upload')"
      ]
     },
     "metadata": {},
     "output_type": "display_data"
    }
   ],
   "source": [
    "upload = FileUpload(accept='.csv')\n",
    "upload"
   ]
  },
  {
   "cell_type": "code",
   "execution_count": 3,
   "metadata": {},
   "outputs": [],
   "source": [
    "try:\n",
    "    uploaded_filename = next(iter(upload.value))\n",
    "    content = upload.value[uploaded_filename]['content']\n",
    "    data = pd.read_csv(io.BytesIO(content), header=0, escapechar='\\\\')\n",
    "except:\n",
    "    printmd(\"## Please enter a valid file.\")"
   ]
  },
  {
   "cell_type": "markdown",
   "metadata": {},
   "source": [
    "# Print the first values in the dataset"
   ]
  },
  {
   "cell_type": "code",
   "execution_count": 4,
   "metadata": {},
   "outputs": [
    {
     "data": {
      "text/html": [
       "<div>\n",
       "<style scoped>\n",
       "    .dataframe tbody tr th:only-of-type {\n",
       "        vertical-align: middle;\n",
       "    }\n",
       "\n",
       "    .dataframe tbody tr th {\n",
       "        vertical-align: top;\n",
       "    }\n",
       "\n",
       "    .dataframe thead th {\n",
       "        text-align: right;\n",
       "    }\n",
       "</style>\n",
       "<table border=\"1\" class=\"dataframe\">\n",
       "  <thead>\n",
       "    <tr style=\"text-align: right;\">\n",
       "      <th></th>\n",
       "      <th>date</th>\n",
       "      <th>id</th>\n",
       "      <th>name</th>\n",
       "      <th>y_items</th>\n",
       "      <th>y_actual_cost</th>\n",
       "      <th>x_items</th>\n",
       "      <th>x_actual_cost</th>\n",
       "    </tr>\n",
       "  </thead>\n",
       "  <tbody>\n",
       "    <tr>\n",
       "      <td>0</td>\n",
       "      <td>2014-08-01</td>\n",
       "      <td>10C</td>\n",
       "      <td>NHS SURREY HEATH CCG</td>\n",
       "      <td>2953</td>\n",
       "      <td>8585.86</td>\n",
       "      <td>0</td>\n",
       "      <td>0</td>\n",
       "    </tr>\n",
       "    <tr>\n",
       "      <td>1</td>\n",
       "      <td>2014-08-01</td>\n",
       "      <td>02W</td>\n",
       "      <td>NHS BRADFORD CITY CCG</td>\n",
       "      <td>3496</td>\n",
       "      <td>7854.67</td>\n",
       "      <td>0</td>\n",
       "      <td>0</td>\n",
       "    </tr>\n",
       "    <tr>\n",
       "      <td>2</td>\n",
       "      <td>2014-08-01</td>\n",
       "      <td>03V</td>\n",
       "      <td>NHS CORBY CCG</td>\n",
       "      <td>4021</td>\n",
       "      <td>5699.37</td>\n",
       "      <td>0</td>\n",
       "      <td>0</td>\n",
       "    </tr>\n",
       "    <tr>\n",
       "      <td>3</td>\n",
       "      <td>2014-08-01</td>\n",
       "      <td>04M</td>\n",
       "      <td>NHS NOTTINGHAM WEST CCG</td>\n",
       "      <td>4404</td>\n",
       "      <td>10632.59</td>\n",
       "      <td>0</td>\n",
       "      <td>0</td>\n",
       "    </tr>\n",
       "    <tr>\n",
       "      <td>4</td>\n",
       "      <td>2014-08-01</td>\n",
       "      <td>08C</td>\n",
       "      <td>NHS HAMMERSMITH AND FULHAM CCG</td>\n",
       "      <td>4514</td>\n",
       "      <td>13679.55</td>\n",
       "      <td>0</td>\n",
       "      <td>0</td>\n",
       "    </tr>\n",
       "  </tbody>\n",
       "</table>\n",
       "</div>"
      ],
      "text/plain": [
       "         date   id                            name  y_items  y_actual_cost  \\\n",
       "0  2014-08-01  10C            NHS SURREY HEATH CCG     2953        8585.86   \n",
       "1  2014-08-01  02W           NHS BRADFORD CITY CCG     3496        7854.67   \n",
       "2  2014-08-01  03V                   NHS CORBY CCG     4021        5699.37   \n",
       "3  2014-08-01  04M         NHS NOTTINGHAM WEST CCG     4404       10632.59   \n",
       "4  2014-08-01  08C  NHS HAMMERSMITH AND FULHAM CCG     4514       13679.55   \n",
       "\n",
       "   x_items  x_actual_cost  \n",
       "0        0              0  \n",
       "1        0              0  \n",
       "2        0              0  \n",
       "3        0              0  \n",
       "4        0              0  "
      ]
     },
     "execution_count": 4,
     "metadata": {},
     "output_type": "execute_result"
    }
   ],
   "source": [
    "data.head()"
   ]
  },
  {
   "cell_type": "markdown",
   "metadata": {},
   "source": [
    "# Feature engineering"
   ]
  },
  {
   "cell_type": "markdown",
   "metadata": {},
   "source": [
    "### Create the actual cost attribute"
   ]
  },
  {
   "cell_type": "code",
   "execution_count": 5,
   "metadata": {},
   "outputs": [],
   "source": [
    "data['y_total_cost'] = data['y_items'] * data['y_actual_cost']\n",
    "data['x_total_cost'] = data['x_items'] * data['x_actual_cost']"
   ]
  },
  {
   "cell_type": "markdown",
   "metadata": {},
   "source": [
    "### Get the names of the CCG clinics"
   ]
  },
  {
   "cell_type": "code",
   "execution_count": 6,
   "metadata": {},
   "outputs": [],
   "source": [
    "ccg_names = data['name'].unique()\n",
    "ccg_ids = data['id'].unique()\n",
    "number_ccg = len(ccg_names)\n",
    "number_ids = len(ccg_ids)"
   ]
  },
  {
   "cell_type": "markdown",
   "metadata": {},
   "source": [
    "### Print the number of unique CCGs"
   ]
  },
  {
   "cell_type": "code",
   "execution_count": 7,
   "metadata": {},
   "outputs": [
    {
     "name": "stdout",
     "output_type": "stream",
     "text": [
      "We have 191 unique CCGs.\n"
     ]
    }
   ],
   "source": [
    "print(\"We have \" + str(number_ccg) + \" unique CCGs.\")"
   ]
  },
  {
   "cell_type": "code",
   "execution_count": 8,
   "metadata": {},
   "outputs": [],
   "source": [
    "#print(data[(data['name'] == \"NHS SURREY HEATH CCG\") & (data['date'].str.contains(\"2015\"))])"
   ]
  },
  {
   "cell_type": "markdown",
   "metadata": {},
   "source": [
    "### Get the time period - years\n",
    "\n",
    "Optimization - instead of iterating through all the dates, iterate through the unique values. Significant reduce in computation time."
   ]
  },
  {
   "cell_type": "code",
   "execution_count": 34,
   "metadata": {},
   "outputs": [
    {
     "name": "stdout",
     "output_type": "stream",
     "text": [
      "Years available: ['2014', '2015', '2016', '2017', '2018', '2019']\n",
      "Months available: [1, 2, 3, 4, 5, 6, 7, 8, 9, 10, 11, 12]\n",
      "Number of years available: 6\n"
     ]
    }
   ],
   "source": [
    "def get_available_years(dataframe):\n",
    "    years = set()\n",
    "    for row in data['date'].unique():\n",
    "        year = re.search(\"[\\d]*\", row)\n",
    "        years.add(year.group(0))\n",
    "    years = sorted(years)\n",
    "    return years\n",
    "\n",
    "def get_available_months(dataframe):\n",
    "    months = set()\n",
    "    for row in data['date'].unique():\n",
    "        month = re.search(r\"(?P<int>\\d*)\\-(\\d*)-(\\d*)\", row)\n",
    "        months.add(int(month.group(2)))\n",
    "    months = sorted(months)\n",
    "    return months\n",
    "\n",
    "def map_months(req_months):\n",
    "    #print(req_months)\n",
    "    regex = re.compile(r\"(?P<int>^(\" + \"|\".join(req_months) + \"))\", re.IGNORECASE)\n",
    "    list_months = list(filter(regex.findall, months_string.keys()))       \n",
    "    #print(list_months)\n",
    "    months_int = list(map(lambda x: months_string[x] if x in months_string else 0, list_months))\n",
    "    return months_int    \n",
    "\n",
    "\n",
    "\n",
    "years = get_available_years(data)\n",
    "months = get_available_months(data)\n",
    "number_years = len(years)\n",
    "print(\"Years available: \" +str(years))\n",
    "print(\"Months available: \" + str(months))\n",
    "print(\"Number of years available: \" + str(number_years))"
   ]
  },
  {
   "cell_type": "markdown",
   "metadata": {},
   "source": [
    "# Create the dictionary for each year"
   ]
  },
  {
   "cell_type": "code",
   "execution_count": 47,
   "metadata": {},
   "outputs": [],
   "source": [
    "#Get the total units for a time period/attribute for a specific CCG\n",
    "def get_months_data(req_months, index_year, ccg_name, req_time_data):\n",
    "    time_data = req_time_data\n",
    "    get_month_string = lambda y: str(y[0]) + \"|\" + str(y[1]) + \"|\" + str(y[2]) if y[0] >= 10 else \"0\" + str(y[0]) + \"|\" + \"0\" + str(y[1]) + \"|\" + \"0\" + str(y[2]) \n",
    "    regex = re.compile(r\"(?P<int>\" +str(index_year) + \")\\-(\" + get_month_string(req_months) + \")-(\\d*)\")\n",
    "    list_months = list(filter(regex.findall, time_data))\n",
    "    months = [index for index, value in enumerate(time_data) if (value in list_months)]\n",
    "    return data.loc[list(time_data.index[months]), attribute]\n",
    "\n",
    "#Get the total units for a time period/attribute for a specific CCG\n",
    "def get_data_cgg(req_df, req_ccg_name, req_time_data, req_months = months, req_years = years):\n",
    "    time_data = req_time_data\n",
    "    if(type(req_months[0]) is str):\n",
    "        req_months = map_months(req_months)\n",
    "    req_months = list(map(lambda a: str(a) + \"|\" if int(a) >= 10 else \"0\" + str(a) + \"|\", req_months))\n",
    "    req_years = list(map(lambda a: str(a), req_years))\n",
    "    regex = re.compile(r\"(?P<int>\" + \"|\".join(req_years) + \")\\-(\" + \"\".join(req_months) + \")-(\\d*)\")\n",
    "    list_months = list(filter(regex.findall, time_data))\n",
    "    months = [index for index, value in enumerate(time_data) if (value in list_months)]\n",
    "    return req_df.loc[list(time_data.index[months])]\n",
    "\n",
    "def get_data_year(req_df, req_attribute, req_years = years):\n",
    "    return req_df[req_df['year'] == req_years][req_attribute]\n",
    "\n",
    "\n",
    "#Helper method for get_data_cggget_data method\n",
    "def get_time_data_ccg(dataframe, ccg_name):\n",
    "    return dataframe[dataframe['name'] == ccg_name]['date']"
   ]
  },
  {
   "cell_type": "code",
   "execution_count": 44,
   "metadata": {},
   "outputs": [
    {
     "data": {
      "text/markdown": [
       "## Create a search query for a CCG and time period:"
      ],
      "text/plain": [
       "<IPython.core.display.Markdown object>"
      ]
     },
     "metadata": {},
     "output_type": "display_data"
    },
    {
     "data": {
      "application/vnd.jupyter.widget-view+json": {
       "model_id": "996950b3a6a74b44af76387d3668a4a3",
       "version_major": 2,
       "version_minor": 0
      },
      "text/plain": [
       "HBox(children=(interactive(children=(Select(description='CCG:', options=('NHS SURREY HEATH CCG', 'NHS BRADFORD…"
      ]
     },
     "metadata": {},
     "output_type": "display_data"
    }
   ],
   "source": [
    "widget_ccg = widgets.Select(\n",
    "    options=ccg_names,\n",
    "    rows=10,\n",
    "    description='CCG:',\n",
    "    disabled=False\n",
    ")\n",
    "\n",
    "widget_month = widgets.SelectMultiple(\n",
    "    options=months_string.keys(),\n",
    "    rows=10,\n",
    "    description='Months',\n",
    "    disabled=False\n",
    ")\n",
    "\n",
    "widget_year = widgets.SelectMultiple(\n",
    "    options=years,\n",
    "    rows=10,\n",
    "    description='Year',\n",
    "    disabled=False\n",
    ")\n",
    "\n",
    "ccg_list = list()\n",
    "months_list = list()\n",
    "year_list = list()\n",
    "def ccg_func(x):\n",
    "    ccg_list.append(x)\n",
    "def month_func(x):\n",
    "    months_list.append(x)\n",
    "def year_func(x):\n",
    "    year_list.append(x)\n",
    "\n",
    "    \n",
    "w1 = interactive(ccg_func,  x=widget_ccg)\n",
    "w2 = interactive(month_func, x=widget_month)\n",
    "w3 = interactive(year_func, x=widget_year)\n",
    "printmd(\"## Create a search query for a CCG and time period:\")\n",
    "HBox([w1, w2, w3])\n",
    "\n"
   ]
  },
  {
   "cell_type": "code",
   "execution_count": 52,
   "metadata": {},
   "outputs": [],
   "source": [
    "try:\n",
    "    ccg_elements = ccg_list[len(ccg_list) - 1] \n",
    "    months_elements= months_list[len(months_list) - 1] \n",
    "    months_elements = [months_string[val] for val in months_elements]\n",
    "    if months_elements == []:\n",
    "        months_elements = months\n",
    "    years_elements = year_list[len(year_list) - 1]\n",
    "except IndexError:\n",
    "    pass"
   ]
  },
  {
   "cell_type": "markdown",
   "metadata": {},
   "source": [
    "### Display the data "
   ]
  },
  {
   "cell_type": "code",
   "execution_count": 53,
   "metadata": {},
   "outputs": [
    {
     "data": {
      "text/html": [
       "<div>\n",
       "<style scoped>\n",
       "    .dataframe tbody tr th:only-of-type {\n",
       "        vertical-align: middle;\n",
       "    }\n",
       "\n",
       "    .dataframe tbody tr th {\n",
       "        vertical-align: top;\n",
       "    }\n",
       "\n",
       "    .dataframe thead th {\n",
       "        text-align: right;\n",
       "    }\n",
       "</style>\n",
       "<table border=\"1\" class=\"dataframe\">\n",
       "  <thead>\n",
       "    <tr style=\"text-align: right;\">\n",
       "      <th></th>\n",
       "      <th>date</th>\n",
       "      <th>id</th>\n",
       "      <th>name</th>\n",
       "      <th>y_items</th>\n",
       "      <th>y_actual_cost</th>\n",
       "      <th>x_items</th>\n",
       "      <th>x_actual_cost</th>\n",
       "      <th>y_total_cost</th>\n",
       "      <th>x_total_cost</th>\n",
       "    </tr>\n",
       "  </thead>\n",
       "  <tbody>\n",
       "    <tr>\n",
       "      <td>7832</td>\n",
       "      <td>2018-01-01</td>\n",
       "      <td>10C</td>\n",
       "      <td>NHS SURREY HEATH CCG</td>\n",
       "      <td>4434</td>\n",
       "      <td>8117.68</td>\n",
       "      <td>0</td>\n",
       "      <td>0</td>\n",
       "      <td>35993793.12</td>\n",
       "      <td>0</td>\n",
       "    </tr>\n",
       "    <tr>\n",
       "      <td>8022</td>\n",
       "      <td>2018-02-01</td>\n",
       "      <td>10C</td>\n",
       "      <td>NHS SURREY HEATH CCG</td>\n",
       "      <td>3858</td>\n",
       "      <td>6300.80</td>\n",
       "      <td>0</td>\n",
       "      <td>0</td>\n",
       "      <td>24308486.40</td>\n",
       "      <td>0</td>\n",
       "    </tr>\n",
       "    <tr>\n",
       "      <td>8213</td>\n",
       "      <td>2018-03-01</td>\n",
       "      <td>10C</td>\n",
       "      <td>NHS SURREY HEATH CCG</td>\n",
       "      <td>4349</td>\n",
       "      <td>7265.04</td>\n",
       "      <td>0</td>\n",
       "      <td>0</td>\n",
       "      <td>31595658.96</td>\n",
       "      <td>0</td>\n",
       "    </tr>\n",
       "    <tr>\n",
       "      <td>8404</td>\n",
       "      <td>2018-04-01</td>\n",
       "      <td>10C</td>\n",
       "      <td>NHS SURREY HEATH CCG</td>\n",
       "      <td>4291</td>\n",
       "      <td>8527.67</td>\n",
       "      <td>0</td>\n",
       "      <td>0</td>\n",
       "      <td>36592231.97</td>\n",
       "      <td>0</td>\n",
       "    </tr>\n",
       "    <tr>\n",
       "      <td>8595</td>\n",
       "      <td>2018-05-01</td>\n",
       "      <td>10C</td>\n",
       "      <td>NHS SURREY HEATH CCG</td>\n",
       "      <td>4505</td>\n",
       "      <td>9086.37</td>\n",
       "      <td>0</td>\n",
       "      <td>0</td>\n",
       "      <td>40934096.85</td>\n",
       "      <td>0</td>\n",
       "    </tr>\n",
       "    <tr>\n",
       "      <td>8786</td>\n",
       "      <td>2018-06-01</td>\n",
       "      <td>10C</td>\n",
       "      <td>NHS SURREY HEATH CCG</td>\n",
       "      <td>4502</td>\n",
       "      <td>8651.03</td>\n",
       "      <td>0</td>\n",
       "      <td>0</td>\n",
       "      <td>38946937.06</td>\n",
       "      <td>0</td>\n",
       "    </tr>\n",
       "    <tr>\n",
       "      <td>8977</td>\n",
       "      <td>2018-07-01</td>\n",
       "      <td>10C</td>\n",
       "      <td>NHS SURREY HEATH CCG</td>\n",
       "      <td>4314</td>\n",
       "      <td>6437.59</td>\n",
       "      <td>0</td>\n",
       "      <td>0</td>\n",
       "      <td>27771763.26</td>\n",
       "      <td>0</td>\n",
       "    </tr>\n",
       "    <tr>\n",
       "      <td>9168</td>\n",
       "      <td>2018-08-01</td>\n",
       "      <td>10C</td>\n",
       "      <td>NHS SURREY HEATH CCG</td>\n",
       "      <td>4503</td>\n",
       "      <td>7766.31</td>\n",
       "      <td>0</td>\n",
       "      <td>0</td>\n",
       "      <td>34971693.93</td>\n",
       "      <td>0</td>\n",
       "    </tr>\n",
       "    <tr>\n",
       "      <td>9359</td>\n",
       "      <td>2018-09-01</td>\n",
       "      <td>10C</td>\n",
       "      <td>NHS SURREY HEATH CCG</td>\n",
       "      <td>4167</td>\n",
       "      <td>7294.65</td>\n",
       "      <td>0</td>\n",
       "      <td>0</td>\n",
       "      <td>30396806.55</td>\n",
       "      <td>0</td>\n",
       "    </tr>\n",
       "    <tr>\n",
       "      <td>9550</td>\n",
       "      <td>2018-10-01</td>\n",
       "      <td>10C</td>\n",
       "      <td>NHS SURREY HEATH CCG</td>\n",
       "      <td>4519</td>\n",
       "      <td>6606.44</td>\n",
       "      <td>0</td>\n",
       "      <td>0</td>\n",
       "      <td>29854502.36</td>\n",
       "      <td>0</td>\n",
       "    </tr>\n",
       "    <tr>\n",
       "      <td>9741</td>\n",
       "      <td>2018-11-01</td>\n",
       "      <td>10C</td>\n",
       "      <td>NHS SURREY HEATH CCG</td>\n",
       "      <td>4560</td>\n",
       "      <td>6533.96</td>\n",
       "      <td>0</td>\n",
       "      <td>0</td>\n",
       "      <td>29794857.60</td>\n",
       "      <td>0</td>\n",
       "    </tr>\n",
       "    <tr>\n",
       "      <td>9933</td>\n",
       "      <td>2018-12-01</td>\n",
       "      <td>10C</td>\n",
       "      <td>NHS SURREY HEATH CCG</td>\n",
       "      <td>4641</td>\n",
       "      <td>6885.37</td>\n",
       "      <td>0</td>\n",
       "      <td>0</td>\n",
       "      <td>31955002.17</td>\n",
       "      <td>0</td>\n",
       "    </tr>\n",
       "  </tbody>\n",
       "</table>\n",
       "</div>"
      ],
      "text/plain": [
       "            date   id                  name  y_items  y_actual_cost  x_items  \\\n",
       "7832  2018-01-01  10C  NHS SURREY HEATH CCG     4434        8117.68        0   \n",
       "8022  2018-02-01  10C  NHS SURREY HEATH CCG     3858        6300.80        0   \n",
       "8213  2018-03-01  10C  NHS SURREY HEATH CCG     4349        7265.04        0   \n",
       "8404  2018-04-01  10C  NHS SURREY HEATH CCG     4291        8527.67        0   \n",
       "8595  2018-05-01  10C  NHS SURREY HEATH CCG     4505        9086.37        0   \n",
       "8786  2018-06-01  10C  NHS SURREY HEATH CCG     4502        8651.03        0   \n",
       "8977  2018-07-01  10C  NHS SURREY HEATH CCG     4314        6437.59        0   \n",
       "9168  2018-08-01  10C  NHS SURREY HEATH CCG     4503        7766.31        0   \n",
       "9359  2018-09-01  10C  NHS SURREY HEATH CCG     4167        7294.65        0   \n",
       "9550  2018-10-01  10C  NHS SURREY HEATH CCG     4519        6606.44        0   \n",
       "9741  2018-11-01  10C  NHS SURREY HEATH CCG     4560        6533.96        0   \n",
       "9933  2018-12-01  10C  NHS SURREY HEATH CCG     4641        6885.37        0   \n",
       "\n",
       "      x_actual_cost  y_total_cost  x_total_cost  \n",
       "7832              0   35993793.12             0  \n",
       "8022              0   24308486.40             0  \n",
       "8213              0   31595658.96             0  \n",
       "8404              0   36592231.97             0  \n",
       "8595              0   40934096.85             0  \n",
       "8786              0   38946937.06             0  \n",
       "8977              0   27771763.26             0  \n",
       "9168              0   34971693.93             0  \n",
       "9359              0   30396806.55             0  \n",
       "9550              0   29854502.36             0  \n",
       "9741              0   29794857.60             0  \n",
       "9933              0   31955002.17             0  "
      ]
     },
     "metadata": {},
     "output_type": "display_data"
    }
   ],
   "source": [
    "time_data = get_time_data_ccg(data, ccg_name = ccg_elements)\n",
    "display(get_data_cgg(req_df = data, req_ccg_name = ccg_elements, req_time_data = time_data, req_months = months_elements, req_years = years_elements))"
   ]
  },
  {
   "cell_type": "markdown",
   "metadata": {},
   "source": [
    "## Create quarter analysis attribute for each CCG"
   ]
  },
  {
   "cell_type": "code",
   "execution_count": 54,
   "metadata": {},
   "outputs": [],
   "source": [
    "def create_df_analyse(data):\n",
    "    data_list = []\n",
    "    for name_ccg in ccg_names:\n",
    "        year_dictionary0 = pd.DataFrame(columns = [\"year\", \"total_spending\", \"number_months\", \"total_units\", \"mean_units_per_month\", \"std\"])\n",
    "        year_dictionary0['year'] = years\n",
    "        for index_year in years:\n",
    "            year_dictionary0.loc[(year_dictionary0['year'] == index_year), 'total_spending'] = data[(data['name'] == name_ccg) & (data['date'].str.contains(index_year))]['y_total_cost'].sum().round(2)\n",
    "            year_dictionary0.loc[(year_dictionary0['year'] == index_year), 'number_months'] = data[(data['name'] == name_ccg) & (data['date'].str.contains(index_year))]['name'].count()\n",
    "            year_dictionary0.loc[(year_dictionary0['year'] == index_year), 'total_units'] = data[(data['name'] == name_ccg) & (data['date'].str.contains(index_year))]['y_items'].sum().round(2)\n",
    "            year_dictionary0.loc[(year_dictionary0['year'] == index_year), 'mean_units_per_month'] = data[(data['name'] == name_ccg) & (data['date'].str.contains(index_year))]['y_items'].mean().round(2)\n",
    "            year_dictionary0.loc[(year_dictionary0['year'] == index_year), 'std'] = data[(data['name'] == name_ccg) & (data['date'].str.contains(index_year))]['y_items'].std().round(2)\n",
    "\n",
    "            time_data = get_time_data_ccg(data, name_ccg)\n",
    "            #Quarter 1\n",
    "            year_dictionary0.loc[(year_dictionary0['year'] == index_year), \"Q1_total_units\"] = get_data_cgg(data, req_ccg_name = name_ccg, req_time_data = time_data, req_months = [1, 2, 3], req_years = [index_year])['y_items'].sum().round(2)\n",
    "\n",
    "            #Quarter 2\n",
    "            year_dictionary0.loc[(year_dictionary0['year'] == index_year), \"Q2_total_units\"] = get_data_cgg(data, req_ccg_name = name_ccg, req_time_data = time_data, req_months = [4, 5, 6], req_years = [index_year])['y_items'].sum().round(2)\n",
    "\n",
    "            #Quarter 3\n",
    "            year_dictionary0.loc[(year_dictionary0['year'] == index_year), \"Q3_total_units\"] = get_data_cgg(data, req_ccg_name = name_ccg, req_time_data = time_data, req_months = [7, 8, 9], req_years = [index_year])['y_items'].sum().round(2)\n",
    "\n",
    "            #Quarter 4\n",
    "            year_dictionary0.loc[(year_dictionary0['year'] == index_year), \"Q4_total_units\"] = get_data_cgg(data, req_ccg_name = name_ccg, req_time_data = time_data, req_months = [10, 11, 12], req_years = [index_year])['y_items'].sum().round(2)\n",
    "        year_dictionary0 = year_dictionary0.set_index('year')\n",
    "        data_list.append(year_dictionary0)\n",
    "    data_list = pd.concat(data_list, keys=ccg_names)\n",
    "    data_list.insert(0, 'clinic', data_list.index)\n",
    "    data_list = data_list.reset_index(drop=True)\n",
    "    data_list.insert(0, 'clinic_name', list(map(lambda val : str(val[0]), data_list['clinic'])))\n",
    "    data_list.insert(1, 'year', list(map(lambda val : int(val[1]), data_list['clinic'])))\n",
    "    data_list = data_list.drop(['clinic'], axis=1)\n",
    "    return data_list"
   ]
  },
  {
   "cell_type": "markdown",
   "metadata": {},
   "source": [
    "### Store the result in a DataFrame"
   ]
  },
  {
   "cell_type": "code",
   "execution_count": 55,
   "metadata": {},
   "outputs": [],
   "source": [
    "res = create_df_analyse(data)"
   ]
  },
  {
   "cell_type": "markdown",
   "metadata": {},
   "source": [
    "### Print the results"
   ]
  },
  {
   "cell_type": "code",
   "execution_count": 56,
   "metadata": {},
   "outputs": [
    {
     "data": {
      "text/html": [
       "<div>\n",
       "<style scoped>\n",
       "    .dataframe tbody tr th:only-of-type {\n",
       "        vertical-align: middle;\n",
       "    }\n",
       "\n",
       "    .dataframe tbody tr th {\n",
       "        vertical-align: top;\n",
       "    }\n",
       "\n",
       "    .dataframe thead th {\n",
       "        text-align: right;\n",
       "    }\n",
       "</style>\n",
       "<table border=\"1\" class=\"dataframe\">\n",
       "  <thead>\n",
       "    <tr style=\"text-align: right;\">\n",
       "      <th></th>\n",
       "      <th>clinic_name</th>\n",
       "      <th>year</th>\n",
       "      <th>total_spending</th>\n",
       "      <th>number_months</th>\n",
       "      <th>total_units</th>\n",
       "      <th>mean_units_per_month</th>\n",
       "      <th>std</th>\n",
       "      <th>Q1_total_units</th>\n",
       "      <th>Q2_total_units</th>\n",
       "      <th>Q3_total_units</th>\n",
       "      <th>Q4_total_units</th>\n",
       "    </tr>\n",
       "  </thead>\n",
       "  <tbody>\n",
       "    <tr>\n",
       "      <td>0</td>\n",
       "      <td>NHS SURREY HEATH CCG</td>\n",
       "      <td>2014</td>\n",
       "      <td>1.34509e+08</td>\n",
       "      <td>5</td>\n",
       "      <td>16187</td>\n",
       "      <td>3237.4</td>\n",
       "      <td>260.59</td>\n",
       "      <td>0.0</td>\n",
       "      <td>0.0</td>\n",
       "      <td>6156.0</td>\n",
       "      <td>10031.0</td>\n",
       "    </tr>\n",
       "    <tr>\n",
       "      <td>1</td>\n",
       "      <td>NHS SURREY HEATH CCG</td>\n",
       "      <td>2015</td>\n",
       "      <td>3.21966e+08</td>\n",
       "      <td>12</td>\n",
       "      <td>41153</td>\n",
       "      <td>3429.42</td>\n",
       "      <td>159.91</td>\n",
       "      <td>10030.0</td>\n",
       "      <td>10154.0</td>\n",
       "      <td>10317.0</td>\n",
       "      <td>10652.0</td>\n",
       "    </tr>\n",
       "    <tr>\n",
       "      <td>2</td>\n",
       "      <td>NHS SURREY HEATH CCG</td>\n",
       "      <td>2016</td>\n",
       "      <td>3.16247e+08</td>\n",
       "      <td>12</td>\n",
       "      <td>46515</td>\n",
       "      <td>3876.25</td>\n",
       "      <td>249.57</td>\n",
       "      <td>11176.0</td>\n",
       "      <td>11254.0</td>\n",
       "      <td>11670.0</td>\n",
       "      <td>12415.0</td>\n",
       "    </tr>\n",
       "    <tr>\n",
       "      <td>3</td>\n",
       "      <td>NHS SURREY HEATH CCG</td>\n",
       "      <td>2017</td>\n",
       "      <td>3.7162e+08</td>\n",
       "      <td>12</td>\n",
       "      <td>50409</td>\n",
       "      <td>4200.75</td>\n",
       "      <td>179.42</td>\n",
       "      <td>12371.0</td>\n",
       "      <td>12517.0</td>\n",
       "      <td>12568.0</td>\n",
       "      <td>12953.0</td>\n",
       "    </tr>\n",
       "    <tr>\n",
       "      <td>4</td>\n",
       "      <td>NHS SURREY HEATH CCG</td>\n",
       "      <td>2018</td>\n",
       "      <td>3.93116e+08</td>\n",
       "      <td>12</td>\n",
       "      <td>52643</td>\n",
       "      <td>4386.92</td>\n",
       "      <td>212.97</td>\n",
       "      <td>12641.0</td>\n",
       "      <td>13298.0</td>\n",
       "      <td>12984.0</td>\n",
       "      <td>13720.0</td>\n",
       "    </tr>\n",
       "  </tbody>\n",
       "</table>\n",
       "</div>"
      ],
      "text/plain": [
       "            clinic_name  year total_spending  number_months  total_units  \\\n",
       "0  NHS SURREY HEATH CCG  2014    1.34509e+08              5        16187   \n",
       "1  NHS SURREY HEATH CCG  2015    3.21966e+08             12        41153   \n",
       "2  NHS SURREY HEATH CCG  2016    3.16247e+08             12        46515   \n",
       "3  NHS SURREY HEATH CCG  2017     3.7162e+08             12        50409   \n",
       "4  NHS SURREY HEATH CCG  2018    3.93116e+08             12        52643   \n",
       "\n",
       "  mean_units_per_month     std  Q1_total_units  Q2_total_units  \\\n",
       "0               3237.4  260.59             0.0             0.0   \n",
       "1              3429.42  159.91         10030.0         10154.0   \n",
       "2              3876.25  249.57         11176.0         11254.0   \n",
       "3              4200.75  179.42         12371.0         12517.0   \n",
       "4              4386.92  212.97         12641.0         13298.0   \n",
       "\n",
       "   Q3_total_units  Q4_total_units  \n",
       "0          6156.0         10031.0  \n",
       "1         10317.0         10652.0  \n",
       "2         11670.0         12415.0  \n",
       "3         12568.0         12953.0  \n",
       "4         12984.0         13720.0  "
      ]
     },
     "execution_count": 56,
     "metadata": {},
     "output_type": "execute_result"
    }
   ],
   "source": [
    "res.head()"
   ]
  },
  {
   "cell_type": "markdown",
   "metadata": {},
   "source": [
    "## Save to .csv file the dataframe"
   ]
  },
  {
   "cell_type": "code",
   "execution_count": null,
   "metadata": {
    "scrolled": true
   },
   "outputs": [],
   "source": [
    "res.to_csv('./DataOpenPresc.csv', index=True)"
   ]
  },
  {
   "cell_type": "markdown",
   "metadata": {},
   "source": [
    "## Plot different items from CCGs"
   ]
  },
  {
   "cell_type": "code",
   "execution_count": 66,
   "metadata": {},
   "outputs": [],
   "source": [
    "def plot_items_ccg(req_names, attribute, req_months = months, req_year = years):\n",
    "    time_data = list(map(lambda value : data[data['name'] == value]['date'], req_names))\n",
    "    fig = go.Figure()\n",
    "    colors = ['red', 'blue', 'deepskyblue', 'orange' , 'black', 'green', 'violet', 'pink', 'yellow', 'silver', 'magenta', 'cyan', 'azure']\n",
    "    for index_fig in range(len(req_names)):\n",
    "        fig.add_trace(go.Scatter(x=get_data_cgg(req_df = data, req_months = req_months, req_years = req_year, req_ccg_name = req_names[index_fig], req_time_data = time_data[index_fig])['date'], y = get_data_cgg(req_df = data, req_months = req_months, req_years = req_year, req_ccg_name = req_names[index_fig], req_time_data = time_data[index_fig])['y_items'], name= req_names[index_fig],\n",
    "                             line_color=random.choice(colors)))\n",
    "    fig.update_layout(title_text='Time Series with Rangeslider', xaxis_rangeslider_visible=True)\n",
    "    fig.show()"
   ]
  },
  {
   "cell_type": "code",
   "execution_count": 63,
   "metadata": {},
   "outputs": [
    {
     "data": {
      "text/markdown": [
       "## Create a search query for a CCG and time period:"
      ],
      "text/plain": [
       "<IPython.core.display.Markdown object>"
      ]
     },
     "metadata": {},
     "output_type": "display_data"
    },
    {
     "data": {
      "application/vnd.jupyter.widget-view+json": {
       "model_id": "d459ad5485a149db90ddca187abcfaa1",
       "version_major": 2,
       "version_minor": 0
      },
      "text/plain": [
       "HBox(children=(interactive(children=(SelectMultiple(description='CCG:', options=('NHS SURREY HEATH CCG', 'NHS …"
      ]
     },
     "metadata": {},
     "output_type": "display_data"
    }
   ],
   "source": [
    "widget_ccgs = widgets.SelectMultiple(\n",
    "    options=ccg_names,\n",
    "    rows=10,\n",
    "    description='CCG:',\n",
    "    disabled=False\n",
    ")\n",
    "\n",
    "widget_month = widgets.SelectMultiple(\n",
    "    options=months_string.keys(),\n",
    "    rows=10,\n",
    "    description='Months',\n",
    "    disabled=False\n",
    ")\n",
    "\n",
    "widget_year = widgets.SelectMultiple(\n",
    "    options=years,\n",
    "    rows=10,\n",
    "    description='Year',\n",
    "    disabled=False\n",
    ")\n",
    "\n",
    "ccg_list = list()\n",
    "months_list = list()\n",
    "year_list = list()\n",
    "def ccg_func(x):\n",
    "    ccg_list.append(x)\n",
    "def month_func(x):\n",
    "    months_list.append(x)\n",
    "def year_func(x):\n",
    "    year_list.append(x)\n",
    "\n",
    "    \n",
    "w1 = interactive(ccg_func,  x=widget_ccgs)\n",
    "w2 = interactive(month_func, x=widget_month)\n",
    "w3 = interactive(year_func, x=widget_year)\n",
    "printmd(\"## Create a search query for a CCG and time period:\")\n",
    "HBox([w1, w2, w3])"
   ]
  },
  {
   "cell_type": "code",
   "execution_count": 71,
   "metadata": {},
   "outputs": [],
   "source": [
    "try:\n",
    "    ccg_elements = ccg_list[len(ccg_list) - 1] \n",
    "    months_elements= months_list[len(months_list) - 1] \n",
    "    months_elements = [months_string[val] for val in months_elements]\n",
    "    if months_elements == []:\n",
    "        months_elements = months\n",
    "    years_elements = year_list[len(year_list) - 1]\n",
    "except IndexError:\n",
    "    pass"
   ]
  },
  {
   "cell_type": "code",
   "execution_count": 72,
   "metadata": {},
   "outputs": [
    {
     "data": {
      "application/vnd.plotly.v1+json": {
       "config": {
        "plotlyServerURL": "https://plot.ly"
       },
       "data": [
        {
         "line": {
          "color": "black"
         },
         "name": "NHS CORBY CCG",
         "type": "scatter",
         "x": [
          "2014-08-01",
          "2014-09-01",
          "2014-10-01",
          "2014-11-01",
          "2014-12-01",
          "2015-01-01",
          "2015-02-01",
          "2015-03-01",
          "2015-04-01",
          "2015-05-01",
          "2015-06-01",
          "2015-07-01",
          "2015-08-01",
          "2015-09-01",
          "2015-10-01",
          "2015-11-01",
          "2015-12-01",
          "2016-01-01",
          "2016-02-01",
          "2016-03-01",
          "2016-04-01",
          "2016-05-01",
          "2016-06-01",
          "2016-07-01",
          "2016-08-01",
          "2016-09-01",
          "2016-10-01",
          "2016-11-01",
          "2016-12-01",
          "2017-01-01",
          "2017-02-01",
          "2017-03-01",
          "2017-04-01",
          "2017-05-01",
          "2017-06-01",
          "2017-07-01",
          "2017-08-01",
          "2017-09-01",
          "2017-10-01",
          "2017-11-01",
          "2017-12-01",
          "2018-01-01",
          "2018-02-01",
          "2018-03-01",
          "2018-04-01",
          "2018-05-01",
          "2018-06-01",
          "2018-07-01",
          "2018-08-01",
          "2018-09-01",
          "2018-10-01",
          "2018-11-01",
          "2018-12-01",
          "2019-01-01",
          "2019-02-01",
          "2019-03-01",
          "2019-04-01",
          "2019-05-01",
          "2019-06-01",
          "2019-07-01"
         ],
         "y": [
          4021,
          4040,
          4274,
          3848,
          4364,
          4197,
          3899,
          4400,
          4308,
          4491,
          4409,
          4605,
          4347,
          4535,
          4690,
          4233,
          5391,
          5030,
          4582,
          4410,
          4673,
          4765,
          4531,
          4420,
          4665,
          5214,
          5323,
          5216,
          5252,
          4890,
          4481,
          5197,
          4513,
          4977,
          5086,
          4911,
          4913,
          4814,
          5122,
          4966,
          4711,
          5306,
          4791,
          5040,
          5236,
          5187,
          5093,
          5308,
          5368,
          4965,
          5362,
          5245,
          5248,
          5793,
          4858,
          5424,
          4917,
          5580,
          5210,
          5474
         ]
        },
        {
         "line": {
          "color": "pink"
         },
         "name": "NHS NOTTINGHAM WEST CCG",
         "type": "scatter",
         "x": [
          "2014-08-01",
          "2014-09-01",
          "2014-10-01",
          "2014-11-01",
          "2014-12-01",
          "2015-01-01",
          "2015-02-01",
          "2015-03-01",
          "2015-04-01",
          "2015-05-01",
          "2015-06-01",
          "2015-07-01",
          "2015-08-01",
          "2015-09-01",
          "2015-10-01",
          "2015-11-01",
          "2015-12-01",
          "2016-01-01",
          "2016-02-01",
          "2016-03-01",
          "2016-04-01",
          "2016-05-01",
          "2016-06-01",
          "2016-07-01",
          "2016-08-01",
          "2016-09-01",
          "2016-10-01",
          "2016-11-01",
          "2016-12-01",
          "2017-01-01",
          "2017-02-01",
          "2017-03-01",
          "2017-04-01",
          "2017-05-01",
          "2017-06-01",
          "2017-07-01",
          "2017-08-01",
          "2017-09-01",
          "2017-10-01",
          "2017-11-01",
          "2017-12-01",
          "2018-01-01",
          "2018-02-01",
          "2018-03-01",
          "2018-04-01",
          "2018-05-01",
          "2018-06-01",
          "2018-07-01",
          "2018-08-01",
          "2018-09-01",
          "2018-10-01",
          "2018-11-01",
          "2018-12-01",
          "2019-01-01",
          "2019-02-01",
          "2019-03-01",
          "2019-04-01",
          "2019-05-01",
          "2019-06-01",
          "2019-07-01"
         ],
         "y": [
          4404,
          4529,
          4758,
          4270,
          5008,
          4836,
          4518,
          5082,
          4585,
          4644,
          4991,
          5181,
          4646,
          4866,
          5301,
          4848,
          5432,
          4891,
          4896,
          5044,
          5084,
          5007,
          4966,
          4879,
          5115,
          5234,
          4848,
          4954,
          5280,
          4807,
          4556,
          5578,
          4857,
          5280,
          5382,
          5205,
          5371,
          5126,
          5413,
          5358,
          5406,
          5503,
          4962,
          5467,
          5297,
          5510,
          5391,
          5512,
          5679,
          5575,
          5795,
          5708,
          5511,
          5914,
          5238,
          5796,
          5524,
          5849,
          5467,
          6067
         ]
        },
        {
         "line": {
          "color": "silver"
         },
         "name": "NHS RUSHCLIFFE CCG",
         "type": "scatter",
         "x": [
          "2014-08-01",
          "2014-09-01",
          "2014-10-01",
          "2014-11-01",
          "2014-12-01",
          "2015-01-01",
          "2015-02-01",
          "2015-03-01",
          "2015-04-01",
          "2015-05-01",
          "2015-06-01",
          "2015-07-01",
          "2015-08-01",
          "2015-09-01",
          "2015-10-01",
          "2015-11-01",
          "2015-12-01",
          "2016-01-01",
          "2016-02-01",
          "2016-03-01",
          "2016-04-01",
          "2016-05-01",
          "2016-06-01",
          "2016-07-01",
          "2016-08-01",
          "2016-09-01",
          "2016-10-01",
          "2016-11-01",
          "2016-12-01",
          "2017-01-01",
          "2017-02-01",
          "2017-03-01",
          "2017-04-01",
          "2017-05-01",
          "2017-06-01",
          "2017-07-01",
          "2017-08-01",
          "2017-09-01",
          "2017-10-01",
          "2017-11-01",
          "2017-12-01",
          "2018-01-01",
          "2018-02-01",
          "2018-03-01",
          "2018-04-01",
          "2018-05-01",
          "2018-06-01",
          "2018-07-01",
          "2018-08-01",
          "2018-09-01",
          "2018-10-01",
          "2018-11-01",
          "2018-12-01",
          "2019-01-01",
          "2019-02-01",
          "2019-03-01",
          "2019-04-01",
          "2019-05-01",
          "2019-06-01",
          "2019-07-01"
         ],
         "y": [
          4536,
          4933,
          4807,
          4814,
          5389,
          5038,
          4626,
          5336,
          5001,
          4886,
          5102,
          5363,
          4782,
          5347,
          5374,
          5345,
          5651,
          5261,
          5050,
          5510,
          5476,
          5240,
          5449,
          5419,
          5184,
          5288,
          5617,
          5794,
          5690,
          5563,
          5085,
          5940,
          5103,
          5800,
          5854,
          5627,
          5741,
          5715,
          6045,
          5952,
          6036,
          6262,
          5375,
          6157,
          5921,
          6162,
          6161,
          6373,
          6242,
          5889,
          6697,
          6215,
          6488,
          6678,
          5996,
          6509,
          6410,
          6665,
          6309,
          6928
         ]
        }
       ],
       "layout": {
        "template": {
         "data": {
          "bar": [
           {
            "error_x": {
             "color": "#2a3f5f"
            },
            "error_y": {
             "color": "#2a3f5f"
            },
            "marker": {
             "line": {
              "color": "#E5ECF6",
              "width": 0.5
             }
            },
            "type": "bar"
           }
          ],
          "barpolar": [
           {
            "marker": {
             "line": {
              "color": "#E5ECF6",
              "width": 0.5
             }
            },
            "type": "barpolar"
           }
          ],
          "carpet": [
           {
            "aaxis": {
             "endlinecolor": "#2a3f5f",
             "gridcolor": "white",
             "linecolor": "white",
             "minorgridcolor": "white",
             "startlinecolor": "#2a3f5f"
            },
            "baxis": {
             "endlinecolor": "#2a3f5f",
             "gridcolor": "white",
             "linecolor": "white",
             "minorgridcolor": "white",
             "startlinecolor": "#2a3f5f"
            },
            "type": "carpet"
           }
          ],
          "choropleth": [
           {
            "colorbar": {
             "outlinewidth": 0,
             "ticks": ""
            },
            "type": "choropleth"
           }
          ],
          "contour": [
           {
            "colorbar": {
             "outlinewidth": 0,
             "ticks": ""
            },
            "colorscale": [
             [
              0,
              "#0d0887"
             ],
             [
              0.1111111111111111,
              "#46039f"
             ],
             [
              0.2222222222222222,
              "#7201a8"
             ],
             [
              0.3333333333333333,
              "#9c179e"
             ],
             [
              0.4444444444444444,
              "#bd3786"
             ],
             [
              0.5555555555555556,
              "#d8576b"
             ],
             [
              0.6666666666666666,
              "#ed7953"
             ],
             [
              0.7777777777777778,
              "#fb9f3a"
             ],
             [
              0.8888888888888888,
              "#fdca26"
             ],
             [
              1,
              "#f0f921"
             ]
            ],
            "type": "contour"
           }
          ],
          "contourcarpet": [
           {
            "colorbar": {
             "outlinewidth": 0,
             "ticks": ""
            },
            "type": "contourcarpet"
           }
          ],
          "heatmap": [
           {
            "colorbar": {
             "outlinewidth": 0,
             "ticks": ""
            },
            "colorscale": [
             [
              0,
              "#0d0887"
             ],
             [
              0.1111111111111111,
              "#46039f"
             ],
             [
              0.2222222222222222,
              "#7201a8"
             ],
             [
              0.3333333333333333,
              "#9c179e"
             ],
             [
              0.4444444444444444,
              "#bd3786"
             ],
             [
              0.5555555555555556,
              "#d8576b"
             ],
             [
              0.6666666666666666,
              "#ed7953"
             ],
             [
              0.7777777777777778,
              "#fb9f3a"
             ],
             [
              0.8888888888888888,
              "#fdca26"
             ],
             [
              1,
              "#f0f921"
             ]
            ],
            "type": "heatmap"
           }
          ],
          "heatmapgl": [
           {
            "colorbar": {
             "outlinewidth": 0,
             "ticks": ""
            },
            "colorscale": [
             [
              0,
              "#0d0887"
             ],
             [
              0.1111111111111111,
              "#46039f"
             ],
             [
              0.2222222222222222,
              "#7201a8"
             ],
             [
              0.3333333333333333,
              "#9c179e"
             ],
             [
              0.4444444444444444,
              "#bd3786"
             ],
             [
              0.5555555555555556,
              "#d8576b"
             ],
             [
              0.6666666666666666,
              "#ed7953"
             ],
             [
              0.7777777777777778,
              "#fb9f3a"
             ],
             [
              0.8888888888888888,
              "#fdca26"
             ],
             [
              1,
              "#f0f921"
             ]
            ],
            "type": "heatmapgl"
           }
          ],
          "histogram": [
           {
            "marker": {
             "colorbar": {
              "outlinewidth": 0,
              "ticks": ""
             }
            },
            "type": "histogram"
           }
          ],
          "histogram2d": [
           {
            "colorbar": {
             "outlinewidth": 0,
             "ticks": ""
            },
            "colorscale": [
             [
              0,
              "#0d0887"
             ],
             [
              0.1111111111111111,
              "#46039f"
             ],
             [
              0.2222222222222222,
              "#7201a8"
             ],
             [
              0.3333333333333333,
              "#9c179e"
             ],
             [
              0.4444444444444444,
              "#bd3786"
             ],
             [
              0.5555555555555556,
              "#d8576b"
             ],
             [
              0.6666666666666666,
              "#ed7953"
             ],
             [
              0.7777777777777778,
              "#fb9f3a"
             ],
             [
              0.8888888888888888,
              "#fdca26"
             ],
             [
              1,
              "#f0f921"
             ]
            ],
            "type": "histogram2d"
           }
          ],
          "histogram2dcontour": [
           {
            "colorbar": {
             "outlinewidth": 0,
             "ticks": ""
            },
            "colorscale": [
             [
              0,
              "#0d0887"
             ],
             [
              0.1111111111111111,
              "#46039f"
             ],
             [
              0.2222222222222222,
              "#7201a8"
             ],
             [
              0.3333333333333333,
              "#9c179e"
             ],
             [
              0.4444444444444444,
              "#bd3786"
             ],
             [
              0.5555555555555556,
              "#d8576b"
             ],
             [
              0.6666666666666666,
              "#ed7953"
             ],
             [
              0.7777777777777778,
              "#fb9f3a"
             ],
             [
              0.8888888888888888,
              "#fdca26"
             ],
             [
              1,
              "#f0f921"
             ]
            ],
            "type": "histogram2dcontour"
           }
          ],
          "mesh3d": [
           {
            "colorbar": {
             "outlinewidth": 0,
             "ticks": ""
            },
            "type": "mesh3d"
           }
          ],
          "parcoords": [
           {
            "line": {
             "colorbar": {
              "outlinewidth": 0,
              "ticks": ""
             }
            },
            "type": "parcoords"
           }
          ],
          "pie": [
           {
            "automargin": true,
            "type": "pie"
           }
          ],
          "scatter": [
           {
            "marker": {
             "colorbar": {
              "outlinewidth": 0,
              "ticks": ""
             }
            },
            "type": "scatter"
           }
          ],
          "scatter3d": [
           {
            "line": {
             "colorbar": {
              "outlinewidth": 0,
              "ticks": ""
             }
            },
            "marker": {
             "colorbar": {
              "outlinewidth": 0,
              "ticks": ""
             }
            },
            "type": "scatter3d"
           }
          ],
          "scattercarpet": [
           {
            "marker": {
             "colorbar": {
              "outlinewidth": 0,
              "ticks": ""
             }
            },
            "type": "scattercarpet"
           }
          ],
          "scattergeo": [
           {
            "marker": {
             "colorbar": {
              "outlinewidth": 0,
              "ticks": ""
             }
            },
            "type": "scattergeo"
           }
          ],
          "scattergl": [
           {
            "marker": {
             "colorbar": {
              "outlinewidth": 0,
              "ticks": ""
             }
            },
            "type": "scattergl"
           }
          ],
          "scattermapbox": [
           {
            "marker": {
             "colorbar": {
              "outlinewidth": 0,
              "ticks": ""
             }
            },
            "type": "scattermapbox"
           }
          ],
          "scatterpolar": [
           {
            "marker": {
             "colorbar": {
              "outlinewidth": 0,
              "ticks": ""
             }
            },
            "type": "scatterpolar"
           }
          ],
          "scatterpolargl": [
           {
            "marker": {
             "colorbar": {
              "outlinewidth": 0,
              "ticks": ""
             }
            },
            "type": "scatterpolargl"
           }
          ],
          "scatterternary": [
           {
            "marker": {
             "colorbar": {
              "outlinewidth": 0,
              "ticks": ""
             }
            },
            "type": "scatterternary"
           }
          ],
          "surface": [
           {
            "colorbar": {
             "outlinewidth": 0,
             "ticks": ""
            },
            "colorscale": [
             [
              0,
              "#0d0887"
             ],
             [
              0.1111111111111111,
              "#46039f"
             ],
             [
              0.2222222222222222,
              "#7201a8"
             ],
             [
              0.3333333333333333,
              "#9c179e"
             ],
             [
              0.4444444444444444,
              "#bd3786"
             ],
             [
              0.5555555555555556,
              "#d8576b"
             ],
             [
              0.6666666666666666,
              "#ed7953"
             ],
             [
              0.7777777777777778,
              "#fb9f3a"
             ],
             [
              0.8888888888888888,
              "#fdca26"
             ],
             [
              1,
              "#f0f921"
             ]
            ],
            "type": "surface"
           }
          ],
          "table": [
           {
            "cells": {
             "fill": {
              "color": "#EBF0F8"
             },
             "line": {
              "color": "white"
             }
            },
            "header": {
             "fill": {
              "color": "#C8D4E3"
             },
             "line": {
              "color": "white"
             }
            },
            "type": "table"
           }
          ]
         },
         "layout": {
          "annotationdefaults": {
           "arrowcolor": "#2a3f5f",
           "arrowhead": 0,
           "arrowwidth": 1
          },
          "coloraxis": {
           "colorbar": {
            "outlinewidth": 0,
            "ticks": ""
           }
          },
          "colorscale": {
           "diverging": [
            [
             0,
             "#8e0152"
            ],
            [
             0.1,
             "#c51b7d"
            ],
            [
             0.2,
             "#de77ae"
            ],
            [
             0.3,
             "#f1b6da"
            ],
            [
             0.4,
             "#fde0ef"
            ],
            [
             0.5,
             "#f7f7f7"
            ],
            [
             0.6,
             "#e6f5d0"
            ],
            [
             0.7,
             "#b8e186"
            ],
            [
             0.8,
             "#7fbc41"
            ],
            [
             0.9,
             "#4d9221"
            ],
            [
             1,
             "#276419"
            ]
           ],
           "sequential": [
            [
             0,
             "#0d0887"
            ],
            [
             0.1111111111111111,
             "#46039f"
            ],
            [
             0.2222222222222222,
             "#7201a8"
            ],
            [
             0.3333333333333333,
             "#9c179e"
            ],
            [
             0.4444444444444444,
             "#bd3786"
            ],
            [
             0.5555555555555556,
             "#d8576b"
            ],
            [
             0.6666666666666666,
             "#ed7953"
            ],
            [
             0.7777777777777778,
             "#fb9f3a"
            ],
            [
             0.8888888888888888,
             "#fdca26"
            ],
            [
             1,
             "#f0f921"
            ]
           ],
           "sequentialminus": [
            [
             0,
             "#0d0887"
            ],
            [
             0.1111111111111111,
             "#46039f"
            ],
            [
             0.2222222222222222,
             "#7201a8"
            ],
            [
             0.3333333333333333,
             "#9c179e"
            ],
            [
             0.4444444444444444,
             "#bd3786"
            ],
            [
             0.5555555555555556,
             "#d8576b"
            ],
            [
             0.6666666666666666,
             "#ed7953"
            ],
            [
             0.7777777777777778,
             "#fb9f3a"
            ],
            [
             0.8888888888888888,
             "#fdca26"
            ],
            [
             1,
             "#f0f921"
            ]
           ]
          },
          "colorway": [
           "#636efa",
           "#EF553B",
           "#00cc96",
           "#ab63fa",
           "#FFA15A",
           "#19d3f3",
           "#FF6692",
           "#B6E880",
           "#FF97FF",
           "#FECB52"
          ],
          "font": {
           "color": "#2a3f5f"
          },
          "geo": {
           "bgcolor": "white",
           "lakecolor": "white",
           "landcolor": "#E5ECF6",
           "showlakes": true,
           "showland": true,
           "subunitcolor": "white"
          },
          "hoverlabel": {
           "align": "left"
          },
          "hovermode": "closest",
          "mapbox": {
           "style": "light"
          },
          "paper_bgcolor": "white",
          "plot_bgcolor": "#E5ECF6",
          "polar": {
           "angularaxis": {
            "gridcolor": "white",
            "linecolor": "white",
            "ticks": ""
           },
           "bgcolor": "#E5ECF6",
           "radialaxis": {
            "gridcolor": "white",
            "linecolor": "white",
            "ticks": ""
           }
          },
          "scene": {
           "xaxis": {
            "backgroundcolor": "#E5ECF6",
            "gridcolor": "white",
            "gridwidth": 2,
            "linecolor": "white",
            "showbackground": true,
            "ticks": "",
            "zerolinecolor": "white"
           },
           "yaxis": {
            "backgroundcolor": "#E5ECF6",
            "gridcolor": "white",
            "gridwidth": 2,
            "linecolor": "white",
            "showbackground": true,
            "ticks": "",
            "zerolinecolor": "white"
           },
           "zaxis": {
            "backgroundcolor": "#E5ECF6",
            "gridcolor": "white",
            "gridwidth": 2,
            "linecolor": "white",
            "showbackground": true,
            "ticks": "",
            "zerolinecolor": "white"
           }
          },
          "shapedefaults": {
           "line": {
            "color": "#2a3f5f"
           }
          },
          "ternary": {
           "aaxis": {
            "gridcolor": "white",
            "linecolor": "white",
            "ticks": ""
           },
           "baxis": {
            "gridcolor": "white",
            "linecolor": "white",
            "ticks": ""
           },
           "bgcolor": "#E5ECF6",
           "caxis": {
            "gridcolor": "white",
            "linecolor": "white",
            "ticks": ""
           }
          },
          "title": {
           "x": 0.05
          },
          "xaxis": {
           "automargin": true,
           "gridcolor": "white",
           "linecolor": "white",
           "ticks": "",
           "title": {
            "standoff": 15
           },
           "zerolinecolor": "white",
           "zerolinewidth": 2
          },
          "yaxis": {
           "automargin": true,
           "gridcolor": "white",
           "linecolor": "white",
           "ticks": "",
           "title": {
            "standoff": 15
           },
           "zerolinecolor": "white",
           "zerolinewidth": 2
          }
         }
        },
        "title": {
         "text": "Time Series with Rangeslider"
        },
        "xaxis": {
         "rangeslider": {
          "visible": true
         }
        }
       }
      },
      "text/html": [
       "<div>\n",
       "        \n",
       "        \n",
       "            <div id=\"adbd8461-b03e-4f9a-9cfb-0777cb2ca92f\" class=\"plotly-graph-div\" style=\"height:525px; width:100%;\"></div>\n",
       "            <script type=\"text/javascript\">\n",
       "                require([\"plotly\"], function(Plotly) {\n",
       "                    window.PLOTLYENV=window.PLOTLYENV || {};\n",
       "                    \n",
       "                if (document.getElementById(\"adbd8461-b03e-4f9a-9cfb-0777cb2ca92f\")) {\n",
       "                    Plotly.newPlot(\n",
       "                        'adbd8461-b03e-4f9a-9cfb-0777cb2ca92f',\n",
       "                        [{\"line\": {\"color\": \"black\"}, \"name\": \"NHS CORBY CCG\", \"type\": \"scatter\", \"x\": [\"2014-08-01\", \"2014-09-01\", \"2014-10-01\", \"2014-11-01\", \"2014-12-01\", \"2015-01-01\", \"2015-02-01\", \"2015-03-01\", \"2015-04-01\", \"2015-05-01\", \"2015-06-01\", \"2015-07-01\", \"2015-08-01\", \"2015-09-01\", \"2015-10-01\", \"2015-11-01\", \"2015-12-01\", \"2016-01-01\", \"2016-02-01\", \"2016-03-01\", \"2016-04-01\", \"2016-05-01\", \"2016-06-01\", \"2016-07-01\", \"2016-08-01\", \"2016-09-01\", \"2016-10-01\", \"2016-11-01\", \"2016-12-01\", \"2017-01-01\", \"2017-02-01\", \"2017-03-01\", \"2017-04-01\", \"2017-05-01\", \"2017-06-01\", \"2017-07-01\", \"2017-08-01\", \"2017-09-01\", \"2017-10-01\", \"2017-11-01\", \"2017-12-01\", \"2018-01-01\", \"2018-02-01\", \"2018-03-01\", \"2018-04-01\", \"2018-05-01\", \"2018-06-01\", \"2018-07-01\", \"2018-08-01\", \"2018-09-01\", \"2018-10-01\", \"2018-11-01\", \"2018-12-01\", \"2019-01-01\", \"2019-02-01\", \"2019-03-01\", \"2019-04-01\", \"2019-05-01\", \"2019-06-01\", \"2019-07-01\"], \"y\": [4021, 4040, 4274, 3848, 4364, 4197, 3899, 4400, 4308, 4491, 4409, 4605, 4347, 4535, 4690, 4233, 5391, 5030, 4582, 4410, 4673, 4765, 4531, 4420, 4665, 5214, 5323, 5216, 5252, 4890, 4481, 5197, 4513, 4977, 5086, 4911, 4913, 4814, 5122, 4966, 4711, 5306, 4791, 5040, 5236, 5187, 5093, 5308, 5368, 4965, 5362, 5245, 5248, 5793, 4858, 5424, 4917, 5580, 5210, 5474]}, {\"line\": {\"color\": \"pink\"}, \"name\": \"NHS NOTTINGHAM WEST CCG\", \"type\": \"scatter\", \"x\": [\"2014-08-01\", \"2014-09-01\", \"2014-10-01\", \"2014-11-01\", \"2014-12-01\", \"2015-01-01\", \"2015-02-01\", \"2015-03-01\", \"2015-04-01\", \"2015-05-01\", \"2015-06-01\", \"2015-07-01\", \"2015-08-01\", \"2015-09-01\", \"2015-10-01\", \"2015-11-01\", \"2015-12-01\", \"2016-01-01\", \"2016-02-01\", \"2016-03-01\", \"2016-04-01\", \"2016-05-01\", \"2016-06-01\", \"2016-07-01\", \"2016-08-01\", \"2016-09-01\", \"2016-10-01\", \"2016-11-01\", \"2016-12-01\", \"2017-01-01\", \"2017-02-01\", \"2017-03-01\", \"2017-04-01\", \"2017-05-01\", \"2017-06-01\", \"2017-07-01\", \"2017-08-01\", \"2017-09-01\", \"2017-10-01\", \"2017-11-01\", \"2017-12-01\", \"2018-01-01\", \"2018-02-01\", \"2018-03-01\", \"2018-04-01\", \"2018-05-01\", \"2018-06-01\", \"2018-07-01\", \"2018-08-01\", \"2018-09-01\", \"2018-10-01\", \"2018-11-01\", \"2018-12-01\", \"2019-01-01\", \"2019-02-01\", \"2019-03-01\", \"2019-04-01\", \"2019-05-01\", \"2019-06-01\", \"2019-07-01\"], \"y\": [4404, 4529, 4758, 4270, 5008, 4836, 4518, 5082, 4585, 4644, 4991, 5181, 4646, 4866, 5301, 4848, 5432, 4891, 4896, 5044, 5084, 5007, 4966, 4879, 5115, 5234, 4848, 4954, 5280, 4807, 4556, 5578, 4857, 5280, 5382, 5205, 5371, 5126, 5413, 5358, 5406, 5503, 4962, 5467, 5297, 5510, 5391, 5512, 5679, 5575, 5795, 5708, 5511, 5914, 5238, 5796, 5524, 5849, 5467, 6067]}, {\"line\": {\"color\": \"silver\"}, \"name\": \"NHS RUSHCLIFFE CCG\", \"type\": \"scatter\", \"x\": [\"2014-08-01\", \"2014-09-01\", \"2014-10-01\", \"2014-11-01\", \"2014-12-01\", \"2015-01-01\", \"2015-02-01\", \"2015-03-01\", \"2015-04-01\", \"2015-05-01\", \"2015-06-01\", \"2015-07-01\", \"2015-08-01\", \"2015-09-01\", \"2015-10-01\", \"2015-11-01\", \"2015-12-01\", \"2016-01-01\", \"2016-02-01\", \"2016-03-01\", \"2016-04-01\", \"2016-05-01\", \"2016-06-01\", \"2016-07-01\", \"2016-08-01\", \"2016-09-01\", \"2016-10-01\", \"2016-11-01\", \"2016-12-01\", \"2017-01-01\", \"2017-02-01\", \"2017-03-01\", \"2017-04-01\", \"2017-05-01\", \"2017-06-01\", \"2017-07-01\", \"2017-08-01\", \"2017-09-01\", \"2017-10-01\", \"2017-11-01\", \"2017-12-01\", \"2018-01-01\", \"2018-02-01\", \"2018-03-01\", \"2018-04-01\", \"2018-05-01\", \"2018-06-01\", \"2018-07-01\", \"2018-08-01\", \"2018-09-01\", \"2018-10-01\", \"2018-11-01\", \"2018-12-01\", \"2019-01-01\", \"2019-02-01\", \"2019-03-01\", \"2019-04-01\", \"2019-05-01\", \"2019-06-01\", \"2019-07-01\"], \"y\": [4536, 4933, 4807, 4814, 5389, 5038, 4626, 5336, 5001, 4886, 5102, 5363, 4782, 5347, 5374, 5345, 5651, 5261, 5050, 5510, 5476, 5240, 5449, 5419, 5184, 5288, 5617, 5794, 5690, 5563, 5085, 5940, 5103, 5800, 5854, 5627, 5741, 5715, 6045, 5952, 6036, 6262, 5375, 6157, 5921, 6162, 6161, 6373, 6242, 5889, 6697, 6215, 6488, 6678, 5996, 6509, 6410, 6665, 6309, 6928]}],\n",
       "                        {\"template\": {\"data\": {\"bar\": [{\"error_x\": {\"color\": \"#2a3f5f\"}, \"error_y\": {\"color\": \"#2a3f5f\"}, \"marker\": {\"line\": {\"color\": \"#E5ECF6\", \"width\": 0.5}}, \"type\": \"bar\"}], \"barpolar\": [{\"marker\": {\"line\": {\"color\": \"#E5ECF6\", \"width\": 0.5}}, \"type\": \"barpolar\"}], \"carpet\": [{\"aaxis\": {\"endlinecolor\": \"#2a3f5f\", \"gridcolor\": \"white\", \"linecolor\": \"white\", \"minorgridcolor\": \"white\", \"startlinecolor\": \"#2a3f5f\"}, \"baxis\": {\"endlinecolor\": \"#2a3f5f\", \"gridcolor\": \"white\", \"linecolor\": \"white\", \"minorgridcolor\": \"white\", \"startlinecolor\": \"#2a3f5f\"}, \"type\": \"carpet\"}], \"choropleth\": [{\"colorbar\": {\"outlinewidth\": 0, \"ticks\": \"\"}, \"type\": \"choropleth\"}], \"contour\": [{\"colorbar\": {\"outlinewidth\": 0, \"ticks\": \"\"}, \"colorscale\": [[0.0, \"#0d0887\"], [0.1111111111111111, \"#46039f\"], [0.2222222222222222, \"#7201a8\"], [0.3333333333333333, \"#9c179e\"], [0.4444444444444444, \"#bd3786\"], [0.5555555555555556, \"#d8576b\"], [0.6666666666666666, \"#ed7953\"], [0.7777777777777778, \"#fb9f3a\"], [0.8888888888888888, \"#fdca26\"], [1.0, \"#f0f921\"]], \"type\": \"contour\"}], \"contourcarpet\": [{\"colorbar\": {\"outlinewidth\": 0, \"ticks\": \"\"}, \"type\": \"contourcarpet\"}], \"heatmap\": [{\"colorbar\": {\"outlinewidth\": 0, \"ticks\": \"\"}, \"colorscale\": [[0.0, \"#0d0887\"], [0.1111111111111111, \"#46039f\"], [0.2222222222222222, \"#7201a8\"], [0.3333333333333333, \"#9c179e\"], [0.4444444444444444, \"#bd3786\"], [0.5555555555555556, \"#d8576b\"], [0.6666666666666666, \"#ed7953\"], [0.7777777777777778, \"#fb9f3a\"], [0.8888888888888888, \"#fdca26\"], [1.0, \"#f0f921\"]], \"type\": \"heatmap\"}], \"heatmapgl\": [{\"colorbar\": {\"outlinewidth\": 0, \"ticks\": \"\"}, \"colorscale\": [[0.0, \"#0d0887\"], [0.1111111111111111, \"#46039f\"], [0.2222222222222222, \"#7201a8\"], [0.3333333333333333, \"#9c179e\"], [0.4444444444444444, \"#bd3786\"], [0.5555555555555556, \"#d8576b\"], [0.6666666666666666, \"#ed7953\"], [0.7777777777777778, \"#fb9f3a\"], [0.8888888888888888, \"#fdca26\"], [1.0, \"#f0f921\"]], \"type\": \"heatmapgl\"}], \"histogram\": [{\"marker\": {\"colorbar\": {\"outlinewidth\": 0, \"ticks\": \"\"}}, \"type\": \"histogram\"}], \"histogram2d\": [{\"colorbar\": {\"outlinewidth\": 0, \"ticks\": \"\"}, \"colorscale\": [[0.0, \"#0d0887\"], [0.1111111111111111, \"#46039f\"], [0.2222222222222222, \"#7201a8\"], [0.3333333333333333, \"#9c179e\"], [0.4444444444444444, \"#bd3786\"], [0.5555555555555556, \"#d8576b\"], [0.6666666666666666, \"#ed7953\"], [0.7777777777777778, \"#fb9f3a\"], [0.8888888888888888, \"#fdca26\"], [1.0, \"#f0f921\"]], \"type\": \"histogram2d\"}], \"histogram2dcontour\": [{\"colorbar\": {\"outlinewidth\": 0, \"ticks\": \"\"}, \"colorscale\": [[0.0, \"#0d0887\"], [0.1111111111111111, \"#46039f\"], [0.2222222222222222, \"#7201a8\"], [0.3333333333333333, \"#9c179e\"], [0.4444444444444444, \"#bd3786\"], [0.5555555555555556, \"#d8576b\"], [0.6666666666666666, \"#ed7953\"], [0.7777777777777778, \"#fb9f3a\"], [0.8888888888888888, \"#fdca26\"], [1.0, \"#f0f921\"]], \"type\": \"histogram2dcontour\"}], \"mesh3d\": [{\"colorbar\": {\"outlinewidth\": 0, \"ticks\": \"\"}, \"type\": \"mesh3d\"}], \"parcoords\": [{\"line\": {\"colorbar\": {\"outlinewidth\": 0, \"ticks\": \"\"}}, \"type\": \"parcoords\"}], \"pie\": [{\"automargin\": true, \"type\": \"pie\"}], \"scatter\": [{\"marker\": {\"colorbar\": {\"outlinewidth\": 0, \"ticks\": \"\"}}, \"type\": \"scatter\"}], \"scatter3d\": [{\"line\": {\"colorbar\": {\"outlinewidth\": 0, \"ticks\": \"\"}}, \"marker\": {\"colorbar\": {\"outlinewidth\": 0, \"ticks\": \"\"}}, \"type\": \"scatter3d\"}], \"scattercarpet\": [{\"marker\": {\"colorbar\": {\"outlinewidth\": 0, \"ticks\": \"\"}}, \"type\": \"scattercarpet\"}], \"scattergeo\": [{\"marker\": {\"colorbar\": {\"outlinewidth\": 0, \"ticks\": \"\"}}, \"type\": \"scattergeo\"}], \"scattergl\": [{\"marker\": {\"colorbar\": {\"outlinewidth\": 0, \"ticks\": \"\"}}, \"type\": \"scattergl\"}], \"scattermapbox\": [{\"marker\": {\"colorbar\": {\"outlinewidth\": 0, \"ticks\": \"\"}}, \"type\": \"scattermapbox\"}], \"scatterpolar\": [{\"marker\": {\"colorbar\": {\"outlinewidth\": 0, \"ticks\": \"\"}}, \"type\": \"scatterpolar\"}], \"scatterpolargl\": [{\"marker\": {\"colorbar\": {\"outlinewidth\": 0, \"ticks\": \"\"}}, \"type\": \"scatterpolargl\"}], \"scatterternary\": [{\"marker\": {\"colorbar\": {\"outlinewidth\": 0, \"ticks\": \"\"}}, \"type\": \"scatterternary\"}], \"surface\": [{\"colorbar\": {\"outlinewidth\": 0, \"ticks\": \"\"}, \"colorscale\": [[0.0, \"#0d0887\"], [0.1111111111111111, \"#46039f\"], [0.2222222222222222, \"#7201a8\"], [0.3333333333333333, \"#9c179e\"], [0.4444444444444444, \"#bd3786\"], [0.5555555555555556, \"#d8576b\"], [0.6666666666666666, \"#ed7953\"], [0.7777777777777778, \"#fb9f3a\"], [0.8888888888888888, \"#fdca26\"], [1.0, \"#f0f921\"]], \"type\": \"surface\"}], \"table\": [{\"cells\": {\"fill\": {\"color\": \"#EBF0F8\"}, \"line\": {\"color\": \"white\"}}, \"header\": {\"fill\": {\"color\": \"#C8D4E3\"}, \"line\": {\"color\": \"white\"}}, \"type\": \"table\"}]}, \"layout\": {\"annotationdefaults\": {\"arrowcolor\": \"#2a3f5f\", \"arrowhead\": 0, \"arrowwidth\": 1}, \"coloraxis\": {\"colorbar\": {\"outlinewidth\": 0, \"ticks\": \"\"}}, \"colorscale\": {\"diverging\": [[0, \"#8e0152\"], [0.1, \"#c51b7d\"], [0.2, \"#de77ae\"], [0.3, \"#f1b6da\"], [0.4, \"#fde0ef\"], [0.5, \"#f7f7f7\"], [0.6, \"#e6f5d0\"], [0.7, \"#b8e186\"], [0.8, \"#7fbc41\"], [0.9, \"#4d9221\"], [1, \"#276419\"]], \"sequential\": [[0.0, \"#0d0887\"], [0.1111111111111111, \"#46039f\"], [0.2222222222222222, \"#7201a8\"], [0.3333333333333333, \"#9c179e\"], [0.4444444444444444, \"#bd3786\"], [0.5555555555555556, \"#d8576b\"], [0.6666666666666666, \"#ed7953\"], [0.7777777777777778, \"#fb9f3a\"], [0.8888888888888888, \"#fdca26\"], [1.0, \"#f0f921\"]], \"sequentialminus\": [[0.0, \"#0d0887\"], [0.1111111111111111, \"#46039f\"], [0.2222222222222222, \"#7201a8\"], [0.3333333333333333, \"#9c179e\"], [0.4444444444444444, \"#bd3786\"], [0.5555555555555556, \"#d8576b\"], [0.6666666666666666, \"#ed7953\"], [0.7777777777777778, \"#fb9f3a\"], [0.8888888888888888, \"#fdca26\"], [1.0, \"#f0f921\"]]}, \"colorway\": [\"#636efa\", \"#EF553B\", \"#00cc96\", \"#ab63fa\", \"#FFA15A\", \"#19d3f3\", \"#FF6692\", \"#B6E880\", \"#FF97FF\", \"#FECB52\"], \"font\": {\"color\": \"#2a3f5f\"}, \"geo\": {\"bgcolor\": \"white\", \"lakecolor\": \"white\", \"landcolor\": \"#E5ECF6\", \"showlakes\": true, \"showland\": true, \"subunitcolor\": \"white\"}, \"hoverlabel\": {\"align\": \"left\"}, \"hovermode\": \"closest\", \"mapbox\": {\"style\": \"light\"}, \"paper_bgcolor\": \"white\", \"plot_bgcolor\": \"#E5ECF6\", \"polar\": {\"angularaxis\": {\"gridcolor\": \"white\", \"linecolor\": \"white\", \"ticks\": \"\"}, \"bgcolor\": \"#E5ECF6\", \"radialaxis\": {\"gridcolor\": \"white\", \"linecolor\": \"white\", \"ticks\": \"\"}}, \"scene\": {\"xaxis\": {\"backgroundcolor\": \"#E5ECF6\", \"gridcolor\": \"white\", \"gridwidth\": 2, \"linecolor\": \"white\", \"showbackground\": true, \"ticks\": \"\", \"zerolinecolor\": \"white\"}, \"yaxis\": {\"backgroundcolor\": \"#E5ECF6\", \"gridcolor\": \"white\", \"gridwidth\": 2, \"linecolor\": \"white\", \"showbackground\": true, \"ticks\": \"\", \"zerolinecolor\": \"white\"}, \"zaxis\": {\"backgroundcolor\": \"#E5ECF6\", \"gridcolor\": \"white\", \"gridwidth\": 2, \"linecolor\": \"white\", \"showbackground\": true, \"ticks\": \"\", \"zerolinecolor\": \"white\"}}, \"shapedefaults\": {\"line\": {\"color\": \"#2a3f5f\"}}, \"ternary\": {\"aaxis\": {\"gridcolor\": \"white\", \"linecolor\": \"white\", \"ticks\": \"\"}, \"baxis\": {\"gridcolor\": \"white\", \"linecolor\": \"white\", \"ticks\": \"\"}, \"bgcolor\": \"#E5ECF6\", \"caxis\": {\"gridcolor\": \"white\", \"linecolor\": \"white\", \"ticks\": \"\"}}, \"title\": {\"x\": 0.05}, \"xaxis\": {\"automargin\": true, \"gridcolor\": \"white\", \"linecolor\": \"white\", \"ticks\": \"\", \"title\": {\"standoff\": 15}, \"zerolinecolor\": \"white\", \"zerolinewidth\": 2}, \"yaxis\": {\"automargin\": true, \"gridcolor\": \"white\", \"linecolor\": \"white\", \"ticks\": \"\", \"title\": {\"standoff\": 15}, \"zerolinecolor\": \"white\", \"zerolinewidth\": 2}}}, \"title\": {\"text\": \"Time Series with Rangeslider\"}, \"xaxis\": {\"rangeslider\": {\"visible\": true}}},\n",
       "                        {\"responsive\": true}\n",
       "                    ).then(function(){\n",
       "                            \n",
       "var gd = document.getElementById('adbd8461-b03e-4f9a-9cfb-0777cb2ca92f');\n",
       "var x = new MutationObserver(function (mutations, observer) {{\n",
       "        var display = window.getComputedStyle(gd).display;\n",
       "        if (!display || display === 'none') {{\n",
       "            console.log([gd, 'removed!']);\n",
       "            Plotly.purge(gd);\n",
       "            observer.disconnect();\n",
       "        }}\n",
       "}});\n",
       "\n",
       "// Listen for the removal of the full notebook cells\n",
       "var notebookContainer = gd.closest('#notebook-container');\n",
       "if (notebookContainer) {{\n",
       "    x.observe(notebookContainer, {childList: true});\n",
       "}}\n",
       "\n",
       "// Listen for the clearing of the current output cell\n",
       "var outputEl = gd.closest('.output');\n",
       "if (outputEl) {{\n",
       "    x.observe(outputEl, {childList: true});\n",
       "}}\n",
       "\n",
       "                        })\n",
       "                };\n",
       "                });\n",
       "            </script>\n",
       "        </div>"
      ]
     },
     "metadata": {},
     "output_type": "display_data"
    }
   ],
   "source": [
    "plot_items_ccg(req_names = ccg_elements, req_months = months_elements, req_year = years_elements, attribute = 'y_items')"
   ]
  },
  {
   "cell_type": "markdown",
   "metadata": {},
   "source": [
    "## Sort the data frame by an attribute"
   ]
  },
  {
   "cell_type": "code",
   "execution_count": 74,
   "metadata": {
    "scrolled": false
   },
   "outputs": [
    {
     "data": {
      "text/html": [
       "<div>\n",
       "<style scoped>\n",
       "    .dataframe tbody tr th:only-of-type {\n",
       "        vertical-align: middle;\n",
       "    }\n",
       "\n",
       "    .dataframe tbody tr th {\n",
       "        vertical-align: top;\n",
       "    }\n",
       "\n",
       "    .dataframe thead th {\n",
       "        text-align: right;\n",
       "    }\n",
       "</style>\n",
       "<table border=\"1\" class=\"dataframe\">\n",
       "  <thead>\n",
       "    <tr style=\"text-align: right;\">\n",
       "      <th></th>\n",
       "      <th>clinic_name</th>\n",
       "      <th>year</th>\n",
       "      <th>total_spending</th>\n",
       "      <th>number_months</th>\n",
       "      <th>total_units</th>\n",
       "      <th>mean_units_per_month</th>\n",
       "      <th>std</th>\n",
       "      <th>Q1_total_units</th>\n",
       "      <th>Q2_total_units</th>\n",
       "      <th>Q3_total_units</th>\n",
       "      <th>Q4_total_units</th>\n",
       "    </tr>\n",
       "  </thead>\n",
       "  <tbody>\n",
       "    <tr>\n",
       "      <td>2</td>\n",
       "      <td>NHS SURREY HEATH CCG</td>\n",
       "      <td>2016</td>\n",
       "      <td>3.16247e+08</td>\n",
       "      <td>12</td>\n",
       "      <td>46515</td>\n",
       "      <td>3876.25</td>\n",
       "      <td>249.57</td>\n",
       "      <td>11176.0</td>\n",
       "      <td>11254.0</td>\n",
       "      <td>11670.0</td>\n",
       "      <td>12415.0</td>\n",
       "    </tr>\n",
       "    <tr>\n",
       "      <td>8</td>\n",
       "      <td>NHS BRADFORD CITY CCG</td>\n",
       "      <td>2016</td>\n",
       "      <td>3.05364e+08</td>\n",
       "      <td>12</td>\n",
       "      <td>50291</td>\n",
       "      <td>4190.92</td>\n",
       "      <td>111.27</td>\n",
       "      <td>12611.0</td>\n",
       "      <td>12800.0</td>\n",
       "      <td>12416.0</td>\n",
       "      <td>12464.0</td>\n",
       "    </tr>\n",
       "    <tr>\n",
       "      <td>14</td>\n",
       "      <td>NHS CORBY CCG</td>\n",
       "      <td>2016</td>\n",
       "      <td>3.76888e+08</td>\n",
       "      <td>12</td>\n",
       "      <td>58081</td>\n",
       "      <td>4840.08</td>\n",
       "      <td>344.81</td>\n",
       "      <td>14022.0</td>\n",
       "      <td>13969.0</td>\n",
       "      <td>14299.0</td>\n",
       "      <td>15791.0</td>\n",
       "    </tr>\n",
       "    <tr>\n",
       "      <td>20</td>\n",
       "      <td>NHS NOTTINGHAM WEST CCG</td>\n",
       "      <td>2016</td>\n",
       "      <td>5.34446e+08</td>\n",
       "      <td>12</td>\n",
       "      <td>60198</td>\n",
       "      <td>5016.5</td>\n",
       "      <td>140.09</td>\n",
       "      <td>14831.0</td>\n",
       "      <td>15057.0</td>\n",
       "      <td>15228.0</td>\n",
       "      <td>15082.0</td>\n",
       "    </tr>\n",
       "    <tr>\n",
       "      <td>32</td>\n",
       "      <td>NHS RUSHCLIFFE CCG</td>\n",
       "      <td>2016</td>\n",
       "      <td>5.34964e+08</td>\n",
       "      <td>12</td>\n",
       "      <td>64978</td>\n",
       "      <td>5414.83</td>\n",
       "      <td>219.72</td>\n",
       "      <td>15821.0</td>\n",
       "      <td>16165.0</td>\n",
       "      <td>15891.0</td>\n",
       "      <td>17101.0</td>\n",
       "    </tr>\n",
       "    <tr>\n",
       "      <td>...</td>\n",
       "      <td>...</td>\n",
       "      <td>...</td>\n",
       "      <td>...</td>\n",
       "      <td>...</td>\n",
       "      <td>...</td>\n",
       "      <td>...</td>\n",
       "      <td>...</td>\n",
       "      <td>...</td>\n",
       "      <td>...</td>\n",
       "      <td>...</td>\n",
       "      <td>...</td>\n",
       "    </tr>\n",
       "    <tr>\n",
       "      <td>1118</td>\n",
       "      <td>NHS BRISTOL, NORTH SOMERSET AND SOUTH GLOUCEST...</td>\n",
       "      <td>2016</td>\n",
       "      <td>4.28698e+10</td>\n",
       "      <td>12</td>\n",
       "      <td>562428</td>\n",
       "      <td>46869</td>\n",
       "      <td>1630.25</td>\n",
       "      <td>135633.0</td>\n",
       "      <td>140810.0</td>\n",
       "      <td>141298.0</td>\n",
       "      <td>144687.0</td>\n",
       "    </tr>\n",
       "    <tr>\n",
       "      <td>1124</td>\n",
       "      <td>NHS CAMBRIDGESHIRE AND PETERBOROUGH CCG</td>\n",
       "      <td>2016</td>\n",
       "      <td>4.1313e+10</td>\n",
       "      <td>12</td>\n",
       "      <td>605964</td>\n",
       "      <td>50497</td>\n",
       "      <td>1695.87</td>\n",
       "      <td>145940.0</td>\n",
       "      <td>151540.0</td>\n",
       "      <td>152532.0</td>\n",
       "      <td>155952.0</td>\n",
       "    </tr>\n",
       "    <tr>\n",
       "      <td>1130</td>\n",
       "      <td>NHS BIRMINGHAM AND SOLIHULL CCG</td>\n",
       "      <td>2016</td>\n",
       "      <td>5.26252e+10</td>\n",
       "      <td>12</td>\n",
       "      <td>607160</td>\n",
       "      <td>50596.7</td>\n",
       "      <td>1127.66</td>\n",
       "      <td>147790.0</td>\n",
       "      <td>152918.0</td>\n",
       "      <td>153050.0</td>\n",
       "      <td>153402.0</td>\n",
       "    </tr>\n",
       "    <tr>\n",
       "      <td>1136</td>\n",
       "      <td>NHS DERBY AND DERBYSHIRE CCG</td>\n",
       "      <td>2016</td>\n",
       "      <td>6.18934e+10</td>\n",
       "      <td>12</td>\n",
       "      <td>673327</td>\n",
       "      <td>56110.6</td>\n",
       "      <td>1917.17</td>\n",
       "      <td>162143.0</td>\n",
       "      <td>168486.0</td>\n",
       "      <td>170367.0</td>\n",
       "      <td>172331.0</td>\n",
       "    </tr>\n",
       "    <tr>\n",
       "      <td>1142</td>\n",
       "      <td>NHS DEVON CCG</td>\n",
       "      <td>2016</td>\n",
       "      <td>7.74098e+10</td>\n",
       "      <td>12</td>\n",
       "      <td>792448</td>\n",
       "      <td>66037.3</td>\n",
       "      <td>2647.46</td>\n",
       "      <td>188993.0</td>\n",
       "      <td>197817.0</td>\n",
       "      <td>199894.0</td>\n",
       "      <td>205744.0</td>\n",
       "    </tr>\n",
       "  </tbody>\n",
       "</table>\n",
       "<p>191 rows × 11 columns</p>\n",
       "</div>"
      ],
      "text/plain": [
       "                                            clinic_name  year total_spending  \\\n",
       "2                                  NHS SURREY HEATH CCG  2016    3.16247e+08   \n",
       "8                                 NHS BRADFORD CITY CCG  2016    3.05364e+08   \n",
       "14                                        NHS CORBY CCG  2016    3.76888e+08   \n",
       "20                              NHS NOTTINGHAM WEST CCG  2016    5.34446e+08   \n",
       "32                                   NHS RUSHCLIFFE CCG  2016    5.34964e+08   \n",
       "...                                                 ...   ...            ...   \n",
       "1118  NHS BRISTOL, NORTH SOMERSET AND SOUTH GLOUCEST...  2016    4.28698e+10   \n",
       "1124            NHS CAMBRIDGESHIRE AND PETERBOROUGH CCG  2016     4.1313e+10   \n",
       "1130                    NHS BIRMINGHAM AND SOLIHULL CCG  2016    5.26252e+10   \n",
       "1136                       NHS DERBY AND DERBYSHIRE CCG  2016    6.18934e+10   \n",
       "1142                                      NHS DEVON CCG  2016    7.74098e+10   \n",
       "\n",
       "      number_months  total_units mean_units_per_month      std  \\\n",
       "2                12        46515              3876.25   249.57   \n",
       "8                12        50291              4190.92   111.27   \n",
       "14               12        58081              4840.08   344.81   \n",
       "20               12        60198               5016.5   140.09   \n",
       "32               12        64978              5414.83   219.72   \n",
       "...             ...          ...                  ...      ...   \n",
       "1118             12       562428                46869  1630.25   \n",
       "1124             12       605964                50497  1695.87   \n",
       "1130             12       607160              50596.7  1127.66   \n",
       "1136             12       673327              56110.6  1917.17   \n",
       "1142             12       792448              66037.3  2647.46   \n",
       "\n",
       "      Q1_total_units  Q2_total_units  Q3_total_units  Q4_total_units  \n",
       "2            11176.0         11254.0         11670.0         12415.0  \n",
       "8            12611.0         12800.0         12416.0         12464.0  \n",
       "14           14022.0         13969.0         14299.0         15791.0  \n",
       "20           14831.0         15057.0         15228.0         15082.0  \n",
       "32           15821.0         16165.0         15891.0         17101.0  \n",
       "...              ...             ...             ...             ...  \n",
       "1118        135633.0        140810.0        141298.0        144687.0  \n",
       "1124        145940.0        151540.0        152532.0        155952.0  \n",
       "1130        147790.0        152918.0        153050.0        153402.0  \n",
       "1136        162143.0        168486.0        170367.0        172331.0  \n",
       "1142        188993.0        197817.0        199894.0        205744.0  \n",
       "\n",
       "[191 rows x 11 columns]"
      ]
     },
     "execution_count": 74,
     "metadata": {},
     "output_type": "execute_result"
    }
   ],
   "source": [
    "def sort_by_value(dataframe, req_attribute = 'total_units', req_year = years, req_ascending = True):\n",
    "    return dataframe[dataframe['year'] == req_year].sort_values(req_attribute, ascending=req_ascending)\n",
    "\n",
    "\n",
    "sort_by_value(dataframe = res, req_year = 2016, req_attribute = 'Q3_total_units', req_ascending = True)"
   ]
  },
  {
   "cell_type": "markdown",
   "metadata": {},
   "source": [
    "# Predict future total units using a time series forecasting  "
   ]
  },
  {
   "cell_type": "code",
   "execution_count": 79,
   "metadata": {},
   "outputs": [
    {
     "name": "stderr",
     "output_type": "stream",
     "text": [
      "/Users/gabrielrosca98/opt/anaconda3/lib/python3.7/site-packages/statsmodels/tsa/base/tsa_model.py:215: ValueWarning:\n",
      "\n",
      "An unsupported index was provided and will be ignored when e.g. forecasting.\n",
      "\n",
      "/Users/gabrielrosca98/opt/anaconda3/lib/python3.7/site-packages/statsmodels/tsa/base/tsa_model.py:215: ValueWarning:\n",
      "\n",
      "An unsupported index was provided and will be ignored when e.g. forecasting.\n",
      "\n"
     ]
    }
   ],
   "source": [
    "from statsmodels.tsa.arima_model import ARIMA\n",
    "from matplotlib import pyplot\n",
    "\n",
    "model = ARIMA(data[data['name'] == 'NHS SURREY HEATH CCG']['y_items'], order=(5,1,0))\n",
    "model_fit = model.fit(disp=0)\n",
    "# plot residual errors\n",
    "residuals = pd.DataFrame(model_fit.resid)\n",
    "#residuals.plot()\n",
    "#pyplot.show()\n",
    "#residuals.plot(kind='kde')\n",
    "#pyplot.show()\n"
   ]
  },
  {
   "cell_type": "markdown",
   "metadata": {},
   "source": [
    "## Creating the train and test data sets"
   ]
  },
  {
   "cell_type": "code",
   "execution_count": 81,
   "metadata": {},
   "outputs": [],
   "source": [
    "#Select the data for a specific CCG\n",
    "data_set = data[data['name'] == 'NHS SURREY HEATH CCG']['y_items']\n",
    "\n",
    "#Select the percentage of sample for training\n",
    "train_data_size_percent = [0.55, 0.60, 0.65, 0.70, 0.75]\n",
    "\n",
    "#Set the size of the training data\n",
    "size_train = int(len(data_set) * train_data_size_percent[4])"
   ]
  },
  {
   "cell_type": "markdown",
   "metadata": {},
   "source": [
    "## Selecting the training and testing data"
   ]
  },
  {
   "cell_type": "code",
   "execution_count": 82,
   "metadata": {},
   "outputs": [],
   "source": [
    "train_data, test_data = data_set[0:size_train], data_set[size_train:len(data_set)]\n",
    "train_data = train_data.reset_index(drop=True)\n",
    "test_data = test_data.reset_index(drop=True)"
   ]
  },
  {
   "cell_type": "markdown",
   "metadata": {},
   "source": [
    "## Fitting the model with the training data"
   ]
  },
  {
   "cell_type": "code",
   "execution_count": 83,
   "metadata": {},
   "outputs": [
    {
     "name": "stdout",
     "output_type": "stream",
     "text": [
      "Predicted value = 4410.78, Expected value = 4505.00\n",
      "Predicted value = 4471.91, Expected value = 4502.00\n",
      "Predicted value = 4609.96, Expected value = 4314.00\n",
      "Predicted value = 4207.18, Expected value = 4503.00\n",
      "Predicted value = 4470.40, Expected value = 4167.00\n",
      "Predicted value = 4442.01, Expected value = 4519.00\n",
      "Predicted value = 4532.48, Expected value = 4560.00\n",
      "Predicted value = 4549.20, Expected value = 4641.00\n",
      "Predicted value = 4571.96, Expected value = 4758.00\n",
      "Predicted value = 4667.99, Expected value = 4251.00\n",
      "Predicted value = 4510.79, Expected value = 4458.00\n",
      "Predicted value = 4577.98, Expected value = 4563.00\n",
      "Predicted value = 4575.58, Expected value = 4846.00\n",
      "Predicted value = 4789.92, Expected value = 4564.00\n",
      "Predicted value = 4836.09, Expected value = 4355.00\n"
     ]
    }
   ],
   "source": [
    "predictions = list()\n",
    "history = [x for x in train_data]\n",
    "for t in range(len(test_data)):\n",
    "    model = ARIMA(history, order=(5, 1, 0))\n",
    "    model_fit = model.fit(disp=0)\n",
    "    output = model_fit.forecast()\n",
    "    yhat = output[0]\n",
    "    predictions.append(yhat)\n",
    "    obs = test_data[t]\n",
    "    history.append(obs)\n",
    "    print('Predicted value = %.2f, Expected value = %.2f' % (yhat, obs))    "
   ]
  },
  {
   "cell_type": "code",
   "execution_count": 84,
   "metadata": {},
   "outputs": [],
   "source": [
    "def get_prediction_future(req_dataframe, req_ccg_name, req_attribute):\n",
    "    train_data = req_dataframe[req_dataframe['name'] == req_ccg_name][req_attribute]\n",
    "    train_data = [x for x in train_data]\n",
    "    model = ARIMA(train_data, order=(5, 1, 1))\n",
    "    model_fit = model.fit(disp=0)\n",
    "    prediction = model_fit.forecast()\n",
    "    return prediction[0]"
   ]
  },
  {
   "cell_type": "code",
   "execution_count": 85,
   "metadata": {},
   "outputs": [
    {
     "name": "stdout",
     "output_type": "stream",
     "text": [
      "Predicted value = 4576.22\n"
     ]
    }
   ],
   "source": [
    "prediction = get_prediction_future(data, 'NHS SURREY HEATH CCG', 'y_items')\n",
    "print(\"Predicted value = %.2f\" % prediction[0])"
   ]
  },
  {
   "cell_type": "markdown",
   "metadata": {},
   "source": [
    "## Augmented Dickey–Fuller test\n",
    "Check if the time series is stationary - joint probability distribution does not change in time - mean/variance do not change in time.\n",
    "\n",
    "The null hypothesis of the Augmented Dickey-Fuller test is that the time series is non stationary. If the p-value from the test is less than 0.005 then we can "
   ]
  },
  {
   "cell_type": "code",
   "execution_count": 86,
   "metadata": {},
   "outputs": [
    {
     "name": "stdout",
     "output_type": "stream",
     "text": [
      "ADF Statistic: -1.122612\n",
      "p-value: 0.705971\n"
     ]
    }
   ],
   "source": [
    "from statsmodels.tsa.stattools import adfuller\n",
    "from numpy import log\n",
    "result = adfuller(data[data['name']=='NHS NOTTINGHAM WEST CCG']['y_items'].values)\n",
    "print('ADF Statistic: %f' % result[0])\n",
    "print('p-value: %f' % result[1])"
   ]
  }
 ],
 "metadata": {
  "kernelspec": {
   "display_name": "Python 3",
   "language": "python",
   "name": "python3"
  },
  "language_info": {
   "codemirror_mode": {
    "name": "ipython",
    "version": 3
   },
   "file_extension": ".py",
   "mimetype": "text/x-python",
   "name": "python",
   "nbconvert_exporter": "python",
   "pygments_lexer": "ipython3",
   "version": "3.7.4"
  }
 },
 "nbformat": 4,
 "nbformat_minor": 2
}
